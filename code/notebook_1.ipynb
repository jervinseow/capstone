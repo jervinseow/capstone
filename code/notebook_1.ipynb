{
 "cells": [
  {
   "cell_type": "markdown",
   "metadata": {},
   "source": [
    "<img src=\"http://imgur.com/1ZcRyrc.png\" style=\"float: left; margin: 10px; height: 55px\">\n",
    "\n",
    "\n",
    "# Capstone Project: Forecasting HDB Resale Prices\n"
   ]
  },
  {
   "cell_type": "markdown",
   "metadata": {},
   "source": [
    "## Notebook 1/4: Data Cleaning and EDA\n",
    "---"
   ]
  },
  {
   "cell_type": "markdown",
   "metadata": {},
   "source": [
    "## Introduction"
   ]
  },
  {
   "cell_type": "markdown",
   "metadata": {},
   "source": [
    "With more than 1 million flats spread across 24 towns and 3 estates, the Singapore brand of public housing is uniquely different. These flats spell home for over 80% of Singapore's resident population. Singaporeans have two main options when it comes to purchasing a HDB flat; they can either choose to buy a new flat from HDB (BTO) or a resale flat from the open market. Naturally, both types of flats come with their own pros and cons. \n",
    "\n",
    "There are reports stating that demand for resale flats has spiked in recent years, resulting in a reactionary increase in resale flat prices. According to the PropertyGuru Singapore Property Market Report Q2 2022, young families continue to gravitate towards the HDB resale market as a result of the latest round of BTO building delays and their unwillingness to wait through lengthy BTO completion periods, even though their prices are generally higher. Hence, we will be focusing on resale flats in this project.\n",
    "\n",
    "In a [typical resale flat transaction](https://www.hdb.gov.sg/residential/buying-a-flat/buying-procedure-for-resale-flats/overview), an accurate valuation can only be requested after registering an **Intent to Buy** and obtaining an **Option to Purchase (OTP)**. This is not intuitive as this means that HDB will only provide the valuation after the price is agreed on. If the **Cash Over Valuation (COV)**, the difference between the sale price of the flat and its actual valuation by HDB, exceeds what buyers expect or budget for, they may find it hard to 'cough up' the **COV** in cash. The only way to get an estimate of the **COV** before this stage is through personal due diligence, even for property agents."
   ]
  },
  {
   "cell_type": "markdown",
   "metadata": {},
   "source": [
    "## Problem Statement"
   ]
  },
  {
   "cell_type": "markdown",
   "metadata": {},
   "source": [
    "The aim of this project is to create a model that will give an accurate prediction of the actual valuation that can be utilized by everyone involved in a resale flat transaction, namely the buyers, sellers and property agents). This would inform the relevant parties whether a particular flat is undervalued or overvalued, and in turn give a good estimate of its potential COV."
   ]
  },
  {
   "cell_type": "markdown",
   "metadata": {},
   "source": [
    "---"
   ]
  },
  {
   "cell_type": "markdown",
   "metadata": {},
   "source": [
    "## Data Sources and Description"
   ]
  },
  {
   "cell_type": "markdown",
   "metadata": {},
   "source": [
    "- **[2012-2014](https://data.gov.sg/dataset/resale-flat-prices?resource_id=83b2fc37-ce8c-4df4-968b-370fd818138b):** Resale Flat Prices from March 2012 to December 2014\n",
    "\n",
    "- **[2015-2016](https://data.gov.sg/dataset/resale-flat-prices?resource_id=1b702208-44bf-4829-b620-4615ee19b57c):** Resale Flat Prices from January 2015 to December 2016\n",
    "\n",
    "- **[2017-](https://data.gov.sg/dataset/resale-flat-prices?resource_id=f1765b54-a209-4718-8d38-a39237f502b3):** Resale Flat Prices from January 2017 to July 2022\n",
    "\n",
    "- **[mrt](https://github.com/hxchua/datadoubleconfirm/blob/master/datasets/mrtsg.csv):** MRT Station Information (Updated TE Line details + removed unused stations)\n",
    "\n",
    "- **[malls](https://en.wikipedia.org/wiki/List_of_shopping_malls_in_Singapore):** Data on Shopping Malls in Singapore. (Updated inaccurate mall names + removed malls that closed)\n",
    "\n",
    "- **[supermarkets](https://data.gov.sg/dataset/listing-of-licensed-supermarkets):** Listing of Licensed Supermarkets as at May 2021\n",
    "\n",
    "- **[hawker_centres](https://data.gov.sg/dataset/hawker-centres):** Hawker Centre and Market locations in Singapore. Converted from KML file with location details\n",
    "\n",
    "- **[parks](https://data.gov.sg/dataset/parks):** Park locations in Singapore. Converted from KML file with location details\n",
    "\n",
    "- **[schools](https://data.gov.sg/dataset/school-directory-and-information):** School Directory and Information"
   ]
  },
  {
   "cell_type": "markdown",
   "metadata": {},
   "source": [
    "---"
   ]
  },
  {
   "cell_type": "markdown",
   "metadata": {},
   "source": [
    "## Getting Started"
   ]
  },
  {
   "cell_type": "markdown",
   "metadata": {},
   "source": [
    "### Imports"
   ]
  },
  {
   "cell_type": "code",
   "execution_count": 1,
   "metadata": {},
   "outputs": [],
   "source": [
    "# Importing Libraries\n",
    "import pandas as pd\n",
    "import numpy as np\n",
    "import seaborn as sns\n",
    "import matplotlib.pyplot as plt\n",
    "import plotly.express as px\n",
    "import plotly.io as pio\n",
    "import datetime as dt"
   ]
  },
  {
   "cell_type": "code",
   "execution_count": 2,
   "metadata": {},
   "outputs": [],
   "source": [
    "# Importing relevant csv files\n",
    "df_1 = pd.read_csv('../data/2000-2012.csv')\n",
    "df_2 = pd.read_csv('../data/2012-2014.csv')\n",
    "df_3 = pd.read_csv('../data/2015-2016.csv')\n",
    "df_4 = pd.read_csv('../data/2017-.csv')"
   ]
  },
  {
   "cell_type": "markdown",
   "metadata": {},
   "source": [
    "### Combining Datasets"
   ]
  },
  {
   "cell_type": "code",
   "execution_count": 3,
   "metadata": {},
   "outputs": [
    {
     "name": "stdout",
     "output_type": "stream",
     "text": [
      "(369651, 10)\n"
     ]
    },
    {
     "data": {
      "text/html": [
       "<div>\n",
       "<style scoped>\n",
       "    .dataframe tbody tr th:only-of-type {\n",
       "        vertical-align: middle;\n",
       "    }\n",
       "\n",
       "    .dataframe tbody tr th {\n",
       "        vertical-align: top;\n",
       "    }\n",
       "\n",
       "    .dataframe thead th {\n",
       "        text-align: right;\n",
       "    }\n",
       "</style>\n",
       "<table border=\"1\" class=\"dataframe\">\n",
       "  <thead>\n",
       "    <tr style=\"text-align: right;\">\n",
       "      <th></th>\n",
       "      <th>month</th>\n",
       "      <th>town</th>\n",
       "      <th>flat_type</th>\n",
       "      <th>block</th>\n",
       "      <th>street_name</th>\n",
       "      <th>storey_range</th>\n",
       "      <th>floor_area_sqm</th>\n",
       "      <th>flat_model</th>\n",
       "      <th>lease_commence_date</th>\n",
       "      <th>resale_price</th>\n",
       "    </tr>\n",
       "  </thead>\n",
       "  <tbody>\n",
       "    <tr>\n",
       "      <th>0</th>\n",
       "      <td>2000-01</td>\n",
       "      <td>ANG MO KIO</td>\n",
       "      <td>3 ROOM</td>\n",
       "      <td>170</td>\n",
       "      <td>ANG MO KIO AVE 4</td>\n",
       "      <td>07 TO 09</td>\n",
       "      <td>69.0</td>\n",
       "      <td>Improved</td>\n",
       "      <td>1986</td>\n",
       "      <td>147000.0</td>\n",
       "    </tr>\n",
       "    <tr>\n",
       "      <th>1</th>\n",
       "      <td>2000-01</td>\n",
       "      <td>ANG MO KIO</td>\n",
       "      <td>3 ROOM</td>\n",
       "      <td>174</td>\n",
       "      <td>ANG MO KIO AVE 4</td>\n",
       "      <td>04 TO 06</td>\n",
       "      <td>61.0</td>\n",
       "      <td>Improved</td>\n",
       "      <td>1986</td>\n",
       "      <td>144000.0</td>\n",
       "    </tr>\n",
       "    <tr>\n",
       "      <th>2</th>\n",
       "      <td>2000-01</td>\n",
       "      <td>ANG MO KIO</td>\n",
       "      <td>3 ROOM</td>\n",
       "      <td>216</td>\n",
       "      <td>ANG MO KIO AVE 1</td>\n",
       "      <td>07 TO 09</td>\n",
       "      <td>73.0</td>\n",
       "      <td>New Generation</td>\n",
       "      <td>1976</td>\n",
       "      <td>159000.0</td>\n",
       "    </tr>\n",
       "    <tr>\n",
       "      <th>3</th>\n",
       "      <td>2000-01</td>\n",
       "      <td>ANG MO KIO</td>\n",
       "      <td>3 ROOM</td>\n",
       "      <td>215</td>\n",
       "      <td>ANG MO KIO AVE 1</td>\n",
       "      <td>07 TO 09</td>\n",
       "      <td>73.0</td>\n",
       "      <td>New Generation</td>\n",
       "      <td>1976</td>\n",
       "      <td>167000.0</td>\n",
       "    </tr>\n",
       "    <tr>\n",
       "      <th>4</th>\n",
       "      <td>2000-01</td>\n",
       "      <td>ANG MO KIO</td>\n",
       "      <td>3 ROOM</td>\n",
       "      <td>218</td>\n",
       "      <td>ANG MO KIO AVE 1</td>\n",
       "      <td>07 TO 09</td>\n",
       "      <td>67.0</td>\n",
       "      <td>New Generation</td>\n",
       "      <td>1976</td>\n",
       "      <td>163000.0</td>\n",
       "    </tr>\n",
       "  </tbody>\n",
       "</table>\n",
       "</div>"
      ],
      "text/plain": [
       "     month        town flat_type block       street_name storey_range  \\\n",
       "0  2000-01  ANG MO KIO    3 ROOM   170  ANG MO KIO AVE 4     07 TO 09   \n",
       "1  2000-01  ANG MO KIO    3 ROOM   174  ANG MO KIO AVE 4     04 TO 06   \n",
       "2  2000-01  ANG MO KIO    3 ROOM   216  ANG MO KIO AVE 1     07 TO 09   \n",
       "3  2000-01  ANG MO KIO    3 ROOM   215  ANG MO KIO AVE 1     07 TO 09   \n",
       "4  2000-01  ANG MO KIO    3 ROOM   218  ANG MO KIO AVE 1     07 TO 09   \n",
       "\n",
       "   floor_area_sqm      flat_model  lease_commence_date  resale_price  \n",
       "0            69.0        Improved                 1986      147000.0  \n",
       "1            61.0        Improved                 1986      144000.0  \n",
       "2            73.0  New Generation                 1976      159000.0  \n",
       "3            73.0  New Generation                 1976      167000.0  \n",
       "4            67.0  New Generation                 1976      163000.0  "
      ]
     },
     "execution_count": 3,
     "metadata": {},
     "output_type": "execute_result"
    }
   ],
   "source": [
    "# First look at df_1\n",
    "print(df_1.shape)\n",
    "df_1.head()"
   ]
  },
  {
   "cell_type": "code",
   "execution_count": 4,
   "metadata": {},
   "outputs": [
    {
     "name": "stdout",
     "output_type": "stream",
     "text": [
      "(52203, 10)\n"
     ]
    },
    {
     "data": {
      "text/html": [
       "<div>\n",
       "<style scoped>\n",
       "    .dataframe tbody tr th:only-of-type {\n",
       "        vertical-align: middle;\n",
       "    }\n",
       "\n",
       "    .dataframe tbody tr th {\n",
       "        vertical-align: top;\n",
       "    }\n",
       "\n",
       "    .dataframe thead th {\n",
       "        text-align: right;\n",
       "    }\n",
       "</style>\n",
       "<table border=\"1\" class=\"dataframe\">\n",
       "  <thead>\n",
       "    <tr style=\"text-align: right;\">\n",
       "      <th></th>\n",
       "      <th>month</th>\n",
       "      <th>town</th>\n",
       "      <th>flat_type</th>\n",
       "      <th>block</th>\n",
       "      <th>street_name</th>\n",
       "      <th>storey_range</th>\n",
       "      <th>floor_area_sqm</th>\n",
       "      <th>flat_model</th>\n",
       "      <th>lease_commence_date</th>\n",
       "      <th>resale_price</th>\n",
       "    </tr>\n",
       "  </thead>\n",
       "  <tbody>\n",
       "    <tr>\n",
       "      <th>0</th>\n",
       "      <td>2012-03</td>\n",
       "      <td>ANG MO KIO</td>\n",
       "      <td>2 ROOM</td>\n",
       "      <td>172</td>\n",
       "      <td>ANG MO KIO AVE 4</td>\n",
       "      <td>06 TO 10</td>\n",
       "      <td>45.0</td>\n",
       "      <td>Improved</td>\n",
       "      <td>1986</td>\n",
       "      <td>250000.0</td>\n",
       "    </tr>\n",
       "    <tr>\n",
       "      <th>1</th>\n",
       "      <td>2012-03</td>\n",
       "      <td>ANG MO KIO</td>\n",
       "      <td>2 ROOM</td>\n",
       "      <td>510</td>\n",
       "      <td>ANG MO KIO AVE 8</td>\n",
       "      <td>01 TO 05</td>\n",
       "      <td>44.0</td>\n",
       "      <td>Improved</td>\n",
       "      <td>1980</td>\n",
       "      <td>265000.0</td>\n",
       "    </tr>\n",
       "    <tr>\n",
       "      <th>2</th>\n",
       "      <td>2012-03</td>\n",
       "      <td>ANG MO KIO</td>\n",
       "      <td>3 ROOM</td>\n",
       "      <td>610</td>\n",
       "      <td>ANG MO KIO AVE 4</td>\n",
       "      <td>06 TO 10</td>\n",
       "      <td>68.0</td>\n",
       "      <td>New Generation</td>\n",
       "      <td>1980</td>\n",
       "      <td>315000.0</td>\n",
       "    </tr>\n",
       "    <tr>\n",
       "      <th>3</th>\n",
       "      <td>2012-03</td>\n",
       "      <td>ANG MO KIO</td>\n",
       "      <td>3 ROOM</td>\n",
       "      <td>474</td>\n",
       "      <td>ANG MO KIO AVE 10</td>\n",
       "      <td>01 TO 05</td>\n",
       "      <td>67.0</td>\n",
       "      <td>New Generation</td>\n",
       "      <td>1984</td>\n",
       "      <td>320000.0</td>\n",
       "    </tr>\n",
       "    <tr>\n",
       "      <th>4</th>\n",
       "      <td>2012-03</td>\n",
       "      <td>ANG MO KIO</td>\n",
       "      <td>3 ROOM</td>\n",
       "      <td>604</td>\n",
       "      <td>ANG MO KIO AVE 5</td>\n",
       "      <td>06 TO 10</td>\n",
       "      <td>67.0</td>\n",
       "      <td>New Generation</td>\n",
       "      <td>1980</td>\n",
       "      <td>321000.0</td>\n",
       "    </tr>\n",
       "  </tbody>\n",
       "</table>\n",
       "</div>"
      ],
      "text/plain": [
       "     month        town flat_type block        street_name storey_range  \\\n",
       "0  2012-03  ANG MO KIO    2 ROOM   172   ANG MO KIO AVE 4     06 TO 10   \n",
       "1  2012-03  ANG MO KIO    2 ROOM   510   ANG MO KIO AVE 8     01 TO 05   \n",
       "2  2012-03  ANG MO KIO    3 ROOM   610   ANG MO KIO AVE 4     06 TO 10   \n",
       "3  2012-03  ANG MO KIO    3 ROOM   474  ANG MO KIO AVE 10     01 TO 05   \n",
       "4  2012-03  ANG MO KIO    3 ROOM   604   ANG MO KIO AVE 5     06 TO 10   \n",
       "\n",
       "   floor_area_sqm      flat_model  lease_commence_date  resale_price  \n",
       "0            45.0        Improved                 1986      250000.0  \n",
       "1            44.0        Improved                 1980      265000.0  \n",
       "2            68.0  New Generation                 1980      315000.0  \n",
       "3            67.0  New Generation                 1984      320000.0  \n",
       "4            67.0  New Generation                 1980      321000.0  "
      ]
     },
     "execution_count": 4,
     "metadata": {},
     "output_type": "execute_result"
    }
   ],
   "source": [
    "# First look at df_2\n",
    "print(df_2.shape)\n",
    "df_2.head()"
   ]
  },
  {
   "cell_type": "code",
   "execution_count": 5,
   "metadata": {},
   "outputs": [
    {
     "name": "stdout",
     "output_type": "stream",
     "text": [
      "(37153, 11)\n"
     ]
    },
    {
     "data": {
      "text/html": [
       "<div>\n",
       "<style scoped>\n",
       "    .dataframe tbody tr th:only-of-type {\n",
       "        vertical-align: middle;\n",
       "    }\n",
       "\n",
       "    .dataframe tbody tr th {\n",
       "        vertical-align: top;\n",
       "    }\n",
       "\n",
       "    .dataframe thead th {\n",
       "        text-align: right;\n",
       "    }\n",
       "</style>\n",
       "<table border=\"1\" class=\"dataframe\">\n",
       "  <thead>\n",
       "    <tr style=\"text-align: right;\">\n",
       "      <th></th>\n",
       "      <th>month</th>\n",
       "      <th>town</th>\n",
       "      <th>flat_type</th>\n",
       "      <th>block</th>\n",
       "      <th>street_name</th>\n",
       "      <th>storey_range</th>\n",
       "      <th>floor_area_sqm</th>\n",
       "      <th>flat_model</th>\n",
       "      <th>lease_commence_date</th>\n",
       "      <th>remaining_lease</th>\n",
       "      <th>resale_price</th>\n",
       "    </tr>\n",
       "  </thead>\n",
       "  <tbody>\n",
       "    <tr>\n",
       "      <th>0</th>\n",
       "      <td>2015-01</td>\n",
       "      <td>ANG MO KIO</td>\n",
       "      <td>3 ROOM</td>\n",
       "      <td>174</td>\n",
       "      <td>ANG MO KIO AVE 4</td>\n",
       "      <td>07 TO 09</td>\n",
       "      <td>60.0</td>\n",
       "      <td>Improved</td>\n",
       "      <td>1986</td>\n",
       "      <td>70</td>\n",
       "      <td>255000.0</td>\n",
       "    </tr>\n",
       "    <tr>\n",
       "      <th>1</th>\n",
       "      <td>2015-01</td>\n",
       "      <td>ANG MO KIO</td>\n",
       "      <td>3 ROOM</td>\n",
       "      <td>541</td>\n",
       "      <td>ANG MO KIO AVE 10</td>\n",
       "      <td>01 TO 03</td>\n",
       "      <td>68.0</td>\n",
       "      <td>New Generation</td>\n",
       "      <td>1981</td>\n",
       "      <td>65</td>\n",
       "      <td>275000.0</td>\n",
       "    </tr>\n",
       "    <tr>\n",
       "      <th>2</th>\n",
       "      <td>2015-01</td>\n",
       "      <td>ANG MO KIO</td>\n",
       "      <td>3 ROOM</td>\n",
       "      <td>163</td>\n",
       "      <td>ANG MO KIO AVE 4</td>\n",
       "      <td>01 TO 03</td>\n",
       "      <td>69.0</td>\n",
       "      <td>New Generation</td>\n",
       "      <td>1980</td>\n",
       "      <td>64</td>\n",
       "      <td>285000.0</td>\n",
       "    </tr>\n",
       "    <tr>\n",
       "      <th>3</th>\n",
       "      <td>2015-01</td>\n",
       "      <td>ANG MO KIO</td>\n",
       "      <td>3 ROOM</td>\n",
       "      <td>446</td>\n",
       "      <td>ANG MO KIO AVE 10</td>\n",
       "      <td>01 TO 03</td>\n",
       "      <td>68.0</td>\n",
       "      <td>New Generation</td>\n",
       "      <td>1979</td>\n",
       "      <td>63</td>\n",
       "      <td>290000.0</td>\n",
       "    </tr>\n",
       "    <tr>\n",
       "      <th>4</th>\n",
       "      <td>2015-01</td>\n",
       "      <td>ANG MO KIO</td>\n",
       "      <td>3 ROOM</td>\n",
       "      <td>557</td>\n",
       "      <td>ANG MO KIO AVE 10</td>\n",
       "      <td>07 TO 09</td>\n",
       "      <td>68.0</td>\n",
       "      <td>New Generation</td>\n",
       "      <td>1980</td>\n",
       "      <td>64</td>\n",
       "      <td>290000.0</td>\n",
       "    </tr>\n",
       "  </tbody>\n",
       "</table>\n",
       "</div>"
      ],
      "text/plain": [
       "     month        town flat_type block        street_name storey_range  \\\n",
       "0  2015-01  ANG MO KIO    3 ROOM   174   ANG MO KIO AVE 4     07 TO 09   \n",
       "1  2015-01  ANG MO KIO    3 ROOM   541  ANG MO KIO AVE 10     01 TO 03   \n",
       "2  2015-01  ANG MO KIO    3 ROOM   163   ANG MO KIO AVE 4     01 TO 03   \n",
       "3  2015-01  ANG MO KIO    3 ROOM   446  ANG MO KIO AVE 10     01 TO 03   \n",
       "4  2015-01  ANG MO KIO    3 ROOM   557  ANG MO KIO AVE 10     07 TO 09   \n",
       "\n",
       "   floor_area_sqm      flat_model  lease_commence_date  remaining_lease  \\\n",
       "0            60.0        Improved                 1986               70   \n",
       "1            68.0  New Generation                 1981               65   \n",
       "2            69.0  New Generation                 1980               64   \n",
       "3            68.0  New Generation                 1979               63   \n",
       "4            68.0  New Generation                 1980               64   \n",
       "\n",
       "   resale_price  \n",
       "0      255000.0  \n",
       "1      275000.0  \n",
       "2      285000.0  \n",
       "3      290000.0  \n",
       "4      290000.0  "
      ]
     },
     "execution_count": 5,
     "metadata": {},
     "output_type": "execute_result"
    }
   ],
   "source": [
    "# First look at df_3\n",
    "print(df_3.shape)\n",
    "df_3.head()"
   ]
  },
  {
   "cell_type": "code",
   "execution_count": 6,
   "metadata": {},
   "outputs": [
    {
     "name": "stdout",
     "output_type": "stream",
     "text": [
      "(129331, 11)\n"
     ]
    },
    {
     "data": {
      "text/html": [
       "<div>\n",
       "<style scoped>\n",
       "    .dataframe tbody tr th:only-of-type {\n",
       "        vertical-align: middle;\n",
       "    }\n",
       "\n",
       "    .dataframe tbody tr th {\n",
       "        vertical-align: top;\n",
       "    }\n",
       "\n",
       "    .dataframe thead th {\n",
       "        text-align: right;\n",
       "    }\n",
       "</style>\n",
       "<table border=\"1\" class=\"dataframe\">\n",
       "  <thead>\n",
       "    <tr style=\"text-align: right;\">\n",
       "      <th></th>\n",
       "      <th>month</th>\n",
       "      <th>town</th>\n",
       "      <th>flat_type</th>\n",
       "      <th>block</th>\n",
       "      <th>street_name</th>\n",
       "      <th>storey_range</th>\n",
       "      <th>floor_area_sqm</th>\n",
       "      <th>flat_model</th>\n",
       "      <th>lease_commence_date</th>\n",
       "      <th>remaining_lease</th>\n",
       "      <th>resale_price</th>\n",
       "    </tr>\n",
       "  </thead>\n",
       "  <tbody>\n",
       "    <tr>\n",
       "      <th>0</th>\n",
       "      <td>2017-01</td>\n",
       "      <td>ANG MO KIO</td>\n",
       "      <td>2 ROOM</td>\n",
       "      <td>406</td>\n",
       "      <td>ANG MO KIO AVE 10</td>\n",
       "      <td>10 TO 12</td>\n",
       "      <td>44.0</td>\n",
       "      <td>Improved</td>\n",
       "      <td>1979</td>\n",
       "      <td>61 years 04 months</td>\n",
       "      <td>232000.0</td>\n",
       "    </tr>\n",
       "    <tr>\n",
       "      <th>1</th>\n",
       "      <td>2017-01</td>\n",
       "      <td>ANG MO KIO</td>\n",
       "      <td>3 ROOM</td>\n",
       "      <td>108</td>\n",
       "      <td>ANG MO KIO AVE 4</td>\n",
       "      <td>01 TO 03</td>\n",
       "      <td>67.0</td>\n",
       "      <td>New Generation</td>\n",
       "      <td>1978</td>\n",
       "      <td>60 years 07 months</td>\n",
       "      <td>250000.0</td>\n",
       "    </tr>\n",
       "    <tr>\n",
       "      <th>2</th>\n",
       "      <td>2017-01</td>\n",
       "      <td>ANG MO KIO</td>\n",
       "      <td>3 ROOM</td>\n",
       "      <td>602</td>\n",
       "      <td>ANG MO KIO AVE 5</td>\n",
       "      <td>01 TO 03</td>\n",
       "      <td>67.0</td>\n",
       "      <td>New Generation</td>\n",
       "      <td>1980</td>\n",
       "      <td>62 years 05 months</td>\n",
       "      <td>262000.0</td>\n",
       "    </tr>\n",
       "    <tr>\n",
       "      <th>3</th>\n",
       "      <td>2017-01</td>\n",
       "      <td>ANG MO KIO</td>\n",
       "      <td>3 ROOM</td>\n",
       "      <td>465</td>\n",
       "      <td>ANG MO KIO AVE 10</td>\n",
       "      <td>04 TO 06</td>\n",
       "      <td>68.0</td>\n",
       "      <td>New Generation</td>\n",
       "      <td>1980</td>\n",
       "      <td>62 years 01 month</td>\n",
       "      <td>265000.0</td>\n",
       "    </tr>\n",
       "    <tr>\n",
       "      <th>4</th>\n",
       "      <td>2017-01</td>\n",
       "      <td>ANG MO KIO</td>\n",
       "      <td>3 ROOM</td>\n",
       "      <td>601</td>\n",
       "      <td>ANG MO KIO AVE 5</td>\n",
       "      <td>01 TO 03</td>\n",
       "      <td>67.0</td>\n",
       "      <td>New Generation</td>\n",
       "      <td>1980</td>\n",
       "      <td>62 years 05 months</td>\n",
       "      <td>265000.0</td>\n",
       "    </tr>\n",
       "  </tbody>\n",
       "</table>\n",
       "</div>"
      ],
      "text/plain": [
       "     month        town flat_type block        street_name storey_range  \\\n",
       "0  2017-01  ANG MO KIO    2 ROOM   406  ANG MO KIO AVE 10     10 TO 12   \n",
       "1  2017-01  ANG MO KIO    3 ROOM   108   ANG MO KIO AVE 4     01 TO 03   \n",
       "2  2017-01  ANG MO KIO    3 ROOM   602   ANG MO KIO AVE 5     01 TO 03   \n",
       "3  2017-01  ANG MO KIO    3 ROOM   465  ANG MO KIO AVE 10     04 TO 06   \n",
       "4  2017-01  ANG MO KIO    3 ROOM   601   ANG MO KIO AVE 5     01 TO 03   \n",
       "\n",
       "   floor_area_sqm      flat_model  lease_commence_date     remaining_lease  \\\n",
       "0            44.0        Improved                 1979  61 years 04 months   \n",
       "1            67.0  New Generation                 1978  60 years 07 months   \n",
       "2            67.0  New Generation                 1980  62 years 05 months   \n",
       "3            68.0  New Generation                 1980   62 years 01 month   \n",
       "4            67.0  New Generation                 1980  62 years 05 months   \n",
       "\n",
       "   resale_price  \n",
       "0      232000.0  \n",
       "1      250000.0  \n",
       "2      262000.0  \n",
       "3      265000.0  \n",
       "4      265000.0  "
      ]
     },
     "execution_count": 6,
     "metadata": {},
     "output_type": "execute_result"
    }
   ],
   "source": [
    "# First look at df_4\n",
    "print(df_4.shape)\n",
    "df_4.head()"
   ]
  },
  {
   "cell_type": "code",
   "execution_count": 7,
   "metadata": {},
   "outputs": [],
   "source": [
    "# Combining the dataframes\n",
    "combined = pd.concat([df_1, df_2, df_3, df_4], ignore_index=True)"
   ]
  },
  {
   "cell_type": "code",
   "execution_count": 8,
   "metadata": {},
   "outputs": [
    {
     "name": "stdout",
     "output_type": "stream",
     "text": [
      "(588338, 11)\n"
     ]
    },
    {
     "data": {
      "text/html": [
       "<div>\n",
       "<style scoped>\n",
       "    .dataframe tbody tr th:only-of-type {\n",
       "        vertical-align: middle;\n",
       "    }\n",
       "\n",
       "    .dataframe tbody tr th {\n",
       "        vertical-align: top;\n",
       "    }\n",
       "\n",
       "    .dataframe thead th {\n",
       "        text-align: right;\n",
       "    }\n",
       "</style>\n",
       "<table border=\"1\" class=\"dataframe\">\n",
       "  <thead>\n",
       "    <tr style=\"text-align: right;\">\n",
       "      <th></th>\n",
       "      <th>month</th>\n",
       "      <th>town</th>\n",
       "      <th>flat_type</th>\n",
       "      <th>block</th>\n",
       "      <th>street_name</th>\n",
       "      <th>storey_range</th>\n",
       "      <th>floor_area_sqm</th>\n",
       "      <th>flat_model</th>\n",
       "      <th>lease_commence_date</th>\n",
       "      <th>resale_price</th>\n",
       "      <th>remaining_lease</th>\n",
       "    </tr>\n",
       "  </thead>\n",
       "  <tbody>\n",
       "    <tr>\n",
       "      <th>0</th>\n",
       "      <td>2000-01</td>\n",
       "      <td>ANG MO KIO</td>\n",
       "      <td>3 ROOM</td>\n",
       "      <td>170</td>\n",
       "      <td>ANG MO KIO AVE 4</td>\n",
       "      <td>07 TO 09</td>\n",
       "      <td>69.0</td>\n",
       "      <td>Improved</td>\n",
       "      <td>1986</td>\n",
       "      <td>147000.0</td>\n",
       "      <td>NaN</td>\n",
       "    </tr>\n",
       "    <tr>\n",
       "      <th>1</th>\n",
       "      <td>2000-01</td>\n",
       "      <td>ANG MO KIO</td>\n",
       "      <td>3 ROOM</td>\n",
       "      <td>174</td>\n",
       "      <td>ANG MO KIO AVE 4</td>\n",
       "      <td>04 TO 06</td>\n",
       "      <td>61.0</td>\n",
       "      <td>Improved</td>\n",
       "      <td>1986</td>\n",
       "      <td>144000.0</td>\n",
       "      <td>NaN</td>\n",
       "    </tr>\n",
       "    <tr>\n",
       "      <th>2</th>\n",
       "      <td>2000-01</td>\n",
       "      <td>ANG MO KIO</td>\n",
       "      <td>3 ROOM</td>\n",
       "      <td>216</td>\n",
       "      <td>ANG MO KIO AVE 1</td>\n",
       "      <td>07 TO 09</td>\n",
       "      <td>73.0</td>\n",
       "      <td>New Generation</td>\n",
       "      <td>1976</td>\n",
       "      <td>159000.0</td>\n",
       "      <td>NaN</td>\n",
       "    </tr>\n",
       "    <tr>\n",
       "      <th>3</th>\n",
       "      <td>2000-01</td>\n",
       "      <td>ANG MO KIO</td>\n",
       "      <td>3 ROOM</td>\n",
       "      <td>215</td>\n",
       "      <td>ANG MO KIO AVE 1</td>\n",
       "      <td>07 TO 09</td>\n",
       "      <td>73.0</td>\n",
       "      <td>New Generation</td>\n",
       "      <td>1976</td>\n",
       "      <td>167000.0</td>\n",
       "      <td>NaN</td>\n",
       "    </tr>\n",
       "    <tr>\n",
       "      <th>4</th>\n",
       "      <td>2000-01</td>\n",
       "      <td>ANG MO KIO</td>\n",
       "      <td>3 ROOM</td>\n",
       "      <td>218</td>\n",
       "      <td>ANG MO KIO AVE 1</td>\n",
       "      <td>07 TO 09</td>\n",
       "      <td>67.0</td>\n",
       "      <td>New Generation</td>\n",
       "      <td>1976</td>\n",
       "      <td>163000.0</td>\n",
       "      <td>NaN</td>\n",
       "    </tr>\n",
       "  </tbody>\n",
       "</table>\n",
       "</div>"
      ],
      "text/plain": [
       "     month        town flat_type block       street_name storey_range  \\\n",
       "0  2000-01  ANG MO KIO    3 ROOM   170  ANG MO KIO AVE 4     07 TO 09   \n",
       "1  2000-01  ANG MO KIO    3 ROOM   174  ANG MO KIO AVE 4     04 TO 06   \n",
       "2  2000-01  ANG MO KIO    3 ROOM   216  ANG MO KIO AVE 1     07 TO 09   \n",
       "3  2000-01  ANG MO KIO    3 ROOM   215  ANG MO KIO AVE 1     07 TO 09   \n",
       "4  2000-01  ANG MO KIO    3 ROOM   218  ANG MO KIO AVE 1     07 TO 09   \n",
       "\n",
       "   floor_area_sqm      flat_model  lease_commence_date  resale_price  \\\n",
       "0            69.0        Improved                 1986      147000.0   \n",
       "1            61.0        Improved                 1986      144000.0   \n",
       "2            73.0  New Generation                 1976      159000.0   \n",
       "3            73.0  New Generation                 1976      167000.0   \n",
       "4            67.0  New Generation                 1976      163000.0   \n",
       "\n",
       "  remaining_lease  \n",
       "0             NaN  \n",
       "1             NaN  \n",
       "2             NaN  \n",
       "3             NaN  \n",
       "4             NaN  "
      ]
     },
     "execution_count": 8,
     "metadata": {},
     "output_type": "execute_result"
    }
   ],
   "source": [
    "# Shape and head of combined dataframe\n",
    "print(combined.shape)\n",
    "combined.head()"
   ]
  },
  {
   "cell_type": "code",
   "execution_count": 9,
   "metadata": {},
   "outputs": [
    {
     "name": "stdout",
     "output_type": "stream",
     "text": [
      "<class 'pandas.core.frame.DataFrame'>\n",
      "RangeIndex: 588338 entries, 0 to 588337\n",
      "Data columns (total 11 columns):\n",
      " #   Column               Non-Null Count   Dtype  \n",
      "---  ------               --------------   -----  \n",
      " 0   month                588338 non-null  object \n",
      " 1   town                 588338 non-null  object \n",
      " 2   flat_type            588338 non-null  object \n",
      " 3   block                588338 non-null  object \n",
      " 4   street_name          588338 non-null  object \n",
      " 5   storey_range         588338 non-null  object \n",
      " 6   floor_area_sqm       588338 non-null  float64\n",
      " 7   flat_model           588338 non-null  object \n",
      " 8   lease_commence_date  588338 non-null  int64  \n",
      " 9   resale_price         588338 non-null  float64\n",
      " 10  remaining_lease      166484 non-null  object \n",
      "dtypes: float64(2), int64(1), object(8)\n",
      "memory usage: 49.4+ MB\n"
     ]
    }
   ],
   "source": [
    "combined.info()"
   ]
  },
  {
   "cell_type": "markdown",
   "metadata": {},
   "source": [
    "### Processing the `month` column"
   ]
  },
  {
   "cell_type": "code",
   "execution_count": 10,
   "metadata": {},
   "outputs": [],
   "source": [
    "# Creating a new 'date' column of datetime format \n",
    "combined['date'] = pd.to_datetime(combined['month'])"
   ]
  },
  {
   "cell_type": "code",
   "execution_count": 11,
   "metadata": {},
   "outputs": [],
   "source": [
    "# Extracting the year and month from the date column\n",
    "combined['year'] = pd.to_datetime(combined['date']).dt.year\n",
    "combined['month'] = pd.to_datetime(combined['date']).dt.month"
   ]
  },
  {
   "cell_type": "code",
   "execution_count": 12,
   "metadata": {},
   "outputs": [
    {
     "name": "stdout",
     "output_type": "stream",
     "text": [
      "(588338, 13)\n"
     ]
    },
    {
     "data": {
      "text/html": [
       "<div>\n",
       "<style scoped>\n",
       "    .dataframe tbody tr th:only-of-type {\n",
       "        vertical-align: middle;\n",
       "    }\n",
       "\n",
       "    .dataframe tbody tr th {\n",
       "        vertical-align: top;\n",
       "    }\n",
       "\n",
       "    .dataframe thead th {\n",
       "        text-align: right;\n",
       "    }\n",
       "</style>\n",
       "<table border=\"1\" class=\"dataframe\">\n",
       "  <thead>\n",
       "    <tr style=\"text-align: right;\">\n",
       "      <th></th>\n",
       "      <th>date</th>\n",
       "      <th>year</th>\n",
       "      <th>month</th>\n",
       "      <th>town</th>\n",
       "      <th>flat_type</th>\n",
       "      <th>block</th>\n",
       "      <th>street_name</th>\n",
       "      <th>storey_range</th>\n",
       "      <th>floor_area_sqm</th>\n",
       "      <th>flat_model</th>\n",
       "      <th>lease_commence_date</th>\n",
       "      <th>remaining_lease</th>\n",
       "      <th>resale_price</th>\n",
       "    </tr>\n",
       "  </thead>\n",
       "  <tbody>\n",
       "    <tr>\n",
       "      <th>0</th>\n",
       "      <td>2000-01-01</td>\n",
       "      <td>2000</td>\n",
       "      <td>1</td>\n",
       "      <td>ANG MO KIO</td>\n",
       "      <td>3 ROOM</td>\n",
       "      <td>170</td>\n",
       "      <td>ANG MO KIO AVE 4</td>\n",
       "      <td>07 TO 09</td>\n",
       "      <td>69.0</td>\n",
       "      <td>Improved</td>\n",
       "      <td>1986</td>\n",
       "      <td>NaN</td>\n",
       "      <td>147000.0</td>\n",
       "    </tr>\n",
       "    <tr>\n",
       "      <th>1</th>\n",
       "      <td>2000-01-01</td>\n",
       "      <td>2000</td>\n",
       "      <td>1</td>\n",
       "      <td>ANG MO KIO</td>\n",
       "      <td>3 ROOM</td>\n",
       "      <td>174</td>\n",
       "      <td>ANG MO KIO AVE 4</td>\n",
       "      <td>04 TO 06</td>\n",
       "      <td>61.0</td>\n",
       "      <td>Improved</td>\n",
       "      <td>1986</td>\n",
       "      <td>NaN</td>\n",
       "      <td>144000.0</td>\n",
       "    </tr>\n",
       "    <tr>\n",
       "      <th>2</th>\n",
       "      <td>2000-01-01</td>\n",
       "      <td>2000</td>\n",
       "      <td>1</td>\n",
       "      <td>ANG MO KIO</td>\n",
       "      <td>3 ROOM</td>\n",
       "      <td>216</td>\n",
       "      <td>ANG MO KIO AVE 1</td>\n",
       "      <td>07 TO 09</td>\n",
       "      <td>73.0</td>\n",
       "      <td>New Generation</td>\n",
       "      <td>1976</td>\n",
       "      <td>NaN</td>\n",
       "      <td>159000.0</td>\n",
       "    </tr>\n",
       "    <tr>\n",
       "      <th>3</th>\n",
       "      <td>2000-01-01</td>\n",
       "      <td>2000</td>\n",
       "      <td>1</td>\n",
       "      <td>ANG MO KIO</td>\n",
       "      <td>3 ROOM</td>\n",
       "      <td>215</td>\n",
       "      <td>ANG MO KIO AVE 1</td>\n",
       "      <td>07 TO 09</td>\n",
       "      <td>73.0</td>\n",
       "      <td>New Generation</td>\n",
       "      <td>1976</td>\n",
       "      <td>NaN</td>\n",
       "      <td>167000.0</td>\n",
       "    </tr>\n",
       "    <tr>\n",
       "      <th>4</th>\n",
       "      <td>2000-01-01</td>\n",
       "      <td>2000</td>\n",
       "      <td>1</td>\n",
       "      <td>ANG MO KIO</td>\n",
       "      <td>3 ROOM</td>\n",
       "      <td>218</td>\n",
       "      <td>ANG MO KIO AVE 1</td>\n",
       "      <td>07 TO 09</td>\n",
       "      <td>67.0</td>\n",
       "      <td>New Generation</td>\n",
       "      <td>1976</td>\n",
       "      <td>NaN</td>\n",
       "      <td>163000.0</td>\n",
       "    </tr>\n",
       "  </tbody>\n",
       "</table>\n",
       "</div>"
      ],
      "text/plain": [
       "        date  year  month        town flat_type block       street_name  \\\n",
       "0 2000-01-01  2000      1  ANG MO KIO    3 ROOM   170  ANG MO KIO AVE 4   \n",
       "1 2000-01-01  2000      1  ANG MO KIO    3 ROOM   174  ANG MO KIO AVE 4   \n",
       "2 2000-01-01  2000      1  ANG MO KIO    3 ROOM   216  ANG MO KIO AVE 1   \n",
       "3 2000-01-01  2000      1  ANG MO KIO    3 ROOM   215  ANG MO KIO AVE 1   \n",
       "4 2000-01-01  2000      1  ANG MO KIO    3 ROOM   218  ANG MO KIO AVE 1   \n",
       "\n",
       "  storey_range  floor_area_sqm      flat_model  lease_commence_date  \\\n",
       "0     07 TO 09            69.0        Improved                 1986   \n",
       "1     04 TO 06            61.0        Improved                 1986   \n",
       "2     07 TO 09            73.0  New Generation                 1976   \n",
       "3     07 TO 09            73.0  New Generation                 1976   \n",
       "4     07 TO 09            67.0  New Generation                 1976   \n",
       "\n",
       "  remaining_lease  resale_price  \n",
       "0             NaN      147000.0  \n",
       "1             NaN      144000.0  \n",
       "2             NaN      159000.0  \n",
       "3             NaN      167000.0  \n",
       "4             NaN      163000.0  "
      ]
     },
     "execution_count": 12,
     "metadata": {},
     "output_type": "execute_result"
    }
   ],
   "source": [
    "# Rearranging the columns\n",
    "combined = combined[['date',\n",
    "                     'year',\n",
    "                     'month',\n",
    "                     'town',\n",
    "                     'flat_type',\n",
    "                     'block',\n",
    "                     'street_name',\n",
    "                     'storey_range',\n",
    "                     'floor_area_sqm',\n",
    "                     'flat_model',\n",
    "                     'lease_commence_date',\n",
    "                     'remaining_lease',\n",
    "                     'resale_price']]\n",
    "print(combined.shape)\n",
    "combined.head()\n"
   ]
  },
  {
   "cell_type": "code",
   "execution_count": 13,
   "metadata": {},
   "outputs": [
    {
     "name": "stdout",
     "output_type": "stream",
     "text": [
      "<class 'pandas.core.frame.DataFrame'>\n",
      "RangeIndex: 588338 entries, 0 to 588337\n",
      "Data columns (total 13 columns):\n",
      " #   Column               Non-Null Count   Dtype         \n",
      "---  ------               --------------   -----         \n",
      " 0   date                 588338 non-null  datetime64[ns]\n",
      " 1   year                 588338 non-null  int64         \n",
      " 2   month                588338 non-null  int64         \n",
      " 3   town                 588338 non-null  object        \n",
      " 4   flat_type            588338 non-null  object        \n",
      " 5   block                588338 non-null  object        \n",
      " 6   street_name          588338 non-null  object        \n",
      " 7   storey_range         588338 non-null  object        \n",
      " 8   floor_area_sqm       588338 non-null  float64       \n",
      " 9   flat_model           588338 non-null  object        \n",
      " 10  lease_commence_date  588338 non-null  int64         \n",
      " 11  remaining_lease      166484 non-null  object        \n",
      " 12  resale_price         588338 non-null  float64       \n",
      "dtypes: datetime64[ns](1), float64(2), int64(3), object(7)\n",
      "memory usage: 58.4+ MB\n"
     ]
    }
   ],
   "source": [
    "combined.info()"
   ]
  },
  {
   "cell_type": "markdown",
   "metadata": {},
   "source": [
    "### Feature 1: Town"
   ]
  },
  {
   "cell_type": "markdown",
   "metadata": {},
   "source": [
    "The `town` column contains information for the different [planning areas](https://en.wikipedia.org/wiki/Planning_Areas_of_Singapore#cite_note-7) of Singapore."
   ]
  },
  {
   "cell_type": "code",
   "execution_count": 14,
   "metadata": {},
   "outputs": [
    {
     "data": {
      "text/plain": [
       "array(['ANG MO KIO', 'BEDOK', 'BISHAN', 'BUKIT BATOK', 'BUKIT MERAH',\n",
       "       'BUKIT PANJANG', 'BUKIT TIMAH', 'CENTRAL AREA', 'CHOA CHU KANG',\n",
       "       'CLEMENTI', 'GEYLANG', 'HOUGANG', 'JURONG EAST', 'JURONG WEST',\n",
       "       'KALLANG/WHAMPOA', 'MARINE PARADE', 'PASIR RIS', 'QUEENSTOWN',\n",
       "       'SENGKANG', 'SERANGOON', 'TAMPINES', 'TOA PAYOH', 'WOODLANDS',\n",
       "       'YISHUN', 'SEMBAWANG', 'PUNGGOL'], dtype=object)"
      ]
     },
     "execution_count": 14,
     "metadata": {},
     "output_type": "execute_result"
    }
   ],
   "source": [
    "# List of towns in Singapore\n",
    "combined['town'].unique()"
   ]
  },
  {
   "cell_type": "code",
   "execution_count": 15,
   "metadata": {},
   "outputs": [
    {
     "data": {
      "image/png": "[encoded data removed]",
      "text/plain": [
       "<Figure size 1296x864 with 1 Axes>"
      ]
     },
     "metadata": {
      "needs_background": "light"
     },
     "output_type": "display_data"
    }
   ],
   "source": [
    "# Plotting a barplot of 'town' in descending order\n",
    "plt.figure(figsize=(18,12))\n",
    "ax = sns.countplot(y='town', data=combined, order=combined['town'].value_counts().index, palette='crest_r')\n",
    "plt.title('Distrubution of HDBs in each Town', fontsize=18)\n",
    "values = combined['town'].value_counts().values\n",
    "ax.bar_label(container=ax.containers[0], labels=values);"
   ]
  },
  {
   "cell_type": "markdown",
   "metadata": {},
   "source": [
    "[Bigger towns](https://www.wikiwand.com/en/Template:Largest_planning_areas_of_Singapore) (eg. Woodlands and Tampines) generally have more flats solds compared to smaller towns(eg. Sembawang). "
   ]
  },
  {
   "cell_type": "markdown",
   "metadata": {},
   "source": [
    "### Feature 2: Flat Type"
   ]
  },
  {
   "cell_type": "code",
   "execution_count": 16,
   "metadata": {},
   "outputs": [
    {
     "data": {
      "image/png": "[encoded data removed]",
      "text/plain": [
       "<Figure size 1584x360 with 1 Axes>"
      ]
     },
     "metadata": {
      "needs_background": "light"
     },
     "output_type": "display_data"
    }
   ],
   "source": [
    "# Plotting a barplot of 'flat_type' in descending order\n",
    "plt.figure(figsize=(22, 5))\n",
    "ax = sns.countplot(y='flat_type', data=combined,\n",
    "              order=combined['flat_type'].value_counts().index, palette='crest_r')\n",
    "plt.title('Distrubution of Flat Type', fontsize=18)\n",
    "values = combined['flat_type'].value_counts().values\n",
    "ax.bar_label(container=ax.containers[0], labels=values);"
   ]
  },
  {
   "cell_type": "code",
   "execution_count": 17,
   "metadata": {},
   "outputs": [
    {
     "name": "stdout",
     "output_type": "stream",
     "text": [
      "7109\n",
      "1.21 % of dataset\n"
     ]
    }
   ],
   "source": [
    "# Number of rows with 'flat_type' = `Multi-Generation`, `2 room` and `1 room`\n",
    "print(combined['flat_type'].value_counts().values[-3:].sum())\n",
    "\n",
    "# Finding percentage of 2 room, 1 room and Multi-Generation flats in the dataset\n",
    "print(round(combined['flat_type'].value_counts().values[-3:].sum() / combined['flat_type'].value_counts().values.sum() * 100, 2),'% of dataset')"
   ]
  },
  {
   "cell_type": "markdown",
   "metadata": {},
   "source": [
    "Only 1.2% of our data consists of `Multi-Generation`, `2 room` and `1 room` resale flats. (7109 of 588338 entries).\n",
    "Hence, we should drop these rows as we do not have enough information to make an accurate prediction.\n",
    "The remainder of our dataset will consist of `3 room`, `4 room`, `5 room`, and `Executive` resale flats."
   ]
  },
  {
   "cell_type": "code",
   "execution_count": 18,
   "metadata": {},
   "outputs": [
    {
     "name": "stdout",
     "output_type": "stream",
     "text": [
      "(581229, 13)\n"
     ]
    },
    {
     "data": {
      "text/html": [
       "<div>\n",
       "<style scoped>\n",
       "    .dataframe tbody tr th:only-of-type {\n",
       "        vertical-align: middle;\n",
       "    }\n",
       "\n",
       "    .dataframe tbody tr th {\n",
       "        vertical-align: top;\n",
       "    }\n",
       "\n",
       "    .dataframe thead th {\n",
       "        text-align: right;\n",
       "    }\n",
       "</style>\n",
       "<table border=\"1\" class=\"dataframe\">\n",
       "  <thead>\n",
       "    <tr style=\"text-align: right;\">\n",
       "      <th></th>\n",
       "      <th>date</th>\n",
       "      <th>year</th>\n",
       "      <th>month</th>\n",
       "      <th>town</th>\n",
       "      <th>flat_type</th>\n",
       "      <th>block</th>\n",
       "      <th>street_name</th>\n",
       "      <th>storey_range</th>\n",
       "      <th>floor_area_sqm</th>\n",
       "      <th>flat_model</th>\n",
       "      <th>lease_commence_date</th>\n",
       "      <th>remaining_lease</th>\n",
       "      <th>resale_price</th>\n",
       "    </tr>\n",
       "  </thead>\n",
       "  <tbody>\n",
       "    <tr>\n",
       "      <th>0</th>\n",
       "      <td>2000-01-01</td>\n",
       "      <td>2000</td>\n",
       "      <td>1</td>\n",
       "      <td>ANG MO KIO</td>\n",
       "      <td>3 ROOM</td>\n",
       "      <td>170</td>\n",
       "      <td>ANG MO KIO AVE 4</td>\n",
       "      <td>07 TO 09</td>\n",
       "      <td>69.0</td>\n",
       "      <td>Improved</td>\n",
       "      <td>1986</td>\n",
       "      <td>NaN</td>\n",
       "      <td>147000.0</td>\n",
       "    </tr>\n",
       "    <tr>\n",
       "      <th>1</th>\n",
       "      <td>2000-01-01</td>\n",
       "      <td>2000</td>\n",
       "      <td>1</td>\n",
       "      <td>ANG MO KIO</td>\n",
       "      <td>3 ROOM</td>\n",
       "      <td>174</td>\n",
       "      <td>ANG MO KIO AVE 4</td>\n",
       "      <td>04 TO 06</td>\n",
       "      <td>61.0</td>\n",
       "      <td>Improved</td>\n",
       "      <td>1986</td>\n",
       "      <td>NaN</td>\n",
       "      <td>144000.0</td>\n",
       "    </tr>\n",
       "    <tr>\n",
       "      <th>2</th>\n",
       "      <td>2000-01-01</td>\n",
       "      <td>2000</td>\n",
       "      <td>1</td>\n",
       "      <td>ANG MO KIO</td>\n",
       "      <td>3 ROOM</td>\n",
       "      <td>216</td>\n",
       "      <td>ANG MO KIO AVE 1</td>\n",
       "      <td>07 TO 09</td>\n",
       "      <td>73.0</td>\n",
       "      <td>New Generation</td>\n",
       "      <td>1976</td>\n",
       "      <td>NaN</td>\n",
       "      <td>159000.0</td>\n",
       "    </tr>\n",
       "    <tr>\n",
       "      <th>3</th>\n",
       "      <td>2000-01-01</td>\n",
       "      <td>2000</td>\n",
       "      <td>1</td>\n",
       "      <td>ANG MO KIO</td>\n",
       "      <td>3 ROOM</td>\n",
       "      <td>215</td>\n",
       "      <td>ANG MO KIO AVE 1</td>\n",
       "      <td>07 TO 09</td>\n",
       "      <td>73.0</td>\n",
       "      <td>New Generation</td>\n",
       "      <td>1976</td>\n",
       "      <td>NaN</td>\n",
       "      <td>167000.0</td>\n",
       "    </tr>\n",
       "    <tr>\n",
       "      <th>4</th>\n",
       "      <td>2000-01-01</td>\n",
       "      <td>2000</td>\n",
       "      <td>1</td>\n",
       "      <td>ANG MO KIO</td>\n",
       "      <td>3 ROOM</td>\n",
       "      <td>218</td>\n",
       "      <td>ANG MO KIO AVE 1</td>\n",
       "      <td>07 TO 09</td>\n",
       "      <td>67.0</td>\n",
       "      <td>New Generation</td>\n",
       "      <td>1976</td>\n",
       "      <td>NaN</td>\n",
       "      <td>163000.0</td>\n",
       "    </tr>\n",
       "  </tbody>\n",
       "</table>\n",
       "</div>"
      ],
      "text/plain": [
       "        date  year  month        town flat_type block       street_name  \\\n",
       "0 2000-01-01  2000      1  ANG MO KIO    3 ROOM   170  ANG MO KIO AVE 4   \n",
       "1 2000-01-01  2000      1  ANG MO KIO    3 ROOM   174  ANG MO KIO AVE 4   \n",
       "2 2000-01-01  2000      1  ANG MO KIO    3 ROOM   216  ANG MO KIO AVE 1   \n",
       "3 2000-01-01  2000      1  ANG MO KIO    3 ROOM   215  ANG MO KIO AVE 1   \n",
       "4 2000-01-01  2000      1  ANG MO KIO    3 ROOM   218  ANG MO KIO AVE 1   \n",
       "\n",
       "  storey_range  floor_area_sqm      flat_model  lease_commence_date  \\\n",
       "0     07 TO 09            69.0        Improved                 1986   \n",
       "1     04 TO 06            61.0        Improved                 1986   \n",
       "2     07 TO 09            73.0  New Generation                 1976   \n",
       "3     07 TO 09            73.0  New Generation                 1976   \n",
       "4     07 TO 09            67.0  New Generation                 1976   \n",
       "\n",
       "  remaining_lease  resale_price  \n",
       "0             NaN      147000.0  \n",
       "1             NaN      144000.0  \n",
       "2             NaN      159000.0  \n",
       "3             NaN      167000.0  \n",
       "4             NaN      163000.0  "
      ]
     },
     "execution_count": 18,
     "metadata": {},
     "output_type": "execute_result"
    }
   ],
   "source": [
    "# Extracting 3 room, 4 room and 5 room and executive flat from dataset \n",
    "combined = combined.loc[(combined['flat_type']=='3 ROOM') | (combined['flat_type']=='4 ROOM') | (combined['flat_type']=='5 ROOM') | (combined['flat_type']=='EXECUTIVE')]\n",
    "\n",
    "print(combined.shape)\n",
    "combined.head()"
   ]
  },
  {
   "cell_type": "markdown",
   "metadata": {},
   "source": [
    "### Feature 3: Storey Range"
   ]
  },
  {
   "cell_type": "code",
   "execution_count": 19,
   "metadata": {},
   "outputs": [
    {
     "data": {
      "text/plain": [
       "01 TO 03    114985\n",
       "01 TO 05      2670\n",
       "04 TO 06    143460\n",
       "06 TO 10      2442\n",
       "07 TO 09    127891\n",
       "10 TO 12    109616\n",
       "11 TO 15      1249\n",
       "13 TO 15     43063\n",
       "16 TO 18     17326\n",
       "16 TO 20       264\n",
       "19 TO 21      7738\n",
       "21 TO 25        92\n",
       "22 TO 24      5035\n",
       "25 TO 27      2426\n",
       "26 TO 30        39\n",
       "28 TO 30      1320\n",
       "31 TO 33       465\n",
       "31 TO 35         2\n",
       "34 TO 36       430\n",
       "36 TO 40         7\n",
       "37 TO 39       408\n",
       "40 TO 42       202\n",
       "43 TO 45        45\n",
       "46 TO 48        40\n",
       "49 TO 51        14\n",
       "Name: storey_range, dtype: int64"
      ]
     },
     "execution_count": 19,
     "metadata": {},
     "output_type": "execute_result"
    }
   ],
   "source": [
    "# Getting the value counts of `storey_range\n",
    "combined['storey_range'].value_counts().sort_index()"
   ]
  },
  {
   "cell_type": "markdown",
   "metadata": {},
   "source": [
    "Most flats sold are between the 1st and 12th floor. There are many overlaps between the different storey ranges. This should be because information across the years were collected differently. Since `storey_range` is a catergorical feature, we will have to encode it in the later stages. Ordinal encoding should be used as it is common knowledge that flats on higher floors cost more than flats on lower floors. Upon close inspection, a natural ranking order can still be established even with the presence of overlaps. For example `16 TO 20` will have a higher rank than `16 TO 18` because it contains flats which are on the 19th and 20th storeys."
   ]
  },
  {
   "cell_type": "markdown",
   "metadata": {},
   "source": [
    "### Feature 4: Floor Area (Square Metres)"
   ]
  },
  {
   "cell_type": "markdown",
   "metadata": {},
   "source": [
    "Note: We will be mixing in graphs and charts created in Tableau."
   ]
  },
  {
   "cell_type": "markdown",
   "metadata": {},
   "source": [
    "![floorarea](../plots/floorarea.png)"
   ]
  },
  {
   "cell_type": "markdown",
   "metadata": {},
   "source": [
    "Most flat sizes are below 150sqm. A big majority of flats sold are between 64sqm to 127sqm."
   ]
  },
  {
   "cell_type": "markdown",
   "metadata": {},
   "source": [
    "### Feature 5: Flat Model"
   ]
  },
  {
   "cell_type": "markdown",
   "metadata": {},
   "source": [
    "There are many different categories of flat models, some very similar to each other. We will narrow down the categories by grouping the similar ones together."
   ]
  },
  {
   "cell_type": "code",
   "execution_count": 20,
   "metadata": {},
   "outputs": [
    {
     "data": {
      "text/plain": [
       "Model A                   173281\n",
       "Improved                  153624\n",
       "New Generation            104134\n",
       "Premium Apartment          41275\n",
       "Simplified                 32375\n",
       "Apartment                  23974\n",
       "Standard                   20690\n",
       "Maisonette                 16183\n",
       "Model A2                    9570\n",
       "DBSS                        2714\n",
       "Adjoined flat               1165\n",
       "Model A-Maisonette          1003\n",
       "Terrace                      423\n",
       "Type S1                      375\n",
       "Type S2                      193\n",
       "Premium Apartment Loft        90\n",
       "Premium Maisonette            85\n",
       "Improved-Maisonette           74\n",
       "3Gen                           1\n",
       "Name: flat_model, dtype: int64"
      ]
     },
     "execution_count": 20,
     "metadata": {},
     "output_type": "execute_result"
    }
   ],
   "source": [
    "# Getting the value counts of 'flat_model'\n",
    "combined['flat_model'].value_counts()"
   ]
  },
  {
   "cell_type": "code",
   "execution_count": 21,
   "metadata": {},
   "outputs": [
    {
     "data": {
      "text/plain": [
       "Model A           215226\n",
       "Standard          174314\n",
       "New Generation    104134\n",
       "Apartment          65339\n",
       "Maisonette         17345\n",
       "Special             4871\n",
       "Name: flat_model, dtype: int64"
      ]
     },
     "execution_count": 21,
     "metadata": {},
     "output_type": "execute_result"
    }
   ],
   "source": [
    "# Grouping similar flat_models together\n",
    "replace_values = {'Improved': 'Standard',\n",
    "                  'Model A2': 'Model A',\n",
    "                  'Simplified': 'Model A',\n",
    "                  'Improved-Maisonette': 'Maisonette',\n",
    "                  'Premium Maisonette': 'Maisonette',\n",
    "                  'Model A-Maisonette': 'Maisonette',\n",
    "                  'Executive Maisonette': 'Maisonette',\n",
    "                  'Premium Apartment': 'Apartment',\n",
    "                  'Premium Apartment Loft': 'Apartment',\n",
    "                  'Type S1': 'Special',\n",
    "                  'Type S2': 'Special',\n",
    "                  'Adjoined flat': 'Special',\n",
    "                  '3Gen': 'Special',\n",
    "                  'DBSS': 'Special',\n",
    "                  'Terrace': 'Special'}\n",
    "\n",
    "combined.replace({'flat_model': replace_values}, inplace=True)\n",
    "\n",
    "combined['flat_model'].value_counts()"
   ]
  },
  {
   "cell_type": "markdown",
   "metadata": {},
   "source": [
    "![modelcount](../plots/modelcount.png)"
   ]
  },
  {
   "cell_type": "markdown",
   "metadata": {},
   "source": [
    "Flat models that are generally considered more 'premium' had lesser transactions. This should be because there is a limited quantity of such flats, and they are generally known to be more expensive."
   ]
  },
  {
   "cell_type": "markdown",
   "metadata": {},
   "source": [
    "### Feature 6: Lease Commencement Date"
   ]
  },
  {
   "cell_type": "code",
   "execution_count": 22,
   "metadata": {},
   "outputs": [
    {
     "data": {
      "text/plain": [
       "array([1986, 1976, 1977, 1981, 1979, 1984, 1980, 1978, 1985, 1993, 1982,\n",
       "       1996, 1994, 1974, 1983, 1987, 1989, 1995, 1973, 1992, 1990, 1988,\n",
       "       1975, 1971, 1969, 1967, 1970, 1972, 1968, 1991, 1997, 1998, 1999,\n",
       "       2000, 2001, 1966, 2002, 2006, 2003, 2005, 2004, 2008, 2007, 2009,\n",
       "       2010, 2012, 2011, 2013, 2014, 2015, 2016, 2018, 2017, 2019],\n",
       "      dtype=int64)"
      ]
     },
     "execution_count": 22,
     "metadata": {},
     "output_type": "execute_result"
    }
   ],
   "source": [
    "# Checking unique values\n",
    "combined['lease_commence_date'].unique()"
   ]
  },
  {
   "cell_type": "markdown",
   "metadata": {},
   "source": [
    "![leasecount](../plots/leasecount.png)"
   ]
  },
  {
   "cell_type": "markdown",
   "metadata": {},
   "source": [
    "There were a high number of flats built in 1985, 1988 and 1998. The reasons for this occurence should be inconsequencial to our project."
   ]
  },
  {
   "cell_type": "markdown",
   "metadata": {},
   "source": [
    "### Feature 7: Remaining Lease"
   ]
  },
  {
   "cell_type": "markdown",
   "metadata": {},
   "source": [
    "There are many rows with missing values for `remaining_lease`. This is because this feature was only tracked from 2015 onwards. Hence, we will be filling in the missing values with estimated values. These values can be derived from deducting the least commencement date from the year sold."
   ]
  },
  {
   "cell_type": "code",
   "execution_count": 23,
   "metadata": {},
   "outputs": [],
   "source": [
    "# Replace NaN values with estimated values (year - lease_commence_date)\n",
    "combined['remaining_lease'] = combined['remaining_lease'].fillna(99 - (combined['year'] - combined['lease_commence_date']))"
   ]
  },
  {
   "cell_type": "markdown",
   "metadata": {},
   "source": [
    "The `remaining_lease` values from 2015 onwards are also in string format. We will need to convert them into float for modelling, with the unit being amount of years."
   ]
  },
  {
   "cell_type": "code",
   "execution_count": 24,
   "metadata": {},
   "outputs": [],
   "source": [
    "# Creating function to calculate remaining_lease in years\n",
    "def get_years(text):\n",
    "    if isinstance(text, str):\n",
    "        yearmonth = [int(s) for s in text.split() if s.isdigit()]\n",
    "        if len(yearmonth) > 1:\n",
    "            years = yearmonth[0] + (yearmonth[1]/12)\n",
    "        else:\n",
    "            years = yearmonth[0]\n",
    "        return years\n",
    "    else:\n",
    "        return text\n",
    "\n",
    "# Applying the function to the remaining_lease column\n",
    "combined['remaining_lease'] = combined['remaining_lease'].apply(lambda x: get_years(x))"
   ]
  },
  {
   "cell_type": "code",
   "execution_count": 25,
   "metadata": {},
   "outputs": [
    {
     "data": {
      "text/html": [
       "<div>\n",
       "<style scoped>\n",
       "    .dataframe tbody tr th:only-of-type {\n",
       "        vertical-align: middle;\n",
       "    }\n",
       "\n",
       "    .dataframe tbody tr th {\n",
       "        vertical-align: top;\n",
       "    }\n",
       "\n",
       "    .dataframe thead th {\n",
       "        text-align: right;\n",
       "    }\n",
       "</style>\n",
       "<table border=\"1\" class=\"dataframe\">\n",
       "  <thead>\n",
       "    <tr style=\"text-align: right;\">\n",
       "      <th></th>\n",
       "      <th>date</th>\n",
       "      <th>year</th>\n",
       "      <th>month</th>\n",
       "      <th>town</th>\n",
       "      <th>flat_type</th>\n",
       "      <th>block</th>\n",
       "      <th>street_name</th>\n",
       "      <th>storey_range</th>\n",
       "      <th>floor_area_sqm</th>\n",
       "      <th>flat_model</th>\n",
       "      <th>lease_commence_date</th>\n",
       "      <th>remaining_lease</th>\n",
       "      <th>resale_price</th>\n",
       "    </tr>\n",
       "  </thead>\n",
       "  <tbody>\n",
       "    <tr>\n",
       "      <th>588333</th>\n",
       "      <td>2022-06-01</td>\n",
       "      <td>2022</td>\n",
       "      <td>6</td>\n",
       "      <td>YISHUN</td>\n",
       "      <td>EXECUTIVE</td>\n",
       "      <td>325</td>\n",
       "      <td>YISHUN CTRL</td>\n",
       "      <td>10 TO 12</td>\n",
       "      <td>142.0</td>\n",
       "      <td>Apartment</td>\n",
       "      <td>1988</td>\n",
       "      <td>65.500000</td>\n",
       "      <td>755000.0</td>\n",
       "    </tr>\n",
       "    <tr>\n",
       "      <th>588334</th>\n",
       "      <td>2022-06-01</td>\n",
       "      <td>2022</td>\n",
       "      <td>6</td>\n",
       "      <td>YISHUN</td>\n",
       "      <td>EXECUTIVE</td>\n",
       "      <td>352</td>\n",
       "      <td>YISHUN RING RD</td>\n",
       "      <td>10 TO 12</td>\n",
       "      <td>146.0</td>\n",
       "      <td>Maisonette</td>\n",
       "      <td>1988</td>\n",
       "      <td>65.166667</td>\n",
       "      <td>770000.0</td>\n",
       "    </tr>\n",
       "    <tr>\n",
       "      <th>588335</th>\n",
       "      <td>2022-06-01</td>\n",
       "      <td>2022</td>\n",
       "      <td>6</td>\n",
       "      <td>YISHUN</td>\n",
       "      <td>EXECUTIVE</td>\n",
       "      <td>326</td>\n",
       "      <td>YISHUN RING RD</td>\n",
       "      <td>10 TO 12</td>\n",
       "      <td>146.0</td>\n",
       "      <td>Maisonette</td>\n",
       "      <td>1988</td>\n",
       "      <td>65.166667</td>\n",
       "      <td>750000.0</td>\n",
       "    </tr>\n",
       "    <tr>\n",
       "      <th>588336</th>\n",
       "      <td>2022-06-01</td>\n",
       "      <td>2022</td>\n",
       "      <td>6</td>\n",
       "      <td>YISHUN</td>\n",
       "      <td>EXECUTIVE</td>\n",
       "      <td>608</td>\n",
       "      <td>YISHUN ST 61</td>\n",
       "      <td>01 TO 03</td>\n",
       "      <td>164.0</td>\n",
       "      <td>Apartment</td>\n",
       "      <td>1992</td>\n",
       "      <td>68.916667</td>\n",
       "      <td>1000000.0</td>\n",
       "    </tr>\n",
       "    <tr>\n",
       "      <th>588337</th>\n",
       "      <td>2022-06-01</td>\n",
       "      <td>2022</td>\n",
       "      <td>6</td>\n",
       "      <td>YISHUN</td>\n",
       "      <td>EXECUTIVE</td>\n",
       "      <td>877</td>\n",
       "      <td>YISHUN ST 81</td>\n",
       "      <td>07 TO 09</td>\n",
       "      <td>145.0</td>\n",
       "      <td>Maisonette</td>\n",
       "      <td>1987</td>\n",
       "      <td>64.583333</td>\n",
       "      <td>810000.0</td>\n",
       "    </tr>\n",
       "  </tbody>\n",
       "</table>\n",
       "</div>"
      ],
      "text/plain": [
       "             date  year  month    town  flat_type block     street_name  \\\n",
       "588333 2022-06-01  2022      6  YISHUN  EXECUTIVE   325     YISHUN CTRL   \n",
       "588334 2022-06-01  2022      6  YISHUN  EXECUTIVE   352  YISHUN RING RD   \n",
       "588335 2022-06-01  2022      6  YISHUN  EXECUTIVE   326  YISHUN RING RD   \n",
       "588336 2022-06-01  2022      6  YISHUN  EXECUTIVE   608    YISHUN ST 61   \n",
       "588337 2022-06-01  2022      6  YISHUN  EXECUTIVE   877    YISHUN ST 81   \n",
       "\n",
       "       storey_range  floor_area_sqm  flat_model  lease_commence_date  \\\n",
       "588333     10 TO 12           142.0   Apartment                 1988   \n",
       "588334     10 TO 12           146.0  Maisonette                 1988   \n",
       "588335     10 TO 12           146.0  Maisonette                 1988   \n",
       "588336     01 TO 03           164.0   Apartment                 1992   \n",
       "588337     07 TO 09           145.0  Maisonette                 1987   \n",
       "\n",
       "        remaining_lease  resale_price  \n",
       "588333        65.500000      755000.0  \n",
       "588334        65.166667      770000.0  \n",
       "588335        65.166667      750000.0  \n",
       "588336        68.916667     1000000.0  \n",
       "588337        64.583333      810000.0  "
      ]
     },
     "execution_count": 25,
     "metadata": {},
     "output_type": "execute_result"
    }
   ],
   "source": [
    "# Checking results\n",
    "combined.tail()"
   ]
  },
  {
   "cell_type": "code",
   "execution_count": 28,
   "metadata": {},
   "outputs": [
    {
     "data": {
      "image/png": "[encoded data removed]",
      "text/plain": [
       "<Figure size 1008x576 with 1 Axes>"
      ]
     },
     "metadata": {
      "needs_background": "light"
     },
     "output_type": "display_data"
    }
   ],
   "source": [
    "# Plotting histogram of spray dates\n",
    "plt.figure(figsize=(14,8))\n",
    "sns.histplot(data=combined, x='remaining_lease', color=\"mediumaquamarine\", binwidth=5).set(title='Histogram of Remaining Lease', xlabel='Remaining Lease (years)', ylabel='Count');"
   ]
  },
  {
   "cell_type": "markdown",
   "metadata": {},
   "source": [
    "There were more transactions of flats with a longer remaining lease. Transaction quantity drops significantly for flats with less than 70 years remaining."
   ]
  },
  {
   "cell_type": "markdown",
   "metadata": {},
   "source": [
    "### Feature 8: Date (Years and Months)"
   ]
  },
  {
   "cell_type": "markdown",
   "metadata": {},
   "source": [
    "![yearstype](../plots/yearstype.png)"
   ]
  },
  {
   "cell_type": "markdown",
   "metadata": {},
   "source": [
    "There was a steep drop in HDB salesafter 2010, probably because of the [steady increase](https://www.srx.com.sg/cooling-measures) in prices in that time period. We will explore this further in the next section. We can also see that there was indeed an increase in resale flat transactions over the past 7 years. (There is incomplete data for our current Year 2022, hence the decrease as the end)"
   ]
  },
  {
   "cell_type": "markdown",
   "metadata": {},
   "source": [
    "![monthtype](../plots/monthtype.png)"
   ]
  },
  {
   "cell_type": "markdown",
   "metadata": {},
   "source": [
    "HDB sales are also fairly constant throughout the respective months, other than November to February. My guess is that people generally do not purchase HDBs during the holiday period. We will see if this affects their resale prices in the next section."
   ]
  },
  {
   "cell_type": "markdown",
   "metadata": {},
   "source": [
    "### Features 9 and 10: Block and Street Name"
   ]
  },
  {
   "cell_type": "markdown",
   "metadata": {},
   "source": [
    "In our second code notebook, we will engineer features relating to the unique addresses of our dataset. Some prior cleaning/combining is required before we move on to it."
   ]
  },
  {
   "cell_type": "code",
   "execution_count": 29,
   "metadata": {},
   "outputs": [],
   "source": [
    "# Replacing short form for Commonwealth with actual word\n",
    "combined['street_name'] = combined['street_name'].str.replace('C\\'WEALTH','COMMONWEALTH')"
   ]
  },
  {
   "cell_type": "code",
   "execution_count": 30,
   "metadata": {},
   "outputs": [
    {
     "data": {
      "text/html": [
       "<div>\n",
       "<style scoped>\n",
       "    .dataframe tbody tr th:only-of-type {\n",
       "        vertical-align: middle;\n",
       "    }\n",
       "\n",
       "    .dataframe tbody tr th {\n",
       "        vertical-align: top;\n",
       "    }\n",
       "\n",
       "    .dataframe thead th {\n",
       "        text-align: right;\n",
       "    }\n",
       "</style>\n",
       "<table border=\"1\" class=\"dataframe\">\n",
       "  <thead>\n",
       "    <tr style=\"text-align: right;\">\n",
       "      <th></th>\n",
       "      <th>date</th>\n",
       "      <th>year</th>\n",
       "      <th>month</th>\n",
       "      <th>town</th>\n",
       "      <th>flat_type</th>\n",
       "      <th>block</th>\n",
       "      <th>street_name</th>\n",
       "      <th>storey_range</th>\n",
       "      <th>floor_area_sqm</th>\n",
       "      <th>flat_model</th>\n",
       "      <th>lease_commence_date</th>\n",
       "      <th>remaining_lease</th>\n",
       "      <th>resale_price</th>\n",
       "    </tr>\n",
       "  </thead>\n",
       "  <tbody>\n",
       "    <tr>\n",
       "      <th>1598</th>\n",
       "      <td>2000-01-01</td>\n",
       "      <td>2000</td>\n",
       "      <td>1</td>\n",
       "      <td>QUEENSTOWN</td>\n",
       "      <td>3 ROOM</td>\n",
       "      <td>87</td>\n",
       "      <td>COMMONWEALTH CL</td>\n",
       "      <td>10 TO 12</td>\n",
       "      <td>58.0</td>\n",
       "      <td>Standard</td>\n",
       "      <td>1967</td>\n",
       "      <td>33.000000</td>\n",
       "      <td>117000.0</td>\n",
       "    </tr>\n",
       "    <tr>\n",
       "      <th>1599</th>\n",
       "      <td>2000-01-01</td>\n",
       "      <td>2000</td>\n",
       "      <td>1</td>\n",
       "      <td>QUEENSTOWN</td>\n",
       "      <td>3 ROOM</td>\n",
       "      <td>86</td>\n",
       "      <td>COMMONWEALTH CL</td>\n",
       "      <td>04 TO 06</td>\n",
       "      <td>69.0</td>\n",
       "      <td>Standard</td>\n",
       "      <td>1967</td>\n",
       "      <td>33.000000</td>\n",
       "      <td>146000.0</td>\n",
       "    </tr>\n",
       "    <tr>\n",
       "      <th>1600</th>\n",
       "      <td>2000-01-01</td>\n",
       "      <td>2000</td>\n",
       "      <td>1</td>\n",
       "      <td>QUEENSTOWN</td>\n",
       "      <td>3 ROOM</td>\n",
       "      <td>85</td>\n",
       "      <td>COMMONWEALTH CL</td>\n",
       "      <td>04 TO 06</td>\n",
       "      <td>58.0</td>\n",
       "      <td>Standard</td>\n",
       "      <td>1967</td>\n",
       "      <td>33.000000</td>\n",
       "      <td>122000.0</td>\n",
       "    </tr>\n",
       "    <tr>\n",
       "      <th>1601</th>\n",
       "      <td>2000-01-01</td>\n",
       "      <td>2000</td>\n",
       "      <td>1</td>\n",
       "      <td>QUEENSTOWN</td>\n",
       "      <td>3 ROOM</td>\n",
       "      <td>84</td>\n",
       "      <td>COMMONWEALTH CL</td>\n",
       "      <td>07 TO 09</td>\n",
       "      <td>58.0</td>\n",
       "      <td>Standard</td>\n",
       "      <td>1967</td>\n",
       "      <td>33.000000</td>\n",
       "      <td>136000.0</td>\n",
       "    </tr>\n",
       "    <tr>\n",
       "      <th>1602</th>\n",
       "      <td>2000-01-01</td>\n",
       "      <td>2000</td>\n",
       "      <td>1</td>\n",
       "      <td>QUEENSTOWN</td>\n",
       "      <td>3 ROOM</td>\n",
       "      <td>81</td>\n",
       "      <td>COMMONWEALTH CL</td>\n",
       "      <td>07 TO 09</td>\n",
       "      <td>60.0</td>\n",
       "      <td>Standard</td>\n",
       "      <td>1967</td>\n",
       "      <td>33.000000</td>\n",
       "      <td>120500.0</td>\n",
       "    </tr>\n",
       "    <tr>\n",
       "      <th>...</th>\n",
       "      <td>...</td>\n",
       "      <td>...</td>\n",
       "      <td>...</td>\n",
       "      <td>...</td>\n",
       "      <td>...</td>\n",
       "      <td>...</td>\n",
       "      <td>...</td>\n",
       "      <td>...</td>\n",
       "      <td>...</td>\n",
       "      <td>...</td>\n",
       "      <td>...</td>\n",
       "      <td>...</td>\n",
       "      <td>...</td>\n",
       "    </tr>\n",
       "    <tr>\n",
       "      <th>587732</th>\n",
       "      <td>2022-06-01</td>\n",
       "      <td>2022</td>\n",
       "      <td>6</td>\n",
       "      <td>QUEENSTOWN</td>\n",
       "      <td>3 ROOM</td>\n",
       "      <td>97</td>\n",
       "      <td>COMMONWEALTH CRES</td>\n",
       "      <td>01 TO 03</td>\n",
       "      <td>59.0</td>\n",
       "      <td>Standard</td>\n",
       "      <td>1970</td>\n",
       "      <td>47.083333</td>\n",
       "      <td>293000.0</td>\n",
       "    </tr>\n",
       "    <tr>\n",
       "      <th>587733</th>\n",
       "      <td>2022-06-01</td>\n",
       "      <td>2022</td>\n",
       "      <td>6</td>\n",
       "      <td>QUEENSTOWN</td>\n",
       "      <td>3 ROOM</td>\n",
       "      <td>99</td>\n",
       "      <td>COMMONWEALTH CRES</td>\n",
       "      <td>01 TO 03</td>\n",
       "      <td>55.0</td>\n",
       "      <td>Standard</td>\n",
       "      <td>1970</td>\n",
       "      <td>47.083333</td>\n",
       "      <td>300000.0</td>\n",
       "    </tr>\n",
       "    <tr>\n",
       "      <th>587734</th>\n",
       "      <td>2022-06-01</td>\n",
       "      <td>2022</td>\n",
       "      <td>6</td>\n",
       "      <td>QUEENSTOWN</td>\n",
       "      <td>3 ROOM</td>\n",
       "      <td>51</td>\n",
       "      <td>COMMONWEALTH DR</td>\n",
       "      <td>10 TO 12</td>\n",
       "      <td>63.0</td>\n",
       "      <td>Model A</td>\n",
       "      <td>2015</td>\n",
       "      <td>91.750000</td>\n",
       "      <td>598000.0</td>\n",
       "    </tr>\n",
       "    <tr>\n",
       "      <th>587748</th>\n",
       "      <td>2022-06-01</td>\n",
       "      <td>2022</td>\n",
       "      <td>6</td>\n",
       "      <td>QUEENSTOWN</td>\n",
       "      <td>4 ROOM</td>\n",
       "      <td>50</td>\n",
       "      <td>COMMONWEALTH DR</td>\n",
       "      <td>07 TO 09</td>\n",
       "      <td>93.0</td>\n",
       "      <td>Model A</td>\n",
       "      <td>2015</td>\n",
       "      <td>91.750000</td>\n",
       "      <td>810000.0</td>\n",
       "    </tr>\n",
       "    <tr>\n",
       "      <th>587749</th>\n",
       "      <td>2022-06-01</td>\n",
       "      <td>2022</td>\n",
       "      <td>6</td>\n",
       "      <td>QUEENSTOWN</td>\n",
       "      <td>4 ROOM</td>\n",
       "      <td>50</td>\n",
       "      <td>COMMONWEALTH DR</td>\n",
       "      <td>34 TO 36</td>\n",
       "      <td>96.0</td>\n",
       "      <td>Model A</td>\n",
       "      <td>2015</td>\n",
       "      <td>91.666667</td>\n",
       "      <td>900000.0</td>\n",
       "    </tr>\n",
       "  </tbody>\n",
       "</table>\n",
       "<p>3689 rows × 13 columns</p>\n",
       "</div>"
      ],
      "text/plain": [
       "             date  year  month        town flat_type block        street_name  \\\n",
       "1598   2000-01-01  2000      1  QUEENSTOWN    3 ROOM    87    COMMONWEALTH CL   \n",
       "1599   2000-01-01  2000      1  QUEENSTOWN    3 ROOM    86    COMMONWEALTH CL   \n",
       "1600   2000-01-01  2000      1  QUEENSTOWN    3 ROOM    85    COMMONWEALTH CL   \n",
       "1601   2000-01-01  2000      1  QUEENSTOWN    3 ROOM    84    COMMONWEALTH CL   \n",
       "1602   2000-01-01  2000      1  QUEENSTOWN    3 ROOM    81    COMMONWEALTH CL   \n",
       "...           ...   ...    ...         ...       ...   ...                ...   \n",
       "587732 2022-06-01  2022      6  QUEENSTOWN    3 ROOM    97  COMMONWEALTH CRES   \n",
       "587733 2022-06-01  2022      6  QUEENSTOWN    3 ROOM    99  COMMONWEALTH CRES   \n",
       "587734 2022-06-01  2022      6  QUEENSTOWN    3 ROOM    51    COMMONWEALTH DR   \n",
       "587748 2022-06-01  2022      6  QUEENSTOWN    4 ROOM    50    COMMONWEALTH DR   \n",
       "587749 2022-06-01  2022      6  QUEENSTOWN    4 ROOM    50    COMMONWEALTH DR   \n",
       "\n",
       "       storey_range  floor_area_sqm flat_model  lease_commence_date  \\\n",
       "1598       10 TO 12            58.0   Standard                 1967   \n",
       "1599       04 TO 06            69.0   Standard                 1967   \n",
       "1600       04 TO 06            58.0   Standard                 1967   \n",
       "1601       07 TO 09            58.0   Standard                 1967   \n",
       "1602       07 TO 09            60.0   Standard                 1967   \n",
       "...             ...             ...        ...                  ...   \n",
       "587732     01 TO 03            59.0   Standard                 1970   \n",
       "587733     01 TO 03            55.0   Standard                 1970   \n",
       "587734     10 TO 12            63.0    Model A                 2015   \n",
       "587748     07 TO 09            93.0    Model A                 2015   \n",
       "587749     34 TO 36            96.0    Model A                 2015   \n",
       "\n",
       "        remaining_lease  resale_price  \n",
       "1598          33.000000      117000.0  \n",
       "1599          33.000000      146000.0  \n",
       "1600          33.000000      122000.0  \n",
       "1601          33.000000      136000.0  \n",
       "1602          33.000000      120500.0  \n",
       "...                 ...           ...  \n",
       "587732        47.083333      293000.0  \n",
       "587733        47.083333      300000.0  \n",
       "587734        91.750000      598000.0  \n",
       "587748        91.750000      810000.0  \n",
       "587749        91.666667      900000.0  \n",
       "\n",
       "[3689 rows x 13 columns]"
      ]
     },
     "execution_count": 30,
     "metadata": {},
     "output_type": "execute_result"
    }
   ],
   "source": [
    "# Checking changes\n",
    "combined[combined['street_name'].str.contains(\"COMMONWEALTH\")]"
   ]
  },
  {
   "cell_type": "code",
   "execution_count": 31,
   "metadata": {},
   "outputs": [
    {
     "data": {
      "text/html": [
       "<div>\n",
       "<style scoped>\n",
       "    .dataframe tbody tr th:only-of-type {\n",
       "        vertical-align: middle;\n",
       "    }\n",
       "\n",
       "    .dataframe tbody tr th {\n",
       "        vertical-align: top;\n",
       "    }\n",
       "\n",
       "    .dataframe thead th {\n",
       "        text-align: right;\n",
       "    }\n",
       "</style>\n",
       "<table border=\"1\" class=\"dataframe\">\n",
       "  <thead>\n",
       "    <tr style=\"text-align: right;\">\n",
       "      <th></th>\n",
       "      <th>date</th>\n",
       "      <th>year</th>\n",
       "      <th>month</th>\n",
       "      <th>town</th>\n",
       "      <th>flat_type</th>\n",
       "      <th>block</th>\n",
       "      <th>street_name</th>\n",
       "      <th>storey_range</th>\n",
       "      <th>floor_area_sqm</th>\n",
       "      <th>flat_model</th>\n",
       "      <th>lease_commence_date</th>\n",
       "      <th>remaining_lease</th>\n",
       "      <th>resale_price</th>\n",
       "      <th>address</th>\n",
       "    </tr>\n",
       "  </thead>\n",
       "  <tbody>\n",
       "    <tr>\n",
       "      <th>0</th>\n",
       "      <td>2000-01-01</td>\n",
       "      <td>2000</td>\n",
       "      <td>1</td>\n",
       "      <td>ANG MO KIO</td>\n",
       "      <td>3 ROOM</td>\n",
       "      <td>170</td>\n",
       "      <td>ANG MO KIO AVE 4</td>\n",
       "      <td>07 TO 09</td>\n",
       "      <td>69.0</td>\n",
       "      <td>Standard</td>\n",
       "      <td>1986</td>\n",
       "      <td>14.0</td>\n",
       "      <td>147000.0</td>\n",
       "      <td>170 ANG MO KIO AVE 4</td>\n",
       "    </tr>\n",
       "    <tr>\n",
       "      <th>1</th>\n",
       "      <td>2000-01-01</td>\n",
       "      <td>2000</td>\n",
       "      <td>1</td>\n",
       "      <td>ANG MO KIO</td>\n",
       "      <td>3 ROOM</td>\n",
       "      <td>174</td>\n",
       "      <td>ANG MO KIO AVE 4</td>\n",
       "      <td>04 TO 06</td>\n",
       "      <td>61.0</td>\n",
       "      <td>Standard</td>\n",
       "      <td>1986</td>\n",
       "      <td>14.0</td>\n",
       "      <td>144000.0</td>\n",
       "      <td>174 ANG MO KIO AVE 4</td>\n",
       "    </tr>\n",
       "    <tr>\n",
       "      <th>2</th>\n",
       "      <td>2000-01-01</td>\n",
       "      <td>2000</td>\n",
       "      <td>1</td>\n",
       "      <td>ANG MO KIO</td>\n",
       "      <td>3 ROOM</td>\n",
       "      <td>216</td>\n",
       "      <td>ANG MO KIO AVE 1</td>\n",
       "      <td>07 TO 09</td>\n",
       "      <td>73.0</td>\n",
       "      <td>New Generation</td>\n",
       "      <td>1976</td>\n",
       "      <td>24.0</td>\n",
       "      <td>159000.0</td>\n",
       "      <td>216 ANG MO KIO AVE 1</td>\n",
       "    </tr>\n",
       "    <tr>\n",
       "      <th>3</th>\n",
       "      <td>2000-01-01</td>\n",
       "      <td>2000</td>\n",
       "      <td>1</td>\n",
       "      <td>ANG MO KIO</td>\n",
       "      <td>3 ROOM</td>\n",
       "      <td>215</td>\n",
       "      <td>ANG MO KIO AVE 1</td>\n",
       "      <td>07 TO 09</td>\n",
       "      <td>73.0</td>\n",
       "      <td>New Generation</td>\n",
       "      <td>1976</td>\n",
       "      <td>24.0</td>\n",
       "      <td>167000.0</td>\n",
       "      <td>215 ANG MO KIO AVE 1</td>\n",
       "    </tr>\n",
       "    <tr>\n",
       "      <th>4</th>\n",
       "      <td>2000-01-01</td>\n",
       "      <td>2000</td>\n",
       "      <td>1</td>\n",
       "      <td>ANG MO KIO</td>\n",
       "      <td>3 ROOM</td>\n",
       "      <td>218</td>\n",
       "      <td>ANG MO KIO AVE 1</td>\n",
       "      <td>07 TO 09</td>\n",
       "      <td>67.0</td>\n",
       "      <td>New Generation</td>\n",
       "      <td>1976</td>\n",
       "      <td>24.0</td>\n",
       "      <td>163000.0</td>\n",
       "      <td>218 ANG MO KIO AVE 1</td>\n",
       "    </tr>\n",
       "  </tbody>\n",
       "</table>\n",
       "</div>"
      ],
      "text/plain": [
       "        date  year  month        town flat_type block       street_name  \\\n",
       "0 2000-01-01  2000      1  ANG MO KIO    3 ROOM   170  ANG MO KIO AVE 4   \n",
       "1 2000-01-01  2000      1  ANG MO KIO    3 ROOM   174  ANG MO KIO AVE 4   \n",
       "2 2000-01-01  2000      1  ANG MO KIO    3 ROOM   216  ANG MO KIO AVE 1   \n",
       "3 2000-01-01  2000      1  ANG MO KIO    3 ROOM   215  ANG MO KIO AVE 1   \n",
       "4 2000-01-01  2000      1  ANG MO KIO    3 ROOM   218  ANG MO KIO AVE 1   \n",
       "\n",
       "  storey_range  floor_area_sqm      flat_model  lease_commence_date  \\\n",
       "0     07 TO 09            69.0        Standard                 1986   \n",
       "1     04 TO 06            61.0        Standard                 1986   \n",
       "2     07 TO 09            73.0  New Generation                 1976   \n",
       "3     07 TO 09            73.0  New Generation                 1976   \n",
       "4     07 TO 09            67.0  New Generation                 1976   \n",
       "\n",
       "   remaining_lease  resale_price               address  \n",
       "0             14.0      147000.0  170 ANG MO KIO AVE 4  \n",
       "1             14.0      144000.0  174 ANG MO KIO AVE 4  \n",
       "2             24.0      159000.0  216 ANG MO KIO AVE 1  \n",
       "3             24.0      167000.0  215 ANG MO KIO AVE 1  \n",
       "4             24.0      163000.0  218 ANG MO KIO AVE 1  "
      ]
     },
     "execution_count": 31,
     "metadata": {},
     "output_type": "execute_result"
    }
   ],
   "source": [
    "# Creating a new address column\n",
    "combined['address'] = combined['block'] + ' ' + combined['street_name']\n",
    "combined.head()"
   ]
  },
  {
   "cell_type": "code",
   "execution_count": 32,
   "metadata": {},
   "outputs": [
    {
     "name": "stdout",
     "output_type": "stream",
     "text": [
      "Total No. Of Transactions: 581229\n",
      "Unique Addresses: 9462\n"
     ]
    }
   ],
   "source": [
    "# Calculating the no. of unique addresses\n",
    "all_address = list(combined['address'])\n",
    "print('Total No. Of Transactions:', len(all_address))\n",
    "\n",
    "unique_address = list(set(all_address))\n",
    "print('Unique Addresses:', len(unique_address))"
   ]
  },
  {
   "cell_type": "markdown",
   "metadata": {},
   "source": [
    "The 581,299 transactions in our dataset consist of flats from 9,462 unique addresses."
   ]
  },
  {
   "cell_type": "markdown",
   "metadata": {},
   "source": [
    "---"
   ]
  },
  {
   "cell_type": "markdown",
   "metadata": {},
   "source": [
    "## Target Variable: Resale Price"
   ]
  },
  {
   "cell_type": "markdown",
   "metadata": {},
   "source": [
    "We will now explore our target variable and its relationships with our features."
   ]
  },
  {
   "cell_type": "markdown",
   "metadata": {},
   "source": [
    "![histogram](../plots/price.png)"
   ]
  },
  {
   "cell_type": "markdown",
   "metadata": {},
   "source": [
    "`resale_price` has a right skewed distribution. Majority of flats are sold within the $150k to $425k range."
   ]
  },
  {
   "cell_type": "markdown",
   "metadata": {},
   "source": [
    "![date](../plots/date.png)"
   ]
  },
  {
   "cell_type": "markdown",
   "metadata": {},
   "source": [
    "Resale prices have been generally increasing across the years. In 2013, it experienced an obvious decline due to cooling measures implemented by our government. More infomation can be found [here](https://www.srx.com.sg/cooling-measures)."
   ]
  },
  {
   "cell_type": "markdown",
   "metadata": {},
   "source": [
    "![town](../plots/towns.png)"
   ]
  },
  {
   "cell_type": "markdown",
   "metadata": {},
   "source": [
    "Average resale prices differ across towns. At a glance, it seems that towns nearer to the central region of Singapore (Bukit Timah, Bishan, Central Area) have higher resale prices. ALso, Punggol is second on this list probably because the flats there are relatively newer."
   ]
  },
  {
   "cell_type": "markdown",
   "metadata": {},
   "source": [
    "![types](../plots/types.png)"
   ]
  },
  {
   "cell_type": "markdown",
   "metadata": {},
   "source": [
    "Average prices increase as the tier of flat type increases, this is an expected observation."
   ]
  },
  {
   "cell_type": "markdown",
   "metadata": {},
   "source": [
    "![model](../plots/model.png)"
   ]
  },
  {
   "cell_type": "markdown",
   "metadata": {},
   "source": [
    "Average prices also differ across different flat models. This is also expected as `Apartment`, `Maisonette` and `Special` are generally considered more premium compared to the other 3 models."
   ]
  },
  {
   "cell_type": "markdown",
   "metadata": {},
   "source": [
    "![storey](../plots/storey.png)"
   ]
  },
  {
   "cell_type": "markdown",
   "metadata": {},
   "source": [
    "Another expected outcome, average prices increase as storey height increases."
   ]
  },
  {
   "cell_type": "markdown",
   "metadata": {},
   "source": [
    "![area](../plots/area.png)"
   ]
  },
  {
   "cell_type": "markdown",
   "metadata": {},
   "source": [
    "The bigger the flat, the higher the price. The right half of the scatterplot seems more sparse than the left half. This should be mainly because there are significantly lesser flats above 160 sqm."
   ]
  },
  {
   "cell_type": "markdown",
   "metadata": {},
   "source": [
    "![lease](../plots/lease.png)"
   ]
  },
  {
   "cell_type": "markdown",
   "metadata": {},
   "source": [
    "Flats with a more recent lease commencement date (newer flats) have a higher resale price than flats with an earlier one (older flats)."
   ]
  },
  {
   "cell_type": "markdown",
   "metadata": {},
   "source": [
    "![month](../plots/month.png)"
   ]
  },
  {
   "cell_type": "markdown",
   "metadata": {},
   "source": [
    "From the above graph, we can conclude the the month of sale does not affect resale prices."
   ]
  },
  {
   "cell_type": "markdown",
   "metadata": {},
   "source": [
    "### Conclusion"
   ]
  },
  {
   "cell_type": "markdown",
   "metadata": {},
   "source": [
    "Most of our original features have obvious correlations to our target variable. We will aim to engineer more features in the next notebook to further strengthen the predictive ability of our models."
   ]
  },
  {
   "cell_type": "markdown",
   "metadata": {},
   "source": [
    "---\n",
    "## Exporting The Dataset"
   ]
  },
  {
   "cell_type": "code",
   "execution_count": 33,
   "metadata": {},
   "outputs": [
    {
     "name": "stdout",
     "output_type": "stream",
     "text": [
      "(581229, 14)\n"
     ]
    },
    {
     "data": {
      "text/html": [
       "<div>\n",
       "<style scoped>\n",
       "    .dataframe tbody tr th:only-of-type {\n",
       "        vertical-align: middle;\n",
       "    }\n",
       "\n",
       "    .dataframe tbody tr th {\n",
       "        vertical-align: top;\n",
       "    }\n",
       "\n",
       "    .dataframe thead th {\n",
       "        text-align: right;\n",
       "    }\n",
       "</style>\n",
       "<table border=\"1\" class=\"dataframe\">\n",
       "  <thead>\n",
       "    <tr style=\"text-align: right;\">\n",
       "      <th></th>\n",
       "      <th>date</th>\n",
       "      <th>year</th>\n",
       "      <th>month</th>\n",
       "      <th>town</th>\n",
       "      <th>flat_type</th>\n",
       "      <th>block</th>\n",
       "      <th>street_name</th>\n",
       "      <th>address</th>\n",
       "      <th>storey_range</th>\n",
       "      <th>floor_area_sqm</th>\n",
       "      <th>flat_model</th>\n",
       "      <th>lease_commence_date</th>\n",
       "      <th>remaining_lease</th>\n",
       "      <th>resale_price</th>\n",
       "    </tr>\n",
       "  </thead>\n",
       "  <tbody>\n",
       "    <tr>\n",
       "      <th>0</th>\n",
       "      <td>2000-01-01</td>\n",
       "      <td>2000</td>\n",
       "      <td>1</td>\n",
       "      <td>ANG MO KIO</td>\n",
       "      <td>3 ROOM</td>\n",
       "      <td>170</td>\n",
       "      <td>ANG MO KIO AVE 4</td>\n",
       "      <td>170 ANG MO KIO AVE 4</td>\n",
       "      <td>07 TO 09</td>\n",
       "      <td>69.0</td>\n",
       "      <td>Standard</td>\n",
       "      <td>1986</td>\n",
       "      <td>14.0</td>\n",
       "      <td>147000.0</td>\n",
       "    </tr>\n",
       "    <tr>\n",
       "      <th>1</th>\n",
       "      <td>2000-01-01</td>\n",
       "      <td>2000</td>\n",
       "      <td>1</td>\n",
       "      <td>ANG MO KIO</td>\n",
       "      <td>3 ROOM</td>\n",
       "      <td>174</td>\n",
       "      <td>ANG MO KIO AVE 4</td>\n",
       "      <td>174 ANG MO KIO AVE 4</td>\n",
       "      <td>04 TO 06</td>\n",
       "      <td>61.0</td>\n",
       "      <td>Standard</td>\n",
       "      <td>1986</td>\n",
       "      <td>14.0</td>\n",
       "      <td>144000.0</td>\n",
       "    </tr>\n",
       "    <tr>\n",
       "      <th>2</th>\n",
       "      <td>2000-01-01</td>\n",
       "      <td>2000</td>\n",
       "      <td>1</td>\n",
       "      <td>ANG MO KIO</td>\n",
       "      <td>3 ROOM</td>\n",
       "      <td>216</td>\n",
       "      <td>ANG MO KIO AVE 1</td>\n",
       "      <td>216 ANG MO KIO AVE 1</td>\n",
       "      <td>07 TO 09</td>\n",
       "      <td>73.0</td>\n",
       "      <td>New Generation</td>\n",
       "      <td>1976</td>\n",
       "      <td>24.0</td>\n",
       "      <td>159000.0</td>\n",
       "    </tr>\n",
       "    <tr>\n",
       "      <th>3</th>\n",
       "      <td>2000-01-01</td>\n",
       "      <td>2000</td>\n",
       "      <td>1</td>\n",
       "      <td>ANG MO KIO</td>\n",
       "      <td>3 ROOM</td>\n",
       "      <td>215</td>\n",
       "      <td>ANG MO KIO AVE 1</td>\n",
       "      <td>215 ANG MO KIO AVE 1</td>\n",
       "      <td>07 TO 09</td>\n",
       "      <td>73.0</td>\n",
       "      <td>New Generation</td>\n",
       "      <td>1976</td>\n",
       "      <td>24.0</td>\n",
       "      <td>167000.0</td>\n",
       "    </tr>\n",
       "    <tr>\n",
       "      <th>4</th>\n",
       "      <td>2000-01-01</td>\n",
       "      <td>2000</td>\n",
       "      <td>1</td>\n",
       "      <td>ANG MO KIO</td>\n",
       "      <td>3 ROOM</td>\n",
       "      <td>218</td>\n",
       "      <td>ANG MO KIO AVE 1</td>\n",
       "      <td>218 ANG MO KIO AVE 1</td>\n",
       "      <td>07 TO 09</td>\n",
       "      <td>67.0</td>\n",
       "      <td>New Generation</td>\n",
       "      <td>1976</td>\n",
       "      <td>24.0</td>\n",
       "      <td>163000.0</td>\n",
       "    </tr>\n",
       "  </tbody>\n",
       "</table>\n",
       "</div>"
      ],
      "text/plain": [
       "        date  year  month        town flat_type block       street_name  \\\n",
       "0 2000-01-01  2000      1  ANG MO KIO    3 ROOM   170  ANG MO KIO AVE 4   \n",
       "1 2000-01-01  2000      1  ANG MO KIO    3 ROOM   174  ANG MO KIO AVE 4   \n",
       "2 2000-01-01  2000      1  ANG MO KIO    3 ROOM   216  ANG MO KIO AVE 1   \n",
       "3 2000-01-01  2000      1  ANG MO KIO    3 ROOM   215  ANG MO KIO AVE 1   \n",
       "4 2000-01-01  2000      1  ANG MO KIO    3 ROOM   218  ANG MO KIO AVE 1   \n",
       "\n",
       "                address storey_range  floor_area_sqm      flat_model  \\\n",
       "0  170 ANG MO KIO AVE 4     07 TO 09            69.0        Standard   \n",
       "1  174 ANG MO KIO AVE 4     04 TO 06            61.0        Standard   \n",
       "2  216 ANG MO KIO AVE 1     07 TO 09            73.0  New Generation   \n",
       "3  215 ANG MO KIO AVE 1     07 TO 09            73.0  New Generation   \n",
       "4  218 ANG MO KIO AVE 1     07 TO 09            67.0  New Generation   \n",
       "\n",
       "   lease_commence_date  remaining_lease  resale_price  \n",
       "0                 1986             14.0      147000.0  \n",
       "1                 1986             14.0      144000.0  \n",
       "2                 1976             24.0      159000.0  \n",
       "3                 1976             24.0      167000.0  \n",
       "4                 1976             24.0      163000.0  "
      ]
     },
     "execution_count": 33,
     "metadata": {},
     "output_type": "execute_result"
    }
   ],
   "source": [
    "# Rearranging the columns\n",
    "combined = combined[['date',\n",
    "                     'year',\n",
    "                     'month',\n",
    "                     'town',\n",
    "                     'flat_type',\n",
    "                     'block',\n",
    "                     'street_name',\n",
    "                     'address',\n",
    "                     'storey_range',\n",
    "                     'floor_area_sqm',\n",
    "                     'flat_model',\n",
    "                     'lease_commence_date',\n",
    "                     'remaining_lease',\n",
    "                     'resale_price']]\n",
    "print(combined.shape)\n",
    "combined.head()"
   ]
  },
  {
   "cell_type": "code",
   "execution_count": 34,
   "metadata": {},
   "outputs": [
    {
     "name": "stdout",
     "output_type": "stream",
     "text": [
      "<class 'pandas.core.frame.DataFrame'>\n",
      "Int64Index: 581229 entries, 0 to 588337\n",
      "Data columns (total 14 columns):\n",
      " #   Column               Non-Null Count   Dtype         \n",
      "---  ------               --------------   -----         \n",
      " 0   date                 581229 non-null  datetime64[ns]\n",
      " 1   year                 581229 non-null  int64         \n",
      " 2   month                581229 non-null  int64         \n",
      " 3   town                 581229 non-null  object        \n",
      " 4   flat_type            581229 non-null  object        \n",
      " 5   block                581229 non-null  object        \n",
      " 6   street_name          581229 non-null  object        \n",
      " 7   address              581229 non-null  object        \n",
      " 8   storey_range         581229 non-null  object        \n",
      " 9   floor_area_sqm       581229 non-null  float64       \n",
      " 10  flat_model           581229 non-null  object        \n",
      " 11  lease_commence_date  581229 non-null  int64         \n",
      " 12  remaining_lease      581229 non-null  float64       \n",
      " 13  resale_price         581229 non-null  float64       \n",
      "dtypes: datetime64[ns](1), float64(3), int64(3), object(7)\n",
      "memory usage: 66.5+ MB\n"
     ]
    }
   ],
   "source": [
    "combined.info()"
   ]
  },
  {
   "cell_type": "code",
   "execution_count": 35,
   "metadata": {},
   "outputs": [],
   "source": [
    "# Exporting dataset\n",
    "combined.to_csv('../data/combined.csv',index=False)"
   ]
  },
  {
   "cell_type": "markdown",
   "metadata": {},
   "source": [
    "---"
   ]
  }
 ],
 "metadata": {
  "kernelspec": {
   "display_name": "Python 3.8.13 ('dsi-sg')",
   "language": "python",
   "name": "python3"
  },
  "language_info": {
   "codemirror_mode": {
    "name": "ipython",
    "version": 3
   },
   "file_extension": ".py",
   "mimetype": "text/x-python",
   "name": "python",
   "nbconvert_exporter": "python",
   "pygments_lexer": "ipython3",
   "version": "3.8.13"
  },
  "orig_nbformat": 4,
  "vscode": {
   "interpreter": {
    "hash": "f54aa15e863610cae444187dbefcb677b6a6a72266869d7cd39ebb1d354ddf5d"
   }
  }
 },
 "nbformat": 4,
 "nbformat_minor": 2
}
