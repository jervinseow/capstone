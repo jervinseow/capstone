{
 "cells": [
  {
   "cell_type": "markdown",
   "metadata": {},
   "source": [
    "<img src=\"http://imgur.com/1ZcRyrc.png\" style=\"float: left; margin: 10px; height: 55px\">\n",
    "\n",
    "\n",
    "# Capstone Project: Forecasting HDB Resale Prices\n"
   ]
  },
  {
   "cell_type": "markdown",
   "metadata": {},
   "source": [
    "## Notebook 2/4: Feature Engineering\n",
    "---"
   ]
  },
  {
   "cell_type": "markdown",
   "metadata": {},
   "source": [
    "## Getting Started"
   ]
  },
  {
   "cell_type": "markdown",
   "metadata": {},
   "source": [
    "### Imports"
   ]
  },
  {
   "cell_type": "code",
   "execution_count": 1,
   "metadata": {},
   "outputs": [],
   "source": [
    "# Importing Libraries\n",
    "import pandas as pd\n",
    "import numpy as np\n",
    "import requests\n",
    "import json\n",
    "from geopy.distance import geodesic"
   ]
  },
  {
   "cell_type": "code",
   "execution_count": 48,
   "metadata": {},
   "outputs": [],
   "source": [
    "# Importing relevant csv files\n",
    "combined = pd.read_csv('../data/combined.csv')\n",
    "mrt = pd.read_csv('../data/mrt.csv')\n",
    "malls = pd.read_csv('../data/malls.csv')\n",
    "supermarkets = pd.read_csv('../data/supermarkets.csv')\n",
    "hawkers = pd.read_csv('../data/hawker_centres.csv')\n",
    "parks = pd.read_csv('../data/parks.csv')\n",
    "schools = pd.read_csv('../data/schools.csv', dtype=str)"
   ]
  },
  {
   "cell_type": "code",
   "execution_count": 3,
   "metadata": {},
   "outputs": [
    {
     "name": "stdout",
     "output_type": "stream",
     "text": [
      "<class 'pandas.core.frame.DataFrame'>\n",
      "RangeIndex: 581229 entries, 0 to 581228\n",
      "Data columns (total 14 columns):\n",
      " #   Column               Non-Null Count   Dtype  \n",
      "---  ------               --------------   -----  \n",
      " 0   date                 581229 non-null  object \n",
      " 1   year                 581229 non-null  int64  \n",
      " 2   month                581229 non-null  int64  \n",
      " 3   town                 581229 non-null  object \n",
      " 4   flat_type            581229 non-null  object \n",
      " 5   block                581229 non-null  object \n",
      " 6   street_name          581229 non-null  object \n",
      " 7   address              581229 non-null  object \n",
      " 8   storey_range         581229 non-null  object \n",
      " 9   floor_area_sqm       581229 non-null  float64\n",
      " 10  flat_model           581229 non-null  object \n",
      " 11  lease_commence_date  581229 non-null  int64  \n",
      " 12  remaining_lease      581229 non-null  float64\n",
      " 13  resale_price         581229 non-null  float64\n",
      "dtypes: float64(3), int64(3), object(8)\n",
      "memory usage: 62.1+ MB\n"
     ]
    }
   ],
   "source": [
    "combined.info()"
   ]
  },
  {
   "cell_type": "markdown",
   "metadata": {},
   "source": [
    "### Defining Functions"
   ]
  },
  {
   "cell_type": "markdown",
   "metadata": {},
   "source": [
    "First, we would need to define functions to assist us with our feature engineering.\n",
    "1. To scrape coordinates data for a specific address from the OneMap API\n",
    "2. To find the closest geodesic distance of each address from a list of amenities, and the number of said amenities in 1km radius\n",
    "3. To calculate the geodesic distance of each address from a specific location"
   ]
  },
  {
   "cell_type": "code",
   "execution_count": 4,
   "metadata": {},
   "outputs": [],
   "source": [
    "# Creating a function to scrape coordiantes data from OneMap API\n",
    "\n",
    "def get_coordinates(lst):\n",
    "\n",
    "    for index, add in enumerate(lst):\n",
    "\n",
    "        url= \"https://developers.onemap.sg/commonapi/search?returnGeom=Y&getAddrDetails=Y&pageNum=1&searchVal=\"+ str(add)\n",
    "        res = requests.get(url) # sending get request to the url\n",
    "    \n",
    "        try:\n",
    "            data = res.json() # convert to json\n",
    "        except ValueError:\n",
    "            print(index, add, 'JSONDecodeError') # if error, print the index and address\n",
    "            pass\n",
    "\n",
    "        try:\n",
    "            temp_df = pd.DataFrame.from_dict([dict((k, data['results'][0][k]) for k in ('LATITUDE', 'LONGITUDE'))]) # creating a dataframe from the json data\n",
    "        except IndexError:\n",
    "            print(index, add, 'IndexError') # if the address is not found, print the index and address\n",
    "            pass\n",
    "\n",
    "        temp_df[\"address\"] = add # adding the address to the dataframe\n",
    "        \n",
    "        if index == 0:\n",
    "            df = temp_df # if it is the first iteration, create the dataframe\n",
    "        else:\n",
    "            df = pd.concat([df, temp_df]) # concatenating the dataframes\n",
    "    df = df[['address', 'LATITUDE', 'LONGITUDE']] # dropping the unwanted columns\n",
    "    df.reset_index(drop=True, inplace=True) # resetting the index\n",
    "    \n",
    "    return df"
   ]
  },
  {
   "cell_type": "code",
   "execution_count": 31,
   "metadata": {},
   "outputs": [],
   "source": [
    "# Creating a function to find the closest distance of each location from a list of amenities, and the number of said amenities in 1km radius\n",
    "\n",
    "def search_nearby(address, amenity, radius=1):\n",
    "\n",
    "    results = {}\n",
    "    # First column must be address\n",
    "    for index, block in enumerate(address.iloc[:, 0]):\n",
    "\n",
    "        # 2nd column must be latitude, 3rd column must be longitude\n",
    "        block_loc = (address.iloc[index, 1], address.iloc[index, 2])\n",
    "        if amenity.equals(pri_school_coord):\n",
    "            block_amenity = ['', '', 100, 0, 0] # creating list with dummy values\n",
    "        else:\n",
    "            block_amenity = ['', '', 100, 0]\n",
    "\n",
    "        for ind, eachloc in enumerate(amenity.iloc[:, 0]):\n",
    "            amenity_loc = (amenity.iloc[ind, 1], amenity.iloc[ind, 2])\n",
    "            distance = geodesic(block_loc, amenity_loc) # calculate the distance between the block and amenity\n",
    "            distance = float(str(distance)[:-3])  # convert to float\n",
    "\n",
    "            if amenity.equals(pri_school_coord):\n",
    "                if distance <= radius:   # compute number of schools in 1km radius\n",
    "                    block_amenity[3] += 1\n",
    "                if radius < distance <= 2:  # compute number of schools between 1km to 2km radius\n",
    "                    block_amenity[4] += 1\n",
    "            else:\n",
    "                if distance <= radius:   # compute number of amenities in 1km radius\n",
    "                    block_amenity[3] += 1\n",
    "\n",
    "\n",
    "            if distance < block_amenity[2]:  # find nearest amenity\n",
    "                block_amenity[0] = block # store the address\n",
    "                block_amenity[1] = eachloc # store the amenity\n",
    "                block_amenity[2] = distance # store the distance\n",
    "\n",
    "        results[block] = block_amenity # store the results in a dictionary\n",
    "        \n",
    "    return results\n"
   ]
  },
  {
   "cell_type": "code",
   "execution_count": 55,
   "metadata": {},
   "outputs": [],
   "source": [
    "# Creating a function to calculate distance from a particalar amenity\n",
    "# First column of 'address' dataset must be address\n",
    "# 2nd column must be latitude, 3rd column must be longitude\n",
    "# 'location' variable must be a tuple\n",
    "\n",
    "def dist_from_location(address, location):\n",
    "    \n",
    "    results = {}\n",
    "    \n",
    "    for index, block in enumerate(address.iloc[:, 0]):\n",
    "\n",
    "        block_location = (address.iloc[index, 1], address.iloc[index, 2])   # block_location is a tuple\n",
    "        block_amenity = ['', 100]    # block_amenity is a list\n",
    "        distance = geodesic(block_location, location)   # compute distance from block to location\n",
    "        distance = float(str(distance)[:-3])  # convert to float\n",
    "        block_amenity[0] = block \n",
    "        block_amenity[1] = distance\n",
    "        results[block] = block_amenity\n",
    "\n",
    "    return results\n"
   ]
  },
  {
   "cell_type": "markdown",
   "metadata": {},
   "source": [
    "---"
   ]
  },
  {
   "cell_type": "markdown",
   "metadata": {},
   "source": [
    "## Unique Addresses"
   ]
  },
  {
   "cell_type": "markdown",
   "metadata": {},
   "source": [
    "Now, let us apply our first function to all the unique addresses in our dataset. This function will create a dataframe consisting of the coordinates of these addresses."
   ]
  },
  {
   "cell_type": "code",
   "execution_count": 16,
   "metadata": {},
   "outputs": [
    {
     "name": "stdout",
     "output_type": "stream",
     "text": [
      "No. of Unique Addresses: 9462\n"
     ]
    },
    {
     "data": {
      "text/plain": [
       "['148 WOODLANDS ST 13',\n",
       " '426 CLEMENTI AVE 3',\n",
       " '85 CIRCUIT RD',\n",
       " '467 TAMPINES ST 44',\n",
       " '367 CORPORATION DR',\n",
       " '159 YUNG PING RD',\n",
       " '518 CHOA CHU KANG ST 51',\n",
       " '918 JURONG WEST ST 91',\n",
       " '682A EDGEDALE PLAINS',\n",
       " '416 ANG MO KIO AVE 10']"
      ]
     },
     "execution_count": 16,
     "metadata": {},
     "output_type": "execute_result"
    }
   ],
   "source": [
    "# Creating a list of unique addresses\n",
    "all_address = list(combined['address'])\n",
    "unique_address = list(set(all_address))\n",
    "print('No. of Unique Addresses:', len(unique_address))\n",
    "unique_address[:10]"
   ]
  },
  {
   "cell_type": "code",
   "execution_count": 72,
   "metadata": {},
   "outputs": [
    {
     "name": "stdout",
     "output_type": "stream",
     "text": [
      "76 12 REDHILL CL IndexError\n",
      "140 5 SELETAR WEST FARMWAY 6 IndexError\n",
      "151 36 DOVER RD IndexError\n",
      "318 1A WOODLANDS CTR RD IndexError\n",
      "420 10 YUNG KUANG RD IndexError\n",
      "494 33 TAMAN HO SWEE IndexError\n",
      "517 6 UPP BOON KENG RD IndexError\n",
      "615 407 CLEMENTI AVE 1 IndexError\n",
      "668 19 KG BAHRU HILL IndexError\n",
      "701 10 TEBAN GDNS RD IndexError\n",
      "767 169 BOON LAY DR IndexError\n",
      "976 1 JLN PASAR BARU IndexError\n",
      "993 171 BOON LAY DR IndexError\n",
      "1019 20 UPP BOON KENG RD IndexError\n",
      "1047 220 BOON LAY AVE IndexError\n",
      "1312 172 BOON LAY DR IndexError\n",
      "1730 6 TEBAN GDNS RD IndexError\n",
      "1742 74 COMMONWEALTH DR IndexError\n",
      "1979 2A WOODLANDS CTR RD IndexError\n",
      "2055 170 BOON LAY DR IndexError\n",
      "2086 96 MARGARET DR IndexError\n",
      "2333 59 SIMS DR IndexError\n",
      "2652 29 HAVELOCK RD IndexError\n",
      "2764 30 LOR 5 TOA PAYOH IndexError\n",
      "2902 91 ZION RD IndexError\n",
      "2946 24 KG BAHRU HILL IndexError\n",
      "2975 10 UPP BOON KENG RD IndexError\n",
      "3073 54 SIMS DR IndexError\n",
      "3124 78 COMMONWEALTH DR IndexError\n",
      "3170 7 SELETAR WEST FARMWAY 6 IndexError\n",
      "3358 90 ZION RD IndexError\n",
      "3437 62 SIMS DR IndexError\n",
      "3743 5 TEBAN GDNS RD IndexError\n",
      "4069 22 KG BAHRU HILL IndexError\n",
      "4147 76 COMMONWEALTH DR IndexError\n",
      "4400 75 COMMONWEALTH DR IndexError\n",
      "4585 83 BEDOK NTH RD IndexError\n",
      "4780 247 ANG MO KIO AVE 3 IndexError\n",
      "4795 77 COMMONWEALTH DR IndexError\n",
      "5005 252 ANG MO KIO AVE 4 IndexError\n",
      "5072 3 ROCHOR RD IndexError\n",
      "5619 7 TEBAN GDNS RD IndexError\n",
      "5629 7 YUNG KUANG RD IndexError\n",
      "5642 314 CLEMENTI AVE 4 IndexError\n",
      "5841 89 ZION RD IndexError\n",
      "6095 39A COMMONWEALTH AVE IndexError\n",
      "6490 35 DOVER RD IndexError\n",
      "6537 5 YUNG PING RD IndexError\n",
      "6649 111 BT MERAH VIEW IndexError\n",
      "6735 54 TANGLIN HALT RD IndexError\n",
      "6790 3 TEBAN GDNS RD IndexError\n",
      "6796 38 DOVER RD IndexError\n",
      "6955 2 SELETAR WEST FARMWAY 6 IndexError\n",
      "6996 167 BOON LAY DR IndexError\n",
      "7100 248 ANG MO KIO AVE 2 IndexError\n",
      "7118 51 TANGLIN HALT RD IndexError\n",
      "7165 168 BOON LAY DR IndexError\n",
      "7178 402 CLEMENTI AVE 1 IndexError\n",
      "7308 79 COMMONWEALTH DR IndexError\n",
      "7433 27A COMMONWEALTH AVE IndexError\n",
      "7498 113 BT MERAH VIEW IndexError\n",
      "7528 53 TANGLIN HALT RD IndexError\n",
      "7547 10 GHIM MOH RD IndexError\n",
      "7687 409 CLEMENTI AVE 1 IndexError\n",
      "7696 6 SELETAR WEST FARMWAY 6 IndexError\n",
      "7703 18 KG BAHRU HILL IndexError\n",
      "7873 114 BT MERAH VIEW IndexError\n",
      "8017 6 YUNG PING RD IndexError\n",
      "8085 1 SELETAR WEST FARMWAY 6 IndexError\n",
      "8298 80 COMMONWEALTH DR IndexError\n",
      "8384 401 CLEMENTI AVE 1 IndexError\n",
      "8392 172 STIRLING RD IndexError\n",
      "8604 11 REDHILL CL IndexError\n",
      "8728 31 DOVER RD IndexError\n",
      "8756 52 TANGLIN HALT RD IndexError\n",
      "8833 403 CLEMENTI AVE 1 IndexError\n",
      "8915 88 ZION RD IndexError\n",
      "8939 23 KG BAHRU HILL IndexError\n",
      "8951 8 YUNG KUANG RD IndexError\n",
      "9047 173 STIRLING RD IndexError\n",
      "9101 4 ROCHOR RD IndexError\n",
      "9126 110 BT MERAH VIEW IndexError\n",
      "9424 313 CLEMENTI AVE 4 IndexError\n"
     ]
    }
   ],
   "source": [
    "# Applying the function to find the coordinates of each address\n",
    "block_coord = get_coordinates(unique_address)"
   ]
  },
  {
   "cell_type": "code",
   "execution_count": 71,
   "metadata": {},
   "outputs": [
    {
     "name": "stdout",
     "output_type": "stream",
     "text": [
      "(10, 3)\n"
     ]
    },
    {
     "data": {
      "text/html": [
       "<div>\n",
       "<style scoped>\n",
       "    .dataframe tbody tr th:only-of-type {\n",
       "        vertical-align: middle;\n",
       "    }\n",
       "\n",
       "    .dataframe tbody tr th {\n",
       "        vertical-align: top;\n",
       "    }\n",
       "\n",
       "    .dataframe thead th {\n",
       "        text-align: right;\n",
       "    }\n",
       "</style>\n",
       "<table border=\"1\" class=\"dataframe\">\n",
       "  <thead>\n",
       "    <tr style=\"text-align: right;\">\n",
       "      <th></th>\n",
       "      <th>address</th>\n",
       "      <th>LATITUDE</th>\n",
       "      <th>LONGITUDE</th>\n",
       "    </tr>\n",
       "  </thead>\n",
       "  <tbody>\n",
       "    <tr>\n",
       "      <th>0</th>\n",
       "      <td>148 WOODLANDS ST 13</td>\n",
       "      <td>1.43576274995203</td>\n",
       "      <td>103.77402996229</td>\n",
       "    </tr>\n",
       "    <tr>\n",
       "      <th>1</th>\n",
       "      <td>426 CLEMENTI AVE 3</td>\n",
       "      <td>1.31158040643011</td>\n",
       "      <td>103.764211279777</td>\n",
       "    </tr>\n",
       "    <tr>\n",
       "      <th>2</th>\n",
       "      <td>85 CIRCUIT RD</td>\n",
       "      <td>1.32265241052434</td>\n",
       "      <td>103.885755259463</td>\n",
       "    </tr>\n",
       "    <tr>\n",
       "      <th>3</th>\n",
       "      <td>467 TAMPINES ST 44</td>\n",
       "      <td>1.35996852651128</td>\n",
       "      <td>103.954665911889</td>\n",
       "    </tr>\n",
       "    <tr>\n",
       "      <th>4</th>\n",
       "      <td>367 CORPORATION DR</td>\n",
       "      <td>1.33769782307079</td>\n",
       "      <td>103.719145674511</td>\n",
       "    </tr>\n",
       "  </tbody>\n",
       "</table>\n",
       "</div>"
      ],
      "text/plain": [
       "               address          LATITUDE         LONGITUDE\n",
       "0  148 WOODLANDS ST 13  1.43576274995203   103.77402996229\n",
       "1   426 CLEMENTI AVE 3  1.31158040643011  103.764211279777\n",
       "2        85 CIRCUIT RD  1.32265241052434  103.885755259463\n",
       "3   467 TAMPINES ST 44  1.35996852651128  103.954665911889\n",
       "4   367 CORPORATION DR  1.33769782307079  103.719145674511"
      ]
     },
     "execution_count": 71,
     "metadata": {},
     "output_type": "execute_result"
    }
   ],
   "source": [
    "print(block_coord.shape)\n",
    "block_coord.head()"
   ]
  },
  {
   "cell_type": "code",
   "execution_count": 96,
   "metadata": {},
   "outputs": [],
   "source": [
    "# Exporting the coordinates to a csv file\n",
    "block_coord.to_csv('../data/coordinates/block_coordinates.csv')"
   ]
  },
  {
   "cell_type": "markdown",
   "metadata": {},
   "source": [
    "There are 83 addresses that are not updated on OneMap.sg as they are relatively new. I will be filling in those addresses manually to ensure we do not lose any data of newly released flats."
   ]
  },
  {
   "cell_type": "code",
   "execution_count": 7,
   "metadata": {},
   "outputs": [],
   "source": [
    "# Importing the amended block_coordinates file\n",
    "block_coord = pd.read_csv('../data/coordinates/block_coordinates_amended.csv')"
   ]
  },
  {
   "cell_type": "code",
   "execution_count": 8,
   "metadata": {},
   "outputs": [
    {
     "name": "stdout",
     "output_type": "stream",
     "text": [
      "<class 'pandas.core.frame.DataFrame'>\n",
      "RangeIndex: 9462 entries, 0 to 9461\n",
      "Data columns (total 3 columns):\n",
      " #   Column     Non-Null Count  Dtype  \n",
      "---  ------     --------------  -----  \n",
      " 0   address    9462 non-null   object \n",
      " 1   LATITUDE   9462 non-null   float64\n",
      " 2   LONGITUDE  9462 non-null   float64\n",
      "dtypes: float64(2), object(1)\n",
      "memory usage: 221.9+ KB\n"
     ]
    }
   ],
   "source": [
    "block_coord.info()"
   ]
  },
  {
   "cell_type": "markdown",
   "metadata": {},
   "source": [
    "# Housing Amenities\n",
    "---"
   ]
  },
  {
   "cell_type": "markdown",
   "metadata": {},
   "source": [
    "Next, we will need to apply our first 2 functions to scrape coordinates, find the closest distance of each address from a list of amenities, and the number of said amenities in 1km radius. Relevant data for the respective amneties were extracted from [data.gov.sg](https://data.gov.sg/) in preparation for this stage."
   ]
  },
  {
   "cell_type": "markdown",
   "metadata": {},
   "source": [
    "## MRT Stations"
   ]
  },
  {
   "cell_type": "code",
   "execution_count": 36,
   "metadata": {},
   "outputs": [
    {
     "name": "stdout",
     "output_type": "stream",
     "text": [
      "(193, 7)\n"
     ]
    },
    {
     "data": {
      "text/html": [
       "<div>\n",
       "<style scoped>\n",
       "    .dataframe tbody tr th:only-of-type {\n",
       "        vertical-align: middle;\n",
       "    }\n",
       "\n",
       "    .dataframe tbody tr th {\n",
       "        vertical-align: top;\n",
       "    }\n",
       "\n",
       "    .dataframe thead th {\n",
       "        text-align: right;\n",
       "    }\n",
       "</style>\n",
       "<table border=\"1\" class=\"dataframe\">\n",
       "  <thead>\n",
       "    <tr style=\"text-align: right;\">\n",
       "      <th></th>\n",
       "      <th>STN_NAME</th>\n",
       "      <th>STN_NO</th>\n",
       "      <th>X</th>\n",
       "      <th>Y</th>\n",
       "      <th>Latitude</th>\n",
       "      <th>Longitude</th>\n",
       "      <th>COLOR</th>\n",
       "    </tr>\n",
       "  </thead>\n",
       "  <tbody>\n",
       "    <tr>\n",
       "      <th>0</th>\n",
       "      <td>CHOA CHU KANG LRT STATION</td>\n",
       "      <td>BP1</td>\n",
       "      <td>18121.6052</td>\n",
       "      <td>40753.8693</td>\n",
       "      <td>1.384836</td>\n",
       "      <td>103.744580</td>\n",
       "      <td>OTHERS</td>\n",
       "    </tr>\n",
       "    <tr>\n",
       "      <th>1</th>\n",
       "      <td>FAJAR LRT STATION</td>\n",
       "      <td>BP10</td>\n",
       "      <td>21043.4356</td>\n",
       "      <td>40718.8826</td>\n",
       "      <td>1.384521</td>\n",
       "      <td>103.770827</td>\n",
       "      <td>OTHERS</td>\n",
       "    </tr>\n",
       "    <tr>\n",
       "      <th>2</th>\n",
       "      <td>SEGAR LRT STATION</td>\n",
       "      <td>BP11</td>\n",
       "      <td>20908.7670</td>\n",
       "      <td>41078.4025</td>\n",
       "      <td>1.387772</td>\n",
       "      <td>103.769617</td>\n",
       "      <td>OTHERS</td>\n",
       "    </tr>\n",
       "    <tr>\n",
       "      <th>3</th>\n",
       "      <td>JELAPANG LRT STATION</td>\n",
       "      <td>BP12</td>\n",
       "      <td>20341.7491</td>\n",
       "      <td>40960.2020</td>\n",
       "      <td>1.386703</td>\n",
       "      <td>103.764523</td>\n",
       "      <td>OTHERS</td>\n",
       "    </tr>\n",
       "    <tr>\n",
       "      <th>4</th>\n",
       "      <td>SENJA LRT STATION</td>\n",
       "      <td>BP13</td>\n",
       "      <td>20104.0139</td>\n",
       "      <td>40516.7226</td>\n",
       "      <td>1.382692</td>\n",
       "      <td>103.762388</td>\n",
       "      <td>OTHERS</td>\n",
       "    </tr>\n",
       "  </tbody>\n",
       "</table>\n",
       "</div>"
      ],
      "text/plain": [
       "                    STN_NAME STN_NO           X           Y  Latitude  \\\n",
       "0  CHOA CHU KANG LRT STATION    BP1  18121.6052  40753.8693  1.384836   \n",
       "1          FAJAR LRT STATION   BP10  21043.4356  40718.8826  1.384521   \n",
       "2          SEGAR LRT STATION   BP11  20908.7670  41078.4025  1.387772   \n",
       "3       JELAPANG LRT STATION   BP12  20341.7491  40960.2020  1.386703   \n",
       "4          SENJA LRT STATION   BP13  20104.0139  40516.7226  1.382692   \n",
       "\n",
       "    Longitude   COLOR  \n",
       "0  103.744580  OTHERS  \n",
       "1  103.770827  OTHERS  \n",
       "2  103.769617  OTHERS  \n",
       "3  103.764523  OTHERS  \n",
       "4  103.762388  OTHERS  "
      ]
     },
     "execution_count": 36,
     "metadata": {},
     "output_type": "execute_result"
    }
   ],
   "source": [
    "# First look at the data\n",
    "print(mrt.shape)\n",
    "mrt.head()"
   ]
  },
  {
   "cell_type": "code",
   "execution_count": 37,
   "metadata": {},
   "outputs": [
    {
     "data": {
      "text/html": [
       "<div>\n",
       "<style scoped>\n",
       "    .dataframe tbody tr th:only-of-type {\n",
       "        vertical-align: middle;\n",
       "    }\n",
       "\n",
       "    .dataframe tbody tr th {\n",
       "        vertical-align: top;\n",
       "    }\n",
       "\n",
       "    .dataframe thead th {\n",
       "        text-align: right;\n",
       "    }\n",
       "</style>\n",
       "<table border=\"1\" class=\"dataframe\">\n",
       "  <thead>\n",
       "    <tr style=\"text-align: right;\">\n",
       "      <th></th>\n",
       "      <th>STN_NAME</th>\n",
       "      <th>Latitude</th>\n",
       "      <th>Longitude</th>\n",
       "    </tr>\n",
       "  </thead>\n",
       "  <tbody>\n",
       "    <tr>\n",
       "      <th>0</th>\n",
       "      <td>CHOA CHU KANG LRT STATION</td>\n",
       "      <td>1.384836</td>\n",
       "      <td>103.744580</td>\n",
       "    </tr>\n",
       "    <tr>\n",
       "      <th>1</th>\n",
       "      <td>FAJAR LRT STATION</td>\n",
       "      <td>1.384521</td>\n",
       "      <td>103.770827</td>\n",
       "    </tr>\n",
       "    <tr>\n",
       "      <th>2</th>\n",
       "      <td>SEGAR LRT STATION</td>\n",
       "      <td>1.387772</td>\n",
       "      <td>103.769617</td>\n",
       "    </tr>\n",
       "    <tr>\n",
       "      <th>3</th>\n",
       "      <td>JELAPANG LRT STATION</td>\n",
       "      <td>1.386703</td>\n",
       "      <td>103.764523</td>\n",
       "    </tr>\n",
       "    <tr>\n",
       "      <th>4</th>\n",
       "      <td>SENJA LRT STATION</td>\n",
       "      <td>1.382692</td>\n",
       "      <td>103.762388</td>\n",
       "    </tr>\n",
       "  </tbody>\n",
       "</table>\n",
       "</div>"
      ],
      "text/plain": [
       "                    STN_NAME  Latitude   Longitude\n",
       "0  CHOA CHU KANG LRT STATION  1.384836  103.744580\n",
       "1          FAJAR LRT STATION  1.384521  103.770827\n",
       "2          SEGAR LRT STATION  1.387772  103.769617\n",
       "3       JELAPANG LRT STATION  1.386703  103.764523\n",
       "4          SENJA LRT STATION  1.382692  103.762388"
      ]
     },
     "execution_count": 37,
     "metadata": {},
     "output_type": "execute_result"
    }
   ],
   "source": [
    "# Extracting relevant columns\n",
    "mrt = mrt[['STN_NAME','Latitude','Longitude']]\n",
    "mrt.head()"
   ]
  },
  {
   "cell_type": "markdown",
   "metadata": {},
   "source": [
    "### Finding Nearest Mrt Station"
   ]
  },
  {
   "cell_type": "code",
   "execution_count": 39,
   "metadata": {},
   "outputs": [],
   "source": [
    "# Applying the function\n",
    "nearby_mrt = search_nearby(block_coord, mrt)"
   ]
  },
  {
   "cell_type": "code",
   "execution_count": 40,
   "metadata": {},
   "outputs": [
    {
     "data": {
      "text/html": [
       "<div>\n",
       "<style scoped>\n",
       "    .dataframe tbody tr th:only-of-type {\n",
       "        vertical-align: middle;\n",
       "    }\n",
       "\n",
       "    .dataframe tbody tr th {\n",
       "        vertical-align: top;\n",
       "    }\n",
       "\n",
       "    .dataframe thead th {\n",
       "        text-align: right;\n",
       "    }\n",
       "</style>\n",
       "<table border=\"1\" class=\"dataframe\">\n",
       "  <thead>\n",
       "    <tr style=\"text-align: right;\">\n",
       "      <th></th>\n",
       "      <th>address</th>\n",
       "      <th>mrt</th>\n",
       "      <th>mrt_dist</th>\n",
       "      <th>num_mrt_1km</th>\n",
       "    </tr>\n",
       "  </thead>\n",
       "  <tbody>\n",
       "    <tr>\n",
       "      <th>0</th>\n",
       "      <td>148 WOODLANDS ST 13</td>\n",
       "      <td>MARSILING MRT STATION</td>\n",
       "      <td>0.359246</td>\n",
       "      <td>1</td>\n",
       "    </tr>\n",
       "    <tr>\n",
       "      <th>1</th>\n",
       "      <td>426 CLEMENTI AVE 3</td>\n",
       "      <td>CLEMENTI MRT STATION</td>\n",
       "      <td>0.392851</td>\n",
       "      <td>1</td>\n",
       "    </tr>\n",
       "    <tr>\n",
       "      <th>2</th>\n",
       "      <td>85 CIRCUIT RD</td>\n",
       "      <td>MATTAR MRT STATION</td>\n",
       "      <td>0.544896</td>\n",
       "      <td>6</td>\n",
       "    </tr>\n",
       "    <tr>\n",
       "      <th>3</th>\n",
       "      <td>467 TAMPINES ST 44</td>\n",
       "      <td>TAMPINES EAST MRT STATION</td>\n",
       "      <td>0.41771</td>\n",
       "      <td>1</td>\n",
       "    </tr>\n",
       "    <tr>\n",
       "      <th>4</th>\n",
       "      <td>367 CORPORATION DR</td>\n",
       "      <td>LAKESIDE MRT STATION</td>\n",
       "      <td>0.753707</td>\n",
       "      <td>1</td>\n",
       "    </tr>\n",
       "  </tbody>\n",
       "</table>\n",
       "</div>"
      ],
      "text/plain": [
       "               address                        mrt  mrt_dist num_mrt_1km\n",
       "0  148 WOODLANDS ST 13      MARSILING MRT STATION  0.359246           1\n",
       "1   426 CLEMENTI AVE 3       CLEMENTI MRT STATION  0.392851           1\n",
       "2        85 CIRCUIT RD         MATTAR MRT STATION  0.544896           6\n",
       "3   467 TAMPINES ST 44  TAMPINES EAST MRT STATION   0.41771           1\n",
       "4   367 CORPORATION DR       LAKESIDE MRT STATION  0.753707           1"
      ]
     },
     "execution_count": 40,
     "metadata": {},
     "output_type": "execute_result"
    }
   ],
   "source": [
    "# Creating a dataframe from the dictionary and renaming the columns\n",
    "nearby_mrt_df = pd.DataFrame.from_dict(nearby_mrt).T\n",
    "nearby_mrt_df = nearby_mrt_df.rename(columns={0: 'address', 1: 'mrt', 2: 'mrt_dist', 3: 'num_mrt_1km'}).reset_index(drop=True)\n",
    "nearby_mrt_df.head()"
   ]
  },
  {
   "cell_type": "markdown",
   "metadata": {},
   "source": [
    "---\n",
    "## Malls"
   ]
  },
  {
   "cell_type": "code",
   "execution_count": 90,
   "metadata": {},
   "outputs": [
    {
     "name": "stdout",
     "output_type": "stream",
     "text": [
      "(169, 1)\n"
     ]
    },
    {
     "data": {
      "text/html": [
       "<div>\n",
       "<style scoped>\n",
       "    .dataframe tbody tr th:only-of-type {\n",
       "        vertical-align: middle;\n",
       "    }\n",
       "\n",
       "    .dataframe tbody tr th {\n",
       "        vertical-align: top;\n",
       "    }\n",
       "\n",
       "    .dataframe thead th {\n",
       "        text-align: right;\n",
       "    }\n",
       "</style>\n",
       "<table border=\"1\" class=\"dataframe\">\n",
       "  <thead>\n",
       "    <tr style=\"text-align: right;\">\n",
       "      <th></th>\n",
       "      <th>malls</th>\n",
       "    </tr>\n",
       "  </thead>\n",
       "  <tbody>\n",
       "    <tr>\n",
       "      <th>0</th>\n",
       "      <td>100 AM</td>\n",
       "    </tr>\n",
       "    <tr>\n",
       "      <th>1</th>\n",
       "      <td>313@Somerset</td>\n",
       "    </tr>\n",
       "    <tr>\n",
       "      <th>2</th>\n",
       "      <td>321 Clementi</td>\n",
       "    </tr>\n",
       "    <tr>\n",
       "      <th>3</th>\n",
       "      <td>888 Plaza</td>\n",
       "    </tr>\n",
       "    <tr>\n",
       "      <th>4</th>\n",
       "      <td>Admiralty Place</td>\n",
       "    </tr>\n",
       "  </tbody>\n",
       "</table>\n",
       "</div>"
      ],
      "text/plain": [
       "             malls\n",
       "0           100 AM\n",
       "1     313@Somerset\n",
       "2     321 Clementi\n",
       "3        888 Plaza\n",
       "4  Admiralty Place"
      ]
     },
     "execution_count": 90,
     "metadata": {},
     "output_type": "execute_result"
    }
   ],
   "source": [
    "print(malls.shape)\n",
    "malls.head()"
   ]
  },
  {
   "cell_type": "markdown",
   "metadata": {},
   "source": [
    "### Getting Coordinates"
   ]
  },
  {
   "cell_type": "code",
   "execution_count": 91,
   "metadata": {},
   "outputs": [
    {
     "name": "stdout",
     "output_type": "stream",
     "text": [
      "No. of Malls: 169\n"
     ]
    },
    {
     "data": {
      "text/plain": [
       "['100 AM',\n",
       " '313@Somerset',\n",
       " '321 Clementi',\n",
       " '888 Plaza',\n",
       " 'Admiralty Place',\n",
       " 'Alexandra Central',\n",
       " 'Alexandra Retail Centre',\n",
       " 'AMK Hub',\n",
       " 'Anchorpoint',\n",
       " 'Aperia']"
      ]
     },
     "execution_count": 91,
     "metadata": {},
     "output_type": "execute_result"
    }
   ],
   "source": [
    "# Creating a list of unique malls\n",
    "all_malls = list(malls['malls'])\n",
    "print('No. of Malls:', len(all_malls))\n",
    "all_malls[:10]\n"
   ]
  },
  {
   "cell_type": "code",
   "execution_count": 92,
   "metadata": {},
   "outputs": [],
   "source": [
    "# Getting coordinates of all the malls\n",
    "mall_coord = get_coordinates(all_malls)"
   ]
  },
  {
   "cell_type": "code",
   "execution_count": 93,
   "metadata": {},
   "outputs": [
    {
     "name": "stdout",
     "output_type": "stream",
     "text": [
      "(169, 3)\n"
     ]
    },
    {
     "data": {
      "text/html": [
       "<div>\n",
       "<style scoped>\n",
       "    .dataframe tbody tr th:only-of-type {\n",
       "        vertical-align: middle;\n",
       "    }\n",
       "\n",
       "    .dataframe tbody tr th {\n",
       "        vertical-align: top;\n",
       "    }\n",
       "\n",
       "    .dataframe thead th {\n",
       "        text-align: right;\n",
       "    }\n",
       "</style>\n",
       "<table border=\"1\" class=\"dataframe\">\n",
       "  <thead>\n",
       "    <tr style=\"text-align: right;\">\n",
       "      <th></th>\n",
       "      <th>address</th>\n",
       "      <th>LATITUDE</th>\n",
       "      <th>LONGITUDE</th>\n",
       "    </tr>\n",
       "  </thead>\n",
       "  <tbody>\n",
       "    <tr>\n",
       "      <th>0</th>\n",
       "      <td>100 AM</td>\n",
       "      <td>1.27468281482263</td>\n",
       "      <td>103.843488359469</td>\n",
       "    </tr>\n",
       "    <tr>\n",
       "      <th>1</th>\n",
       "      <td>313@Somerset</td>\n",
       "      <td>1.30101436404056</td>\n",
       "      <td>103.838360664485</td>\n",
       "    </tr>\n",
       "    <tr>\n",
       "      <th>2</th>\n",
       "      <td>321 Clementi</td>\n",
       "      <td>1.31200212030821</td>\n",
       "      <td>103.764986676365</td>\n",
       "    </tr>\n",
       "    <tr>\n",
       "      <th>3</th>\n",
       "      <td>888 Plaza</td>\n",
       "      <td>1.43712301500434</td>\n",
       "      <td>103.795314383823</td>\n",
       "    </tr>\n",
       "    <tr>\n",
       "      <th>4</th>\n",
       "      <td>Admiralty Place</td>\n",
       "      <td>1.43963261801972</td>\n",
       "      <td>103.802121646793</td>\n",
       "    </tr>\n",
       "  </tbody>\n",
       "</table>\n",
       "</div>"
      ],
      "text/plain": [
       "           address          LATITUDE         LONGITUDE\n",
       "0           100 AM  1.27468281482263  103.843488359469\n",
       "1     313@Somerset  1.30101436404056  103.838360664485\n",
       "2     321 Clementi  1.31200212030821  103.764986676365\n",
       "3        888 Plaza  1.43712301500434  103.795314383823\n",
       "4  Admiralty Place  1.43963261801972  103.802121646793"
      ]
     },
     "execution_count": 93,
     "metadata": {},
     "output_type": "execute_result"
    }
   ],
   "source": [
    "print(mall_coord.shape)\n",
    "mall_coord.head()"
   ]
  },
  {
   "cell_type": "code",
   "execution_count": 94,
   "metadata": {},
   "outputs": [],
   "source": [
    "# Exporting the coordinates to a csv file\n",
    "mall_coord.to_csv('../data/coordinates/mall_coordinates.csv',index=False)"
   ]
  },
  {
   "cell_type": "markdown",
   "metadata": {},
   "source": [
    "### Finding Nearest Malls"
   ]
  },
  {
   "cell_type": "code",
   "execution_count": 41,
   "metadata": {},
   "outputs": [],
   "source": [
    "# Importing the mall_coordinates file\n",
    "mall_coord = pd.read_csv('../data/coordinates/mall_coordinates.csv')"
   ]
  },
  {
   "cell_type": "code",
   "execution_count": 42,
   "metadata": {},
   "outputs": [],
   "source": [
    "# Applying the function\n",
    "nearby_malls = search_nearby(block_coord, mall_coord)"
   ]
  },
  {
   "cell_type": "code",
   "execution_count": 43,
   "metadata": {},
   "outputs": [
    {
     "data": {
      "text/html": [
       "<div>\n",
       "<style scoped>\n",
       "    .dataframe tbody tr th:only-of-type {\n",
       "        vertical-align: middle;\n",
       "    }\n",
       "\n",
       "    .dataframe tbody tr th {\n",
       "        vertical-align: top;\n",
       "    }\n",
       "\n",
       "    .dataframe thead th {\n",
       "        text-align: right;\n",
       "    }\n",
       "</style>\n",
       "<table border=\"1\" class=\"dataframe\">\n",
       "  <thead>\n",
       "    <tr style=\"text-align: right;\">\n",
       "      <th></th>\n",
       "      <th>address</th>\n",
       "      <th>mall</th>\n",
       "      <th>mall_dist</th>\n",
       "      <th>num_mall_1km</th>\n",
       "    </tr>\n",
       "  </thead>\n",
       "  <tbody>\n",
       "    <tr>\n",
       "      <th>0</th>\n",
       "      <td>148 WOODLANDS ST 13</td>\n",
       "      <td>Marsiling Mall</td>\n",
       "      <td>0.695939</td>\n",
       "      <td>1</td>\n",
       "    </tr>\n",
       "    <tr>\n",
       "      <th>1</th>\n",
       "      <td>426 CLEMENTI AVE 3</td>\n",
       "      <td>321 Clementi</td>\n",
       "      <td>0.098085</td>\n",
       "      <td>4</td>\n",
       "    </tr>\n",
       "    <tr>\n",
       "      <th>2</th>\n",
       "      <td>85 CIRCUIT RD</td>\n",
       "      <td>Paya Lebar Square</td>\n",
       "      <td>0.870095</td>\n",
       "      <td>1</td>\n",
       "    </tr>\n",
       "    <tr>\n",
       "      <th>3</th>\n",
       "      <td>467 TAMPINES ST 44</td>\n",
       "      <td>Loyang Point</td>\n",
       "      <td>1.317606</td>\n",
       "      <td>0</td>\n",
       "    </tr>\n",
       "    <tr>\n",
       "      <th>4</th>\n",
       "      <td>367 CORPORATION DR</td>\n",
       "      <td>Taman Jurong Shopping Centre</td>\n",
       "      <td>0.347819</td>\n",
       "      <td>1</td>\n",
       "    </tr>\n",
       "  </tbody>\n",
       "</table>\n",
       "</div>"
      ],
      "text/plain": [
       "               address                          mall mall_dist num_mall_1km\n",
       "0  148 WOODLANDS ST 13                Marsiling Mall  0.695939            1\n",
       "1   426 CLEMENTI AVE 3                  321 Clementi  0.098085            4\n",
       "2        85 CIRCUIT RD             Paya Lebar Square  0.870095            1\n",
       "3   467 TAMPINES ST 44                  Loyang Point  1.317606            0\n",
       "4   367 CORPORATION DR  Taman Jurong Shopping Centre  0.347819            1"
      ]
     },
     "execution_count": 43,
     "metadata": {},
     "output_type": "execute_result"
    }
   ],
   "source": [
    "# Creating a dataframe from the dictionary and renaming the columns\n",
    "nearby_malls_df = pd.DataFrame.from_dict(nearby_malls).T\n",
    "nearby_malls_df = nearby_malls_df.rename(columns={0: 'address', 1: 'mall', 2: 'mall_dist', 3: 'num_mall_1km'}).reset_index(drop=True)\n",
    "nearby_malls_df.head()"
   ]
  },
  {
   "cell_type": "markdown",
   "metadata": {},
   "source": [
    "---\n",
    "## Supermarkets"
   ]
  },
  {
   "cell_type": "code",
   "execution_count": 146,
   "metadata": {},
   "outputs": [
    {
     "name": "stdout",
     "output_type": "stream",
     "text": [
      "(607, 4)\n"
     ]
    },
    {
     "data": {
      "text/html": [
       "<div>\n",
       "<style scoped>\n",
       "    .dataframe tbody tr th:only-of-type {\n",
       "        vertical-align: middle;\n",
       "    }\n",
       "\n",
       "    .dataframe tbody tr th {\n",
       "        vertical-align: top;\n",
       "    }\n",
       "\n",
       "    .dataframe thead th {\n",
       "        text-align: right;\n",
       "    }\n",
       "</style>\n",
       "<table border=\"1\" class=\"dataframe\">\n",
       "  <thead>\n",
       "    <tr style=\"text-align: right;\">\n",
       "      <th></th>\n",
       "      <th>licence_numbers</th>\n",
       "      <th>business_name</th>\n",
       "      <th>name_of_license</th>\n",
       "      <th>premise_address</th>\n",
       "    </tr>\n",
       "  </thead>\n",
       "  <tbody>\n",
       "    <tr>\n",
       "      <th>0</th>\n",
       "      <td>B02008E000</td>\n",
       "      <td>SHENG SIONG SUPERMARKET</td>\n",
       "      <td>SHENG SIONG SUPERMARKET PTE LTD</td>\n",
       "      <td>845 YISHUN STREET 81 #01-184, S(760845)</td>\n",
       "    </tr>\n",
       "    <tr>\n",
       "      <th>1</th>\n",
       "      <td>B02011P000</td>\n",
       "      <td>GIANT</td>\n",
       "      <td>COLD STORAGE SINGAPORE (1983) PTE LTD</td>\n",
       "      <td>524A JELAPANG ROAD #03-13/18, GREENRIDGE SHOPP...</td>\n",
       "    </tr>\n",
       "    <tr>\n",
       "      <th>2</th>\n",
       "      <td>B02012N000</td>\n",
       "      <td>COLD STORAGE</td>\n",
       "      <td>COLD STORAGE SINGAPORE (1983) PTE LTD</td>\n",
       "      <td>768 WOODLANDS AVENUE 6 #01-34, WOODLANDS MART ...</td>\n",
       "    </tr>\n",
       "    <tr>\n",
       "      <th>3</th>\n",
       "      <td>B02015J000</td>\n",
       "      <td>SHENG SIONG SUPERMARKET</td>\n",
       "      <td>SHENG SIONG SUPERMARKET PTE LTD</td>\n",
       "      <td>122 ANG MO KIO AVENUE 3 #01-1753,#01-1757,#01-...</td>\n",
       "    </tr>\n",
       "    <tr>\n",
       "      <th>4</th>\n",
       "      <td>B02017C000</td>\n",
       "      <td>SHENG SIONG SUPERMARKET</td>\n",
       "      <td>SHENG SIONG SUPERMARKET PTE LTD</td>\n",
       "      <td>301 WOODLANDS STREET 31 #01-217, S(730301)</td>\n",
       "    </tr>\n",
       "  </tbody>\n",
       "</table>\n",
       "</div>"
      ],
      "text/plain": [
       "  licence_numbers            business_name  \\\n",
       "0      B02008E000  SHENG SIONG SUPERMARKET   \n",
       "1      B02011P000                    GIANT   \n",
       "2      B02012N000             COLD STORAGE   \n",
       "3      B02015J000  SHENG SIONG SUPERMARKET   \n",
       "4      B02017C000  SHENG SIONG SUPERMARKET   \n",
       "\n",
       "                         name_of_license  \\\n",
       "0        SHENG SIONG SUPERMARKET PTE LTD   \n",
       "1  COLD STORAGE SINGAPORE (1983) PTE LTD   \n",
       "2  COLD STORAGE SINGAPORE (1983) PTE LTD   \n",
       "3        SHENG SIONG SUPERMARKET PTE LTD   \n",
       "4        SHENG SIONG SUPERMARKET PTE LTD   \n",
       "\n",
       "                                     premise_address  \n",
       "0            845 YISHUN STREET 81 #01-184, S(760845)  \n",
       "1  524A JELAPANG ROAD #03-13/18, GREENRIDGE SHOPP...  \n",
       "2  768 WOODLANDS AVENUE 6 #01-34, WOODLANDS MART ...  \n",
       "3  122 ANG MO KIO AVENUE 3 #01-1753,#01-1757,#01-...  \n",
       "4         301 WOODLANDS STREET 31 #01-217, S(730301)  "
      ]
     },
     "execution_count": 146,
     "metadata": {},
     "output_type": "execute_result"
    }
   ],
   "source": [
    "print(supermarkets.shape)\n",
    "supermarkets.head()"
   ]
  },
  {
   "cell_type": "code",
   "execution_count": 147,
   "metadata": {},
   "outputs": [],
   "source": [
    "# Extracting postal code from the last 8 characters of premise_address\n",
    "supermarkets['postal_code'] = supermarkets['premise_address'].str[-8:]\n",
    "supermarkets['postal_code'] = supermarkets['postal_code'].str.strip('()')"
   ]
  },
  {
   "cell_type": "code",
   "execution_count": 148,
   "metadata": {},
   "outputs": [
    {
     "data": {
      "text/html": [
       "<div>\n",
       "<style scoped>\n",
       "    .dataframe tbody tr th:only-of-type {\n",
       "        vertical-align: middle;\n",
       "    }\n",
       "\n",
       "    .dataframe tbody tr th {\n",
       "        vertical-align: top;\n",
       "    }\n",
       "\n",
       "    .dataframe thead th {\n",
       "        text-align: right;\n",
       "    }\n",
       "</style>\n",
       "<table border=\"1\" class=\"dataframe\">\n",
       "  <thead>\n",
       "    <tr style=\"text-align: right;\">\n",
       "      <th></th>\n",
       "      <th>licence_numbers</th>\n",
       "      <th>business_name</th>\n",
       "      <th>name_of_license</th>\n",
       "      <th>premise_address</th>\n",
       "      <th>postal_code</th>\n",
       "    </tr>\n",
       "  </thead>\n",
       "  <tbody>\n",
       "    <tr>\n",
       "      <th>0</th>\n",
       "      <td>B02008E000</td>\n",
       "      <td>SHENG SIONG SUPERMARKET</td>\n",
       "      <td>SHENG SIONG SUPERMARKET PTE LTD</td>\n",
       "      <td>845 YISHUN STREET 81 #01-184, S(760845)</td>\n",
       "      <td>760845</td>\n",
       "    </tr>\n",
       "    <tr>\n",
       "      <th>1</th>\n",
       "      <td>B02011P000</td>\n",
       "      <td>GIANT</td>\n",
       "      <td>COLD STORAGE SINGAPORE (1983) PTE LTD</td>\n",
       "      <td>524A JELAPANG ROAD #03-13/18, GREENRIDGE SHOPP...</td>\n",
       "      <td>671524</td>\n",
       "    </tr>\n",
       "    <tr>\n",
       "      <th>2</th>\n",
       "      <td>B02012N000</td>\n",
       "      <td>COLD STORAGE</td>\n",
       "      <td>COLD STORAGE SINGAPORE (1983) PTE LTD</td>\n",
       "      <td>768 WOODLANDS AVENUE 6 #01-34, WOODLANDS MART ...</td>\n",
       "      <td>730768</td>\n",
       "    </tr>\n",
       "    <tr>\n",
       "      <th>3</th>\n",
       "      <td>B02015J000</td>\n",
       "      <td>SHENG SIONG SUPERMARKET</td>\n",
       "      <td>SHENG SIONG SUPERMARKET PTE LTD</td>\n",
       "      <td>122 ANG MO KIO AVENUE 3 #01-1753,#01-1757,#01-...</td>\n",
       "      <td>560122</td>\n",
       "    </tr>\n",
       "    <tr>\n",
       "      <th>4</th>\n",
       "      <td>B02017C000</td>\n",
       "      <td>SHENG SIONG SUPERMARKET</td>\n",
       "      <td>SHENG SIONG SUPERMARKET PTE LTD</td>\n",
       "      <td>301 WOODLANDS STREET 31 #01-217, S(730301)</td>\n",
       "      <td>730301</td>\n",
       "    </tr>\n",
       "  </tbody>\n",
       "</table>\n",
       "</div>"
      ],
      "text/plain": [
       "  licence_numbers            business_name  \\\n",
       "0      B02008E000  SHENG SIONG SUPERMARKET   \n",
       "1      B02011P000                    GIANT   \n",
       "2      B02012N000             COLD STORAGE   \n",
       "3      B02015J000  SHENG SIONG SUPERMARKET   \n",
       "4      B02017C000  SHENG SIONG SUPERMARKET   \n",
       "\n",
       "                         name_of_license  \\\n",
       "0        SHENG SIONG SUPERMARKET PTE LTD   \n",
       "1  COLD STORAGE SINGAPORE (1983) PTE LTD   \n",
       "2  COLD STORAGE SINGAPORE (1983) PTE LTD   \n",
       "3        SHENG SIONG SUPERMARKET PTE LTD   \n",
       "4        SHENG SIONG SUPERMARKET PTE LTD   \n",
       "\n",
       "                                     premise_address postal_code  \n",
       "0            845 YISHUN STREET 81 #01-184, S(760845)      760845  \n",
       "1  524A JELAPANG ROAD #03-13/18, GREENRIDGE SHOPP...      671524  \n",
       "2  768 WOODLANDS AVENUE 6 #01-34, WOODLANDS MART ...      730768  \n",
       "3  122 ANG MO KIO AVENUE 3 #01-1753,#01-1757,#01-...      560122  \n",
       "4         301 WOODLANDS STREET 31 #01-217, S(730301)      730301  "
      ]
     },
     "execution_count": 148,
     "metadata": {},
     "output_type": "execute_result"
    }
   ],
   "source": [
    "supermarkets.head()"
   ]
  },
  {
   "cell_type": "code",
   "execution_count": 141,
   "metadata": {},
   "outputs": [
    {
     "name": "stdout",
     "output_type": "stream",
     "text": [
      "<class 'pandas.core.frame.DataFrame'>\n",
      "RangeIndex: 607 entries, 0 to 606\n",
      "Data columns (total 5 columns):\n",
      " #   Column           Non-Null Count  Dtype \n",
      "---  ------           --------------  ----- \n",
      " 0   licence_numbers  607 non-null    object\n",
      " 1   business_name    607 non-null    object\n",
      " 2   name_of_license  607 non-null    object\n",
      " 3   premise_address  607 non-null    object\n",
      " 4   postal_code      607 non-null    object\n",
      "dtypes: object(5)\n",
      "memory usage: 23.8+ KB\n"
     ]
    }
   ],
   "source": [
    "supermarkets.info()"
   ]
  },
  {
   "cell_type": "markdown",
   "metadata": {},
   "source": [
    "### Getting Coordinates"
   ]
  },
  {
   "cell_type": "code",
   "execution_count": 149,
   "metadata": {},
   "outputs": [
    {
     "name": "stdout",
     "output_type": "stream",
     "text": [
      "No. of Supermarkets: 607\n",
      "Unique addresses: 547\n"
     ]
    }
   ],
   "source": [
    "# Creating a list of unique supermarkets\n",
    "supermarket_address = list(supermarkets['postal_code'])\n",
    "print('No. of Supermarkets:', len(supermarket_address))\n",
    "\n",
    "unique_supermarket = list(set(supermarket_address))\n",
    "print('Unique addresses:', len(unique_supermarket))"
   ]
  },
  {
   "cell_type": "code",
   "execution_count": 151,
   "metadata": {},
   "outputs": [],
   "source": [
    "# Applying the function to find the coordinates of each address\n",
    "supermarket_coord = get_coordinates(unique_supermarket)"
   ]
  },
  {
   "cell_type": "code",
   "execution_count": 45,
   "metadata": {},
   "outputs": [
    {
     "name": "stdout",
     "output_type": "stream",
     "text": [
      "(547, 3)\n"
     ]
    },
    {
     "data": {
      "text/html": [
       "<div>\n",
       "<style scoped>\n",
       "    .dataframe tbody tr th:only-of-type {\n",
       "        vertical-align: middle;\n",
       "    }\n",
       "\n",
       "    .dataframe tbody tr th {\n",
       "        vertical-align: top;\n",
       "    }\n",
       "\n",
       "    .dataframe thead th {\n",
       "        text-align: right;\n",
       "    }\n",
       "</style>\n",
       "<table border=\"1\" class=\"dataframe\">\n",
       "  <thead>\n",
       "    <tr style=\"text-align: right;\">\n",
       "      <th></th>\n",
       "      <th>address</th>\n",
       "      <th>LATITUDE</th>\n",
       "      <th>LONGITUDE</th>\n",
       "    </tr>\n",
       "  </thead>\n",
       "  <tbody>\n",
       "    <tr>\n",
       "      <th>0</th>\n",
       "      <td>636937</td>\n",
       "      <td>1.270196</td>\n",
       "      <td>103.634480</td>\n",
       "    </tr>\n",
       "    <tr>\n",
       "      <th>1</th>\n",
       "      <td>389551</td>\n",
       "      <td>1.314150</td>\n",
       "      <td>103.888545</td>\n",
       "    </tr>\n",
       "    <tr>\n",
       "      <th>2</th>\n",
       "      <td>560260</td>\n",
       "      <td>1.368916</td>\n",
       "      <td>103.834500</td>\n",
       "    </tr>\n",
       "    <tr>\n",
       "      <th>3</th>\n",
       "      <td>538692</td>\n",
       "      <td>1.375715</td>\n",
       "      <td>103.879472</td>\n",
       "    </tr>\n",
       "    <tr>\n",
       "      <th>4</th>\n",
       "      <td>757177</td>\n",
       "      <td>1.450750</td>\n",
       "      <td>103.796847</td>\n",
       "    </tr>\n",
       "  </tbody>\n",
       "</table>\n",
       "</div>"
      ],
      "text/plain": [
       "   address  LATITUDE   LONGITUDE\n",
       "0   636937  1.270196  103.634480\n",
       "1   389551  1.314150  103.888545\n",
       "2   560260  1.368916  103.834500\n",
       "3   538692  1.375715  103.879472\n",
       "4   757177  1.450750  103.796847"
      ]
     },
     "execution_count": 45,
     "metadata": {},
     "output_type": "execute_result"
    }
   ],
   "source": [
    "print(supermarket_coord.shape)\n",
    "supermarket_coord.head()"
   ]
  },
  {
   "cell_type": "code",
   "execution_count": 152,
   "metadata": {},
   "outputs": [],
   "source": [
    "# Exporting the coordinates to a csv file\n",
    "supermarket_coord.to_csv('../data/coordinates/supermarket_coordinates.csv',index=False)"
   ]
  },
  {
   "cell_type": "markdown",
   "metadata": {},
   "source": [
    "### Finding Nearest Supermarkets"
   ]
  },
  {
   "cell_type": "code",
   "execution_count": 44,
   "metadata": {},
   "outputs": [],
   "source": [
    "# Importing the supermarket_coordinates file\n",
    "supermarket_coord = pd.read_csv('../data/coordinates/supermarket_coordinates.csv')"
   ]
  },
  {
   "cell_type": "code",
   "execution_count": 46,
   "metadata": {},
   "outputs": [],
   "source": [
    "# Applying the function\n",
    "nearby_supermarkets = search_nearby(block_coord, supermarket_coord)"
   ]
  },
  {
   "cell_type": "code",
   "execution_count": 47,
   "metadata": {},
   "outputs": [
    {
     "data": {
      "text/html": [
       "<div>\n",
       "<style scoped>\n",
       "    .dataframe tbody tr th:only-of-type {\n",
       "        vertical-align: middle;\n",
       "    }\n",
       "\n",
       "    .dataframe tbody tr th {\n",
       "        vertical-align: top;\n",
       "    }\n",
       "\n",
       "    .dataframe thead th {\n",
       "        text-align: right;\n",
       "    }\n",
       "</style>\n",
       "<table border=\"1\" class=\"dataframe\">\n",
       "  <thead>\n",
       "    <tr style=\"text-align: right;\">\n",
       "      <th></th>\n",
       "      <th>address</th>\n",
       "      <th>supermarket</th>\n",
       "      <th>supermarket_dist</th>\n",
       "      <th>num_supermarket_1km</th>\n",
       "    </tr>\n",
       "  </thead>\n",
       "  <tbody>\n",
       "    <tr>\n",
       "      <th>0</th>\n",
       "      <td>148 WOODLANDS ST 13</td>\n",
       "      <td>730182</td>\n",
       "      <td>0.231658</td>\n",
       "      <td>5</td>\n",
       "    </tr>\n",
       "    <tr>\n",
       "      <th>1</th>\n",
       "      <td>426 CLEMENTI AVE 3</td>\n",
       "      <td>120451</td>\n",
       "      <td>0.172466</td>\n",
       "      <td>8</td>\n",
       "    </tr>\n",
       "    <tr>\n",
       "      <th>2</th>\n",
       "      <td>85 CIRCUIT RD</td>\n",
       "      <td>380114</td>\n",
       "      <td>0.156163</td>\n",
       "      <td>8</td>\n",
       "    </tr>\n",
       "    <tr>\n",
       "      <th>3</th>\n",
       "      <td>467 TAMPINES ST 44</td>\n",
       "      <td>520475</td>\n",
       "      <td>0.175411</td>\n",
       "      <td>5</td>\n",
       "    </tr>\n",
       "    <tr>\n",
       "      <th>4</th>\n",
       "      <td>367 CORPORATION DR</td>\n",
       "      <td>610399</td>\n",
       "      <td>0.319123</td>\n",
       "      <td>2</td>\n",
       "    </tr>\n",
       "  </tbody>\n",
       "</table>\n",
       "</div>"
      ],
      "text/plain": [
       "               address supermarket supermarket_dist num_supermarket_1km\n",
       "0  148 WOODLANDS ST 13      730182         0.231658                   5\n",
       "1   426 CLEMENTI AVE 3      120451         0.172466                   8\n",
       "2        85 CIRCUIT RD      380114         0.156163                   8\n",
       "3   467 TAMPINES ST 44      520475         0.175411                   5\n",
       "4   367 CORPORATION DR      610399         0.319123                   2"
      ]
     },
     "execution_count": 47,
     "metadata": {},
     "output_type": "execute_result"
    }
   ],
   "source": [
    "# Creating a dataframe from the dictionary and renaming the columns\n",
    "nearby_supermarkets_df = pd.DataFrame.from_dict(nearby_supermarkets).T\n",
    "nearby_supermarkets_df = nearby_supermarkets_df.rename(columns={0: 'address', 1: 'supermarket', 2: 'supermarket_dist', 3: 'num_supermarket_1km'}).reset_index(drop=True)\n",
    "nearby_supermarkets_df.head()"
   ]
  },
  {
   "cell_type": "markdown",
   "metadata": {},
   "source": [
    "---\n",
    "## Hawker Centres and Markets"
   ]
  },
  {
   "cell_type": "markdown",
   "metadata": {},
   "source": [
    "### Finding Nearest"
   ]
  },
  {
   "cell_type": "code",
   "execution_count": 49,
   "metadata": {},
   "outputs": [],
   "source": [
    "# Applying the function\n",
    "nearby_hawkers = search_nearby(block_coord, hawkers)"
   ]
  },
  {
   "cell_type": "code",
   "execution_count": 61,
   "metadata": {},
   "outputs": [
    {
     "name": "stdout",
     "output_type": "stream",
     "text": [
      "(9462, 3)\n"
     ]
    },
    {
     "data": {
      "text/html": [
       "<div>\n",
       "<style scoped>\n",
       "    .dataframe tbody tr th:only-of-type {\n",
       "        vertical-align: middle;\n",
       "    }\n",
       "\n",
       "    .dataframe tbody tr th {\n",
       "        vertical-align: top;\n",
       "    }\n",
       "\n",
       "    .dataframe thead th {\n",
       "        text-align: right;\n",
       "    }\n",
       "</style>\n",
       "<table border=\"1\" class=\"dataframe\">\n",
       "  <thead>\n",
       "    <tr style=\"text-align: right;\">\n",
       "      <th></th>\n",
       "      <th>address</th>\n",
       "      <th>hawker_dist</th>\n",
       "      <th>num_hawker_1km</th>\n",
       "    </tr>\n",
       "  </thead>\n",
       "  <tbody>\n",
       "    <tr>\n",
       "      <th>0</th>\n",
       "      <td>148 WOODLANDS ST 13</td>\n",
       "      <td>0.685467</td>\n",
       "      <td>2</td>\n",
       "    </tr>\n",
       "    <tr>\n",
       "      <th>1</th>\n",
       "      <td>426 CLEMENTI AVE 3</td>\n",
       "      <td>0.188672</td>\n",
       "      <td>5</td>\n",
       "    </tr>\n",
       "    <tr>\n",
       "      <th>2</th>\n",
       "      <td>85 CIRCUIT RD</td>\n",
       "      <td>0.094512</td>\n",
       "      <td>5</td>\n",
       "    </tr>\n",
       "    <tr>\n",
       "      <th>3</th>\n",
       "      <td>467 TAMPINES ST 44</td>\n",
       "      <td>1.528611</td>\n",
       "      <td>0</td>\n",
       "    </tr>\n",
       "    <tr>\n",
       "      <th>4</th>\n",
       "      <td>367 CORPORATION DR</td>\n",
       "      <td>0.43349</td>\n",
       "      <td>1</td>\n",
       "    </tr>\n",
       "  </tbody>\n",
       "</table>\n",
       "</div>"
      ],
      "text/plain": [
       "               address hawker_dist num_hawker_1km\n",
       "0  148 WOODLANDS ST 13    0.685467              2\n",
       "1   426 CLEMENTI AVE 3    0.188672              5\n",
       "2        85 CIRCUIT RD    0.094512              5\n",
       "3   467 TAMPINES ST 44    1.528611              0\n",
       "4   367 CORPORATION DR     0.43349              1"
      ]
     },
     "execution_count": 61,
     "metadata": {},
     "output_type": "execute_result"
    }
   ],
   "source": [
    "# Creating a dataframe from the dictionary, dropping and renaming the columns\n",
    "nearby_hawkers_df = pd.DataFrame.from_dict(nearby_hawkers).T\n",
    "nearby_hawkers_df = nearby_hawkers_df.rename(columns={0: 'address', 1: 'hawker', 2: 'hawker_dist', 3: 'num_hawker_1km'}).reset_index(drop=True)\n",
    "nearby_hawkers_df = nearby_hawkers_df.drop(['hawker'], axis=1)\n",
    "print(nearby_hawkers_df.shape)\n",
    "nearby_hawkers_df.head()"
   ]
  },
  {
   "cell_type": "markdown",
   "metadata": {},
   "source": [
    "---\n",
    "## Parks"
   ]
  },
  {
   "cell_type": "markdown",
   "metadata": {},
   "source": [
    "### Finding Nearest Parks"
   ]
  },
  {
   "cell_type": "code",
   "execution_count": 51,
   "metadata": {},
   "outputs": [],
   "source": [
    "# Applying the function\n",
    "nearby_parks = search_nearby(block_coord, parks)"
   ]
  },
  {
   "cell_type": "code",
   "execution_count": 52,
   "metadata": {},
   "outputs": [
    {
     "data": {
      "text/html": [
       "<div>\n",
       "<style scoped>\n",
       "    .dataframe tbody tr th:only-of-type {\n",
       "        vertical-align: middle;\n",
       "    }\n",
       "\n",
       "    .dataframe tbody tr th {\n",
       "        vertical-align: top;\n",
       "    }\n",
       "\n",
       "    .dataframe thead th {\n",
       "        text-align: right;\n",
       "    }\n",
       "</style>\n",
       "<table border=\"1\" class=\"dataframe\">\n",
       "  <thead>\n",
       "    <tr style=\"text-align: right;\">\n",
       "      <th></th>\n",
       "      <th>address</th>\n",
       "      <th>park_dist</th>\n",
       "      <th>num_park_1km</th>\n",
       "    </tr>\n",
       "  </thead>\n",
       "  <tbody>\n",
       "    <tr>\n",
       "      <th>0</th>\n",
       "      <td>148 WOODLANDS ST 13</td>\n",
       "      <td>0.50081</td>\n",
       "      <td>2</td>\n",
       "    </tr>\n",
       "    <tr>\n",
       "      <th>1</th>\n",
       "      <td>426 CLEMENTI AVE 3</td>\n",
       "      <td>0.318873</td>\n",
       "      <td>5</td>\n",
       "    </tr>\n",
       "    <tr>\n",
       "      <th>2</th>\n",
       "      <td>85 CIRCUIT RD</td>\n",
       "      <td>0.233353</td>\n",
       "      <td>2</td>\n",
       "    </tr>\n",
       "    <tr>\n",
       "      <th>3</th>\n",
       "      <td>467 TAMPINES ST 44</td>\n",
       "      <td>0.795132</td>\n",
       "      <td>1</td>\n",
       "    </tr>\n",
       "    <tr>\n",
       "      <th>4</th>\n",
       "      <td>367 CORPORATION DR</td>\n",
       "      <td>0.269495</td>\n",
       "      <td>2</td>\n",
       "    </tr>\n",
       "  </tbody>\n",
       "</table>\n",
       "</div>"
      ],
      "text/plain": [
       "               address park_dist num_park_1km\n",
       "0  148 WOODLANDS ST 13   0.50081            2\n",
       "1   426 CLEMENTI AVE 3  0.318873            5\n",
       "2        85 CIRCUIT RD  0.233353            2\n",
       "3   467 TAMPINES ST 44  0.795132            1\n",
       "4   367 CORPORATION DR  0.269495            2"
      ]
     },
     "execution_count": 52,
     "metadata": {},
     "output_type": "execute_result"
    }
   ],
   "source": [
    "# Creating a dataframe from the dictionary, dropping and renaming the columns\n",
    "nearby_parks_df = pd.DataFrame.from_dict(nearby_parks).T\n",
    "nearby_parks_df = nearby_parks_df.rename(columns={0: 'address', 1: 'park', 2: 'park_dist', 3: 'num_park_1km'}).reset_index(drop=True)\n",
    "nearby_parks_df = nearby_parks_df.drop(['park'], axis=1)\n",
    "nearby_parks_df.head()"
   ]
  },
  {
   "cell_type": "markdown",
   "metadata": {},
   "source": [
    "---\n",
    "## Schools"
   ]
  },
  {
   "cell_type": "markdown",
   "metadata": {},
   "source": [
    "For schools, we will only focus on Primary schools as there are certain [distance factors](https://www.moe.gov.sg/primary/p1-registration/distance) that parents can utilise to drastically improve the chances of enrollment. Research shows that this is one of the common concerns for a buyer, even though there are preventive measures in place. "
   ]
  },
  {
   "cell_type": "code",
   "execution_count": 21,
   "metadata": {},
   "outputs": [
    {
     "name": "stdout",
     "output_type": "stream",
     "text": [
      "(346, 7)\n"
     ]
    },
    {
     "data": {
      "text/html": [
       "<div>\n",
       "<style scoped>\n",
       "    .dataframe tbody tr th:only-of-type {\n",
       "        vertical-align: middle;\n",
       "    }\n",
       "\n",
       "    .dataframe tbody tr th {\n",
       "        vertical-align: top;\n",
       "    }\n",
       "\n",
       "    .dataframe thead th {\n",
       "        text-align: right;\n",
       "    }\n",
       "</style>\n",
       "<table border=\"1\" class=\"dataframe\">\n",
       "  <thead>\n",
       "    <tr style=\"text-align: right;\">\n",
       "      <th></th>\n",
       "      <th>school_name</th>\n",
       "      <th>address</th>\n",
       "      <th>postal_code</th>\n",
       "      <th>mrt_desc</th>\n",
       "      <th>dgp_code</th>\n",
       "      <th>zone_code</th>\n",
       "      <th>mainlevel_code</th>\n",
       "    </tr>\n",
       "  </thead>\n",
       "  <tbody>\n",
       "    <tr>\n",
       "      <th>0</th>\n",
       "      <td>CANTONMENT PRIMARY SCHOOL</td>\n",
       "      <td>1    Cantonment Close</td>\n",
       "      <td>088256</td>\n",
       "      <td>Tanjong Pagar Outram Park</td>\n",
       "      <td>BUKIT MERAH</td>\n",
       "      <td>SOUTH</td>\n",
       "      <td>PRIMARY</td>\n",
       "    </tr>\n",
       "    <tr>\n",
       "      <th>1</th>\n",
       "      <td>CHIJ ST. THERESA'S CONVENT</td>\n",
       "      <td>160  LOWER DELTA ROAD</td>\n",
       "      <td>099138</td>\n",
       "      <td>HARBOURFRONT MRT, TIONG BAHRU MRT</td>\n",
       "      <td>BUKIT MERAH</td>\n",
       "      <td>SOUTH</td>\n",
       "      <td>SECONDARY</td>\n",
       "    </tr>\n",
       "    <tr>\n",
       "      <th>2</th>\n",
       "      <td>CHIJ (KELLOCK)</td>\n",
       "      <td>1    Bukit Teresa Road</td>\n",
       "      <td>099757</td>\n",
       "      <td>Outram Park Station</td>\n",
       "      <td>BUKIT MERAH</td>\n",
       "      <td>SOUTH</td>\n",
       "      <td>PRIMARY</td>\n",
       "    </tr>\n",
       "    <tr>\n",
       "      <th>3</th>\n",
       "      <td>RADIN MAS PRIMARY SCHOOL</td>\n",
       "      <td>1    BUKIT PURMEI AVENUE</td>\n",
       "      <td>099840</td>\n",
       "      <td>Tiong Bahru MRT HarbourFront MRT</td>\n",
       "      <td>BUKIT MERAH</td>\n",
       "      <td>SOUTH</td>\n",
       "      <td>PRIMARY</td>\n",
       "    </tr>\n",
       "    <tr>\n",
       "      <th>4</th>\n",
       "      <td>BLANGAH RISE PRIMARY SCHOOL</td>\n",
       "      <td>91   TELOK BLANGAH HEIGHTS</td>\n",
       "      <td>109100</td>\n",
       "      <td>Telok Blangah, Tiong Bahru &amp; Redhill</td>\n",
       "      <td>BUKIT MERAH</td>\n",
       "      <td>SOUTH</td>\n",
       "      <td>PRIMARY</td>\n",
       "    </tr>\n",
       "  </tbody>\n",
       "</table>\n",
       "</div>"
      ],
      "text/plain": [
       "                   school_name                     address postal_code  \\\n",
       "0    CANTONMENT PRIMARY SCHOOL       1    Cantonment Close      088256   \n",
       "1   CHIJ ST. THERESA'S CONVENT       160  LOWER DELTA ROAD      099138   \n",
       "2               CHIJ (KELLOCK)      1    Bukit Teresa Road      099757   \n",
       "3     RADIN MAS PRIMARY SCHOOL    1    BUKIT PURMEI AVENUE      099840   \n",
       "4  BLANGAH RISE PRIMARY SCHOOL  91   TELOK BLANGAH HEIGHTS      109100   \n",
       "\n",
       "                               mrt_desc     dgp_code zone_code mainlevel_code  \n",
       "0             Tanjong Pagar Outram Park  BUKIT MERAH     SOUTH        PRIMARY  \n",
       "1     HARBOURFRONT MRT, TIONG BAHRU MRT  BUKIT MERAH     SOUTH      SECONDARY  \n",
       "2                   Outram Park Station  BUKIT MERAH     SOUTH        PRIMARY  \n",
       "3      Tiong Bahru MRT HarbourFront MRT  BUKIT MERAH     SOUTH        PRIMARY  \n",
       "4  Telok Blangah, Tiong Bahru & Redhill  BUKIT MERAH     SOUTH        PRIMARY  "
      ]
     },
     "execution_count": 21,
     "metadata": {},
     "output_type": "execute_result"
    }
   ],
   "source": [
    "print(schools.shape)\n",
    "schools.head()"
   ]
  },
  {
   "cell_type": "code",
   "execution_count": 22,
   "metadata": {},
   "outputs": [
    {
     "name": "stdout",
     "output_type": "stream",
     "text": [
      "<class 'pandas.core.frame.DataFrame'>\n",
      "RangeIndex: 346 entries, 0 to 345\n",
      "Data columns (total 7 columns):\n",
      " #   Column          Non-Null Count  Dtype \n",
      "---  ------          --------------  ----- \n",
      " 0   school_name     346 non-null    object\n",
      " 1   address         346 non-null    object\n",
      " 2   postal_code     346 non-null    object\n",
      " 3   mrt_desc        346 non-null    object\n",
      " 4   dgp_code        346 non-null    object\n",
      " 5   zone_code       346 non-null    object\n",
      " 6   mainlevel_code  346 non-null    object\n",
      "dtypes: object(7)\n",
      "memory usage: 19.0+ KB\n"
     ]
    }
   ],
   "source": [
    "schools.info()"
   ]
  },
  {
   "cell_type": "code",
   "execution_count": 23,
   "metadata": {},
   "outputs": [
    {
     "data": {
      "text/plain": [
       "array(['PRIMARY', 'SECONDARY', 'MIXED LEVELS', 'JUNIOR COLLEGE',\n",
       "       'CENTRALISED INSTITUTE'], dtype=object)"
      ]
     },
     "execution_count": 23,
     "metadata": {},
     "output_type": "execute_result"
    }
   ],
   "source": [
    "# Getting unique values of school levels\n",
    "schools['mainlevel_code'].unique()"
   ]
  },
  {
   "cell_type": "code",
   "execution_count": 24,
   "metadata": {},
   "outputs": [
    {
     "name": "stdout",
     "output_type": "stream",
     "text": [
      "(187, 7)\n"
     ]
    },
    {
     "data": {
      "text/html": [
       "<div>\n",
       "<style scoped>\n",
       "    .dataframe tbody tr th:only-of-type {\n",
       "        vertical-align: middle;\n",
       "    }\n",
       "\n",
       "    .dataframe tbody tr th {\n",
       "        vertical-align: top;\n",
       "    }\n",
       "\n",
       "    .dataframe thead th {\n",
       "        text-align: right;\n",
       "    }\n",
       "</style>\n",
       "<table border=\"1\" class=\"dataframe\">\n",
       "  <thead>\n",
       "    <tr style=\"text-align: right;\">\n",
       "      <th></th>\n",
       "      <th>school_name</th>\n",
       "      <th>address</th>\n",
       "      <th>postal_code</th>\n",
       "      <th>mrt_desc</th>\n",
       "      <th>dgp_code</th>\n",
       "      <th>zone_code</th>\n",
       "      <th>mainlevel_code</th>\n",
       "    </tr>\n",
       "  </thead>\n",
       "  <tbody>\n",
       "    <tr>\n",
       "      <th>0</th>\n",
       "      <td>CANTONMENT PRIMARY SCHOOL</td>\n",
       "      <td>1    Cantonment Close</td>\n",
       "      <td>088256</td>\n",
       "      <td>Tanjong Pagar Outram Park</td>\n",
       "      <td>BUKIT MERAH</td>\n",
       "      <td>SOUTH</td>\n",
       "      <td>PRIMARY</td>\n",
       "    </tr>\n",
       "    <tr>\n",
       "      <th>2</th>\n",
       "      <td>CHIJ (KELLOCK)</td>\n",
       "      <td>1    Bukit Teresa Road</td>\n",
       "      <td>099757</td>\n",
       "      <td>Outram Park Station</td>\n",
       "      <td>BUKIT MERAH</td>\n",
       "      <td>SOUTH</td>\n",
       "      <td>PRIMARY</td>\n",
       "    </tr>\n",
       "    <tr>\n",
       "      <th>3</th>\n",
       "      <td>RADIN MAS PRIMARY SCHOOL</td>\n",
       "      <td>1    BUKIT PURMEI AVENUE</td>\n",
       "      <td>099840</td>\n",
       "      <td>Tiong Bahru MRT HarbourFront MRT</td>\n",
       "      <td>BUKIT MERAH</td>\n",
       "      <td>SOUTH</td>\n",
       "      <td>PRIMARY</td>\n",
       "    </tr>\n",
       "    <tr>\n",
       "      <th>4</th>\n",
       "      <td>BLANGAH RISE PRIMARY SCHOOL</td>\n",
       "      <td>91   TELOK BLANGAH HEIGHTS</td>\n",
       "      <td>109100</td>\n",
       "      <td>Telok Blangah, Tiong Bahru &amp; Redhill</td>\n",
       "      <td>BUKIT MERAH</td>\n",
       "      <td>SOUTH</td>\n",
       "      <td>PRIMARY</td>\n",
       "    </tr>\n",
       "    <tr>\n",
       "      <th>7</th>\n",
       "      <td>QIFA PRIMARY SCHOOL</td>\n",
       "      <td>50   WEST COAST AVENUE</td>\n",
       "      <td>128104</td>\n",
       "      <td>Clementi MRT Station</td>\n",
       "      <td>CLEMENTI</td>\n",
       "      <td>WEST</td>\n",
       "      <td>PRIMARY</td>\n",
       "    </tr>\n",
       "  </tbody>\n",
       "</table>\n",
       "</div>"
      ],
      "text/plain": [
       "                   school_name                     address postal_code  \\\n",
       "0    CANTONMENT PRIMARY SCHOOL       1    Cantonment Close      088256   \n",
       "2               CHIJ (KELLOCK)      1    Bukit Teresa Road      099757   \n",
       "3     RADIN MAS PRIMARY SCHOOL    1    BUKIT PURMEI AVENUE      099840   \n",
       "4  BLANGAH RISE PRIMARY SCHOOL  91   TELOK BLANGAH HEIGHTS      109100   \n",
       "7          QIFA PRIMARY SCHOOL      50   WEST COAST AVENUE      128104   \n",
       "\n",
       "                               mrt_desc     dgp_code zone_code mainlevel_code  \n",
       "0             Tanjong Pagar Outram Park  BUKIT MERAH     SOUTH        PRIMARY  \n",
       "2                   Outram Park Station  BUKIT MERAH     SOUTH        PRIMARY  \n",
       "3      Tiong Bahru MRT HarbourFront MRT  BUKIT MERAH     SOUTH        PRIMARY  \n",
       "4  Telok Blangah, Tiong Bahru & Redhill  BUKIT MERAH     SOUTH        PRIMARY  \n",
       "7                  Clementi MRT Station     CLEMENTI      WEST        PRIMARY  "
      ]
     },
     "execution_count": 24,
     "metadata": {},
     "output_type": "execute_result"
    }
   ],
   "source": [
    "# Extracting Primary Schools\n",
    "pri_sch = schools[schools['mainlevel_code'] == 'PRIMARY']\n",
    "print(pri_sch.shape)\n",
    "pri_sch.head()"
   ]
  },
  {
   "cell_type": "markdown",
   "metadata": {},
   "source": [
    "### Getting Coordinates"
   ]
  },
  {
   "cell_type": "code",
   "execution_count": 25,
   "metadata": {},
   "outputs": [
    {
     "name": "stdout",
     "output_type": "stream",
     "text": [
      "All Postal Codes: 187\n",
      "Unique Postal Codes: 187\n"
     ]
    }
   ],
   "source": [
    "# Creating a list of unique schools\n",
    "all_schools = list(pri_sch['postal_code'])\n",
    "print('All Postal Codes:', len(all_schools))\n",
    "\n",
    "unique_schools = list(set(all_schools))\n",
    "print('Unique Postal Codes:', len(unique_schools))"
   ]
  },
  {
   "cell_type": "code",
   "execution_count": 29,
   "metadata": {},
   "outputs": [],
   "source": [
    "# Applying the function\n",
    "pri_sch_coord = get_coordinates(unique_schools)"
   ]
  },
  {
   "cell_type": "code",
   "execution_count": 30,
   "metadata": {},
   "outputs": [],
   "source": [
    "# Exporting the coordinates to a csv file\n",
    "pri_sch_coord.to_csv('../data/coordinates/pri_school_coordinates.csv',index=False)"
   ]
  },
  {
   "cell_type": "markdown",
   "metadata": {},
   "source": [
    "### Finding Nearby Schools"
   ]
  },
  {
   "cell_type": "code",
   "execution_count": 32,
   "metadata": {},
   "outputs": [],
   "source": [
    "# Import school_coordinates file\n",
    "pri_school_coord = pd.read_csv('../data/coordinates/pri_school_coordinates.csv')"
   ]
  },
  {
   "cell_type": "code",
   "execution_count": 33,
   "metadata": {},
   "outputs": [],
   "source": [
    "# Applying the function\n",
    "nearby_schools = search_nearby(block_coord, pri_school_coord)"
   ]
  },
  {
   "cell_type": "code",
   "execution_count": 34,
   "metadata": {},
   "outputs": [
    {
     "data": {
      "text/html": [
       "<div>\n",
       "<style scoped>\n",
       "    .dataframe tbody tr th:only-of-type {\n",
       "        vertical-align: middle;\n",
       "    }\n",
       "\n",
       "    .dataframe tbody tr th {\n",
       "        vertical-align: top;\n",
       "    }\n",
       "\n",
       "    .dataframe thead th {\n",
       "        text-align: right;\n",
       "    }\n",
       "</style>\n",
       "<table border=\"1\" class=\"dataframe\">\n",
       "  <thead>\n",
       "    <tr style=\"text-align: right;\">\n",
       "      <th></th>\n",
       "      <th>address</th>\n",
       "      <th>school</th>\n",
       "      <th>school_dist</th>\n",
       "      <th>num_school_1km</th>\n",
       "      <th>number_school_btw_1km_2km</th>\n",
       "    </tr>\n",
       "  </thead>\n",
       "  <tbody>\n",
       "    <tr>\n",
       "      <th>0</th>\n",
       "      <td>148 WOODLANDS ST 13</td>\n",
       "      <td>738927</td>\n",
       "      <td>0.21703</td>\n",
       "      <td>2</td>\n",
       "      <td>5</td>\n",
       "    </tr>\n",
       "    <tr>\n",
       "      <th>1</th>\n",
       "      <td>426 CLEMENTI AVE 3</td>\n",
       "      <td>129903</td>\n",
       "      <td>0.402997</td>\n",
       "      <td>4</td>\n",
       "      <td>0</td>\n",
       "    </tr>\n",
       "    <tr>\n",
       "      <th>2</th>\n",
       "      <td>85 CIRCUIT RD</td>\n",
       "      <td>387724</td>\n",
       "      <td>0.498281</td>\n",
       "      <td>3</td>\n",
       "      <td>3</td>\n",
       "    </tr>\n",
       "    <tr>\n",
       "      <th>3</th>\n",
       "      <td>467 TAMPINES ST 44</td>\n",
       "      <td>529565</td>\n",
       "      <td>0.658775</td>\n",
       "      <td>3</td>\n",
       "      <td>8</td>\n",
       "    </tr>\n",
       "    <tr>\n",
       "      <th>4</th>\n",
       "      <td>367 CORPORATION DR</td>\n",
       "      <td>618310</td>\n",
       "      <td>0.130183</td>\n",
       "      <td>2</td>\n",
       "      <td>5</td>\n",
       "    </tr>\n",
       "  </tbody>\n",
       "</table>\n",
       "</div>"
      ],
      "text/plain": [
       "               address  school school_dist num_school_1km  \\\n",
       "0  148 WOODLANDS ST 13  738927     0.21703              2   \n",
       "1   426 CLEMENTI AVE 3  129903    0.402997              4   \n",
       "2        85 CIRCUIT RD  387724    0.498281              3   \n",
       "3   467 TAMPINES ST 44  529565    0.658775              3   \n",
       "4   367 CORPORATION DR  618310    0.130183              2   \n",
       "\n",
       "  number_school_btw_1km_2km  \n",
       "0                         5  \n",
       "1                         0  \n",
       "2                         3  \n",
       "3                         8  \n",
       "4                         5  "
      ]
     },
     "execution_count": 34,
     "metadata": {},
     "output_type": "execute_result"
    }
   ],
   "source": [
    "# Creating a dataframe from the dictionary and renaming the columns\n",
    "nearby_schools_df = pd.DataFrame.from_dict(nearby_schools).T\n",
    "nearby_schools_df = nearby_schools_df.rename(columns={0: 'address', 1: 'school', 2: 'school_dist', 3: 'num_school_1km', 4: 'number_school_btw_1km_2km'}).reset_index(drop=True)\n",
    "nearby_schools_df.head()"
   ]
  },
  {
   "cell_type": "markdown",
   "metadata": {},
   "source": [
    "---\n",
    "## Distance From City Hall Mrt"
   ]
  },
  {
   "cell_type": "markdown",
   "metadata": {},
   "source": [
    "Lastly, we will engineer a feature that reflects the distance of a unique address to the central area of Singapore. In my opinion, City Hall MRT seems to be a good central point within the central area to use to reflect this distance."
   ]
  },
  {
   "cell_type": "code",
   "execution_count": 56,
   "metadata": {},
   "outputs": [
    {
     "data": {
      "text/html": [
       "<div>\n",
       "<style scoped>\n",
       "    .dataframe tbody tr th:only-of-type {\n",
       "        vertical-align: middle;\n",
       "    }\n",
       "\n",
       "    .dataframe tbody tr th {\n",
       "        vertical-align: top;\n",
       "    }\n",
       "\n",
       "    .dataframe thead th {\n",
       "        text-align: right;\n",
       "    }\n",
       "</style>\n",
       "<table border=\"1\" class=\"dataframe\">\n",
       "  <thead>\n",
       "    <tr style=\"text-align: right;\">\n",
       "      <th></th>\n",
       "      <th>address</th>\n",
       "      <th>cityhall_dist</th>\n",
       "    </tr>\n",
       "  </thead>\n",
       "  <tbody>\n",
       "    <tr>\n",
       "      <th>0</th>\n",
       "      <td>148 WOODLANDS ST 13</td>\n",
       "      <td>18.000426</td>\n",
       "    </tr>\n",
       "    <tr>\n",
       "      <th>1</th>\n",
       "      <td>426 CLEMENTI AVE 3</td>\n",
       "      <td>9.982797</td>\n",
       "    </tr>\n",
       "    <tr>\n",
       "      <th>2</th>\n",
       "      <td>85 CIRCUIT RD</td>\n",
       "      <td>4.973693</td>\n",
       "    </tr>\n",
       "    <tr>\n",
       "      <th>3</th>\n",
       "      <td>467 TAMPINES ST 44</td>\n",
       "      <td>13.604509</td>\n",
       "    </tr>\n",
       "    <tr>\n",
       "      <th>4</th>\n",
       "      <td>367 CORPORATION DR</td>\n",
       "      <td>15.586738</td>\n",
       "    </tr>\n",
       "  </tbody>\n",
       "</table>\n",
       "</div>"
      ],
      "text/plain": [
       "               address cityhall_dist\n",
       "0  148 WOODLANDS ST 13     18.000426\n",
       "1   426 CLEMENTI AVE 3      9.982797\n",
       "2        85 CIRCUIT RD      4.973693\n",
       "3   467 TAMPINES ST 44     13.604509\n",
       "4   367 CORPORATION DR     15.586738"
      ]
     },
     "execution_count": 56,
     "metadata": {},
     "output_type": "execute_result"
    }
   ],
   "source": [
    "# Applying the function\n",
    "cityhall_dist = dist_from_location(block_coord, location=(1.2931480783098117, 103.85202188773242))\n",
    "\n",
    "# Creating a dataframe from the dictionary and renaming the columns\n",
    "cityhall_dist = pd.DataFrame.from_dict(cityhall_dist).T\n",
    "cityhall_dist = cityhall_dist.rename(columns={0: 'address', 1: 'cityhall_dist'}).reset_index(drop=True)\n",
    "cityhall_dist.head()"
   ]
  },
  {
   "cell_type": "markdown",
   "metadata": {},
   "source": [
    "---\n",
    "## Merge and Export"
   ]
  },
  {
   "cell_type": "markdown",
   "metadata": {},
   "source": [
    "Now we will need to merge all our newly created datasets so that we can utilise them in our next notebook."
   ]
  },
  {
   "cell_type": "code",
   "execution_count": 59,
   "metadata": {},
   "outputs": [
    {
     "name": "stdout",
     "output_type": "stream",
     "text": [
      "(9462, 19)\n"
     ]
    },
    {
     "data": {
      "text/html": [
       "<div>\n",
       "<style scoped>\n",
       "    .dataframe tbody tr th:only-of-type {\n",
       "        vertical-align: middle;\n",
       "    }\n",
       "\n",
       "    .dataframe tbody tr th {\n",
       "        vertical-align: top;\n",
       "    }\n",
       "\n",
       "    .dataframe thead th {\n",
       "        text-align: right;\n",
       "    }\n",
       "</style>\n",
       "<table border=\"1\" class=\"dataframe\">\n",
       "  <thead>\n",
       "    <tr style=\"text-align: right;\">\n",
       "      <th></th>\n",
       "      <th>address</th>\n",
       "      <th>mrt</th>\n",
       "      <th>mrt_dist</th>\n",
       "      <th>num_mrt_1km</th>\n",
       "      <th>mall</th>\n",
       "      <th>mall_dist</th>\n",
       "      <th>num_mall_1km</th>\n",
       "      <th>supermarket</th>\n",
       "      <th>supermarket_dist</th>\n",
       "      <th>num_supermarket_1km</th>\n",
       "      <th>hawker_dist</th>\n",
       "      <th>num_hawker_1km</th>\n",
       "      <th>park_dist</th>\n",
       "      <th>num_park_1km</th>\n",
       "      <th>school</th>\n",
       "      <th>school_dist</th>\n",
       "      <th>num_school_1km</th>\n",
       "      <th>number_school_btw_1km_2km</th>\n",
       "      <th>cityhall_dist</th>\n",
       "    </tr>\n",
       "  </thead>\n",
       "  <tbody>\n",
       "    <tr>\n",
       "      <th>0</th>\n",
       "      <td>148 WOODLANDS ST 13</td>\n",
       "      <td>MARSILING MRT STATION</td>\n",
       "      <td>0.359246</td>\n",
       "      <td>1</td>\n",
       "      <td>Marsiling Mall</td>\n",
       "      <td>0.695939</td>\n",
       "      <td>1</td>\n",
       "      <td>730182</td>\n",
       "      <td>0.231658</td>\n",
       "      <td>5</td>\n",
       "      <td>0.685467</td>\n",
       "      <td>2</td>\n",
       "      <td>0.50081</td>\n",
       "      <td>2</td>\n",
       "      <td>738927</td>\n",
       "      <td>0.21703</td>\n",
       "      <td>2</td>\n",
       "      <td>5</td>\n",
       "      <td>18.000426</td>\n",
       "    </tr>\n",
       "    <tr>\n",
       "      <th>1</th>\n",
       "      <td>426 CLEMENTI AVE 3</td>\n",
       "      <td>CLEMENTI MRT STATION</td>\n",
       "      <td>0.392851</td>\n",
       "      <td>1</td>\n",
       "      <td>321 Clementi</td>\n",
       "      <td>0.098085</td>\n",
       "      <td>4</td>\n",
       "      <td>120451</td>\n",
       "      <td>0.172466</td>\n",
       "      <td>8</td>\n",
       "      <td>0.188672</td>\n",
       "      <td>5</td>\n",
       "      <td>0.318873</td>\n",
       "      <td>5</td>\n",
       "      <td>129903</td>\n",
       "      <td>0.402997</td>\n",
       "      <td>4</td>\n",
       "      <td>0</td>\n",
       "      <td>9.982797</td>\n",
       "    </tr>\n",
       "    <tr>\n",
       "      <th>2</th>\n",
       "      <td>85 CIRCUIT RD</td>\n",
       "      <td>MATTAR MRT STATION</td>\n",
       "      <td>0.544896</td>\n",
       "      <td>6</td>\n",
       "      <td>Paya Lebar Square</td>\n",
       "      <td>0.870095</td>\n",
       "      <td>1</td>\n",
       "      <td>380114</td>\n",
       "      <td>0.156163</td>\n",
       "      <td>8</td>\n",
       "      <td>0.094512</td>\n",
       "      <td>5</td>\n",
       "      <td>0.233353</td>\n",
       "      <td>2</td>\n",
       "      <td>387724</td>\n",
       "      <td>0.498281</td>\n",
       "      <td>3</td>\n",
       "      <td>3</td>\n",
       "      <td>4.973693</td>\n",
       "    </tr>\n",
       "    <tr>\n",
       "      <th>3</th>\n",
       "      <td>467 TAMPINES ST 44</td>\n",
       "      <td>TAMPINES EAST MRT STATION</td>\n",
       "      <td>0.41771</td>\n",
       "      <td>1</td>\n",
       "      <td>Loyang Point</td>\n",
       "      <td>1.317606</td>\n",
       "      <td>0</td>\n",
       "      <td>520475</td>\n",
       "      <td>0.175411</td>\n",
       "      <td>5</td>\n",
       "      <td>1.528611</td>\n",
       "      <td>0</td>\n",
       "      <td>0.795132</td>\n",
       "      <td>1</td>\n",
       "      <td>529565</td>\n",
       "      <td>0.658775</td>\n",
       "      <td>3</td>\n",
       "      <td>8</td>\n",
       "      <td>13.604509</td>\n",
       "    </tr>\n",
       "    <tr>\n",
       "      <th>4</th>\n",
       "      <td>367 CORPORATION DR</td>\n",
       "      <td>LAKESIDE MRT STATION</td>\n",
       "      <td>0.753707</td>\n",
       "      <td>1</td>\n",
       "      <td>Taman Jurong Shopping Centre</td>\n",
       "      <td>0.347819</td>\n",
       "      <td>1</td>\n",
       "      <td>610399</td>\n",
       "      <td>0.319123</td>\n",
       "      <td>2</td>\n",
       "      <td>0.43349</td>\n",
       "      <td>1</td>\n",
       "      <td>0.269495</td>\n",
       "      <td>2</td>\n",
       "      <td>618310</td>\n",
       "      <td>0.130183</td>\n",
       "      <td>2</td>\n",
       "      <td>5</td>\n",
       "      <td>15.586738</td>\n",
       "    </tr>\n",
       "  </tbody>\n",
       "</table>\n",
       "</div>"
      ],
      "text/plain": [
       "               address                        mrt  mrt_dist num_mrt_1km  \\\n",
       "0  148 WOODLANDS ST 13      MARSILING MRT STATION  0.359246           1   \n",
       "1   426 CLEMENTI AVE 3       CLEMENTI MRT STATION  0.392851           1   \n",
       "2        85 CIRCUIT RD         MATTAR MRT STATION  0.544896           6   \n",
       "3   467 TAMPINES ST 44  TAMPINES EAST MRT STATION   0.41771           1   \n",
       "4   367 CORPORATION DR       LAKESIDE MRT STATION  0.753707           1   \n",
       "\n",
       "                           mall mall_dist num_mall_1km supermarket  \\\n",
       "0                Marsiling Mall  0.695939            1      730182   \n",
       "1                  321 Clementi  0.098085            4      120451   \n",
       "2             Paya Lebar Square  0.870095            1      380114   \n",
       "3                  Loyang Point  1.317606            0      520475   \n",
       "4  Taman Jurong Shopping Centre  0.347819            1      610399   \n",
       "\n",
       "  supermarket_dist num_supermarket_1km hawker_dist num_hawker_1km park_dist  \\\n",
       "0         0.231658                   5    0.685467              2   0.50081   \n",
       "1         0.172466                   8    0.188672              5  0.318873   \n",
       "2         0.156163                   8    0.094512              5  0.233353   \n",
       "3         0.175411                   5    1.528611              0  0.795132   \n",
       "4         0.319123                   2     0.43349              1  0.269495   \n",
       "\n",
       "  num_park_1km  school school_dist num_school_1km number_school_btw_1km_2km  \\\n",
       "0            2  738927     0.21703              2                         5   \n",
       "1            5  129903    0.402997              4                         0   \n",
       "2            2  387724    0.498281              3                         3   \n",
       "3            1  529565    0.658775              3                         8   \n",
       "4            2  618310    0.130183              2                         5   \n",
       "\n",
       "  cityhall_dist  \n",
       "0     18.000426  \n",
       "1      9.982797  \n",
       "2      4.973693  \n",
       "3     13.604509  \n",
       "4     15.586738  "
      ]
     },
     "execution_count": 59,
     "metadata": {},
     "output_type": "execute_result"
    }
   ],
   "source": [
    "# Merge all dataframes\n",
    "\n",
    "nearby_amenities = nearby_mrt_df.merge(nearby_malls_df, on='address', how='outer')\n",
    "nearby_amenities = nearby_amenities.merge(nearby_supermarkets_df, on='address', how='outer')\n",
    "nearby_amenities = nearby_amenities.merge(nearby_hawkers_df, on='address', how='outer')\n",
    "nearby_amenities = nearby_amenities.merge(nearby_parks_df, on='address', how='outer')\n",
    "nearby_amenities = nearby_amenities.merge(nearby_schools_df, on='address', how='outer')\n",
    "nearby_amenities = nearby_amenities.merge(cityhall_dist, on='address', how='outer')\n",
    "\n",
    "print(nearby_amenities.shape)\n",
    "nearby_amenities.head()"
   ]
  },
  {
   "cell_type": "code",
   "execution_count": 60,
   "metadata": {},
   "outputs": [],
   "source": [
    "# Exporting the dataframe to a csv file\n",
    "nearby_amenities.to_csv('../data/nearby_amenities.csv', index=False)"
   ]
  },
  {
   "cell_type": "markdown",
   "metadata": {},
   "source": [
    "---"
   ]
  }
 ],
 "metadata": {
  "kernelspec": {
   "display_name": "Python 3.8.13 ('dsi-py')",
   "language": "python",
   "name": "python3"
  },
  "language_info": {
   "codemirror_mode": {
    "name": "ipython",
    "version": 3
   },
   "file_extension": ".py",
   "mimetype": "text/x-python",
   "name": "python",
   "nbconvert_exporter": "python",
   "pygments_lexer": "ipython3",
   "version": "3.8.13"
  },
  "orig_nbformat": 4,
  "vscode": {
   "interpreter": {
    "hash": "e2243810255c82d1e432d0f3d4ef1910c461be41757c98f4c085c6d708c3dbaa"
   }
  }
 },
 "nbformat": 4,
 "nbformat_minor": 2
}
